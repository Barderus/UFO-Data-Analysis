{
 "cells": [
  {
   "cell_type": "code",
   "id": "initial_id",
   "metadata": {
    "collapsed": true,
    "ExecuteTime": {
     "end_time": "2025-05-19T17:36:39.182452Z",
     "start_time": "2025-05-19T17:36:37.130567Z"
    }
   },
   "source": [
    "import numpy as np\n",
    "import pandas as pd\n",
    "import scipy.stats as stats\n",
    "from sklearn.preprocessing import MinMaxScaler\n",
    "\n",
    "# Ignore useless warnings\n",
    "import warnings\n",
    "\n",
    "warnings.filterwarnings('ignore')\n",
    "\n",
    "from scripts.load_data import load_ufo_data\n",
    "from scripts.clean_data import clean_columns, preprocess_datetime, standardize_values\n",
    "\n",
    "df = load_ufo_data(\"../data/scrubbed.csv\")\n",
    "df = clean_columns(df)\n",
    "df = preprocess_datetime(df)\n",
    "df = standardize_values(df)"
   ],
   "outputs": [],
   "execution_count": 2
  },
  {
   "metadata": {
    "ExecuteTime": {
     "end_time": "2025-05-19T17:36:48.187789Z",
     "start_time": "2025-05-19T17:36:48.057868Z"
    }
   },
   "cell_type": "code",
   "source": [
    "df_cor = df[[\"City\", \"State\", \"Country\", \"Shape\"]].dropna()\n",
    "print(df_cor.info())"
   ],
   "id": "b8da7477d24ac52e",
   "outputs": [
    {
     "name": "stdout",
     "output_type": "stream",
     "text": [
      "<class 'pandas.core.frame.DataFrame'>\n",
      "Index: 66524 entries, 0 to 80331\n",
      "Data columns (total 4 columns):\n",
      " #   Column   Non-Null Count  Dtype \n",
      "---  ------   --------------  ----- \n",
      " 0   City     66524 non-null  object\n",
      " 1   State    66524 non-null  object\n",
      " 2   Country  66524 non-null  object\n",
      " 3   Shape    66524 non-null  object\n",
      "dtypes: object(4)\n",
      "memory usage: 2.5+ MB\n",
      "None\n"
     ]
    }
   ],
   "execution_count": 3
  },
  {
   "metadata": {
    "ExecuteTime": {
     "end_time": "2025-05-19T17:36:56.339429Z",
     "start_time": "2025-05-19T17:36:55.468941Z"
    }
   },
   "cell_type": "code",
   "source": [
    "cont_city_shape = pd.crosstab(df_cor[\"City\"], df_cor[\"Shape\"])\n",
    "cont_country_shape = pd.crosstab(df_cor[\"Country\"], df_cor[\"Shape\"])"
   ],
   "id": "9f60912b062c01b7",
   "outputs": [],
   "execution_count": 4
  },
  {
   "metadata": {
    "ExecuteTime": {
     "end_time": "2025-05-19T17:37:13.808214Z",
     "start_time": "2025-05-19T17:37:13.772483Z"
    }
   },
   "cell_type": "code",
   "source": [
    "chi1, p1, dof1, _ = stats.chi2_contingency(cont_city_shape)\n",
    "chi2, p2, dof2, _ = stats.chi2_contingency(cont_country_shape)\n",
    "\n",
    "print(f\"City vs Shape → χ²={chi1:.2f}, p={p1:.4f}, dof={dof1}\")\n",
    "print(f\"Country vs Shape → χ²={chi2:.2f}, p={p2:.4f}, dof={dof2}\")"
   ],
   "id": "e83fba088f874b06",
   "outputs": [
    {
     "name": "stdout",
     "output_type": "stream",
     "text": [
      "City vs Shape → χ²=265824.51, p=1.0000, dof=298053\n",
      "Country vs Shape → χ²=57.29, p=0.9788, dof=81\n"
     ]
    }
   ],
   "execution_count": 6
  },
  {
   "metadata": {
    "ExecuteTime": {
     "end_time": "2025-05-19T17:37:24.626498Z",
     "start_time": "2025-05-19T17:37:24.591724Z"
    }
   },
   "cell_type": "code",
   "source": [
    "chi1_ll, p1_ll, *_ = stats.chi2_contingency(cont_city_shape, lambda_=\"log-likelihood\")\n",
    "chi2_ll, p2_ll, *_ = stats.chi2_contingency(cont_country_shape, lambda_=\"log-likelihood\")\n",
    "\n",
    "print(f\"City vs Shape (Log-Likelihood) → p={p1_ll:.4f}\")\n",
    "print(f\"Country vs Shape (Log-Likelihood) → p={p2_ll:.4f}\")"
   ],
   "id": "46da18dd561329e2",
   "outputs": [
    {
     "name": "stdout",
     "output_type": "stream",
     "text": [
      "City vs Shape (Log-Likelihood) → p=1.0000\n",
      "Country vs Shape (Log-Likelihood) → p=0.9902\n"
     ]
    }
   ],
   "execution_count": 7
  },
  {
   "metadata": {
    "ExecuteTime": {
     "end_time": "2025-05-19T17:37:39.372768Z",
     "start_time": "2025-05-19T17:37:39.359444Z"
    }
   },
   "cell_type": "code",
   "source": [
    "def cramers_v(conf_matrix, chi_stat):\n",
    "    n = conf_matrix.sum().sum()\n",
    "    min_dim = min(conf_matrix.shape) - 1\n",
    "    return np.sqrt(chi_stat / (n * min_dim))\n",
    "\n",
    "cv_city = cramers_v(cont_city_shape, chi1)\n",
    "cv_country = cramers_v(cont_country_shape, chi2)\n",
    "\n",
    "print(f\"Cramér’s V (City vs Shape): {cv_city:.4f}\")\n",
    "print(f\"Cramér’s V (Country vs Shape): {cv_country:.4f}\")"
   ],
   "id": "da5eca8c2f1d5935",
   "outputs": [
    {
     "name": "stdout",
     "output_type": "stream",
     "text": [
      "Cramér’s V (City vs Shape): 0.3847\n",
      "Cramér’s V (Country vs Shape): 0.0169\n"
     ]
    }
   ],
   "execution_count": 8
  },
  {
   "metadata": {
    "ExecuteTime": {
     "end_time": "2025-05-19T17:37:42.575195Z",
     "start_time": "2025-05-19T17:37:42.568498Z"
    }
   },
   "cell_type": "code",
   "source": "scaler = MinMaxScaler()",
   "id": "beb5116bb5c1a545",
   "outputs": [],
   "execution_count": 9
  },
  {
   "metadata": {
    "ExecuteTime": {
     "end_time": "2025-05-19T17:37:50.218594Z",
     "start_time": "2025-05-19T17:37:50.163999Z"
    }
   },
   "cell_type": "code",
   "source": [
    "scaled_city = cont_city_shape.copy()\n",
    "scaled_city.iloc[:, :] = scaler.fit_transform(scaled_city)\n",
    "\n",
    "scaled_country = cont_country_shape.copy()\n",
    "scaled_country.iloc[:, :] = scaler.fit_transform(scaled_country)"
   ],
   "id": "2049f4dfe4541bd8",
   "outputs": [],
   "execution_count": 10
  },
  {
   "metadata": {
    "ExecuteTime": {
     "end_time": "2025-05-19T17:37:57.762523Z",
     "start_time": "2025-05-19T17:37:57.751454Z"
    }
   },
   "cell_type": "code",
   "source": "scaled_country += 1e-10",
   "id": "4cee450273aca8aa",
   "outputs": [],
   "execution_count": 11
  },
  {
   "metadata": {
    "ExecuteTime": {
     "end_time": "2025-05-19T17:38:05.113035Z",
     "start_time": "2025-05-19T17:38:05.086187Z"
    }
   },
   "cell_type": "code",
   "source": [
    "chi3, p3, dof3, _ = stats.chi2_contingency(scaled_city)\n",
    "chi4, p4, dof4, _ = stats.chi2_contingency(scaled_country)\n",
    "\n",
    "print(f\"Scaled City vs Shape → χ²={chi3:.2f}, p={p3:.4f}, dof={dof3}\")\n",
    "print(f\"Scaled Country vs Shape → χ²={chi4:.2f}, p={p4:.4f}, dof={dof4}\")"
   ],
   "id": "6286acfca6b6583a",
   "outputs": [
    {
     "name": "stdout",
     "output_type": "stream",
     "text": [
      "Scaled City vs Shape → χ²=19797.50, p=1.0000, dof=298053\n",
      "Scaled Country vs Shape → χ²=0.64, p=1.0000, dof=81\n"
     ]
    }
   ],
   "execution_count": 12
  },
  {
   "metadata": {},
   "cell_type": "markdown",
   "source": [
    "- A chi-square test found **no statistically significant association** between UFO shape and either city or country (p ≈ 1.0).\n",
    "- The large number of unique cities creates a **sparse matrix**, likely invalidating the test despite a large χ².\n",
    "- **Cramér’s V** suggests a **weak or negligible effect size**, especially for country-level analysis.\n",
    "- Even with Min-Max scaling applied, results did not improve, confirming no meaningful correlation.\n",
    "\n",
    "📌 **Conclusion:** There is **no strong evidence** to support that reported UFO shapes vary meaningfully by city or country."
   ],
   "id": "70581885f8c26216"
  }
 ],
 "metadata": {
  "kernelspec": {
   "display_name": "Python 3",
   "language": "python",
   "name": "python3"
  },
  "language_info": {
   "codemirror_mode": {
    "name": "ipython",
    "version": 2
   },
   "file_extension": ".py",
   "mimetype": "text/x-python",
   "name": "python",
   "nbconvert_exporter": "python",
   "pygments_lexer": "ipython2",
   "version": "2.7.6"
  }
 },
 "nbformat": 4,
 "nbformat_minor": 5
}
