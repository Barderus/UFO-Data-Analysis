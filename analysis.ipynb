{
 "cells": [
  {
   "cell_type": "code",
   "id": "initial_id",
   "metadata": {
    "collapsed": true,
    "ExecuteTime": {
     "end_time": "2025-02-17T09:06:22.795080Z",
     "start_time": "2025-02-17T09:06:22.787470Z"
    }
   },
   "source": [
    "import numpy as np\n",
    "import pandas as pd\n",
    "import matplotlib.pyplot as plt\n",
    "import seaborn as sns\n",
    "\n",
    "# Ignore useless warnings\n",
    "import warnings\n",
    "warnings.filterwarnings('ignore')"
   ],
   "outputs": [],
   "execution_count": 77
  },
  {
   "metadata": {
    "ExecuteTime": {
     "end_time": "2025-02-17T09:06:23.128805Z",
     "start_time": "2025-02-17T09:06:22.844034Z"
    }
   },
   "cell_type": "code",
   "source": "df = pd.read_csv(\"../Datasets/UFO-dataset/scrubbed.csv\", low_memory=False)",
   "id": "74c5b727742d2185",
   "outputs": [],
   "execution_count": 78
  },
  {
   "metadata": {
    "ExecuteTime": {
     "end_time": "2025-02-17T09:06:23.181476Z",
     "start_time": "2025-02-17T09:06:23.135982Z"
    }
   },
   "cell_type": "code",
   "source": "df.info()",
   "id": "cf6ec0d6e8e805aa",
   "outputs": [
    {
     "name": "stdout",
     "output_type": "stream",
     "text": [
      "<class 'pandas.core.frame.DataFrame'>\n",
      "RangeIndex: 80332 entries, 0 to 80331\n",
      "Data columns (total 11 columns):\n",
      " #   Column                Non-Null Count  Dtype  \n",
      "---  ------                --------------  -----  \n",
      " 0   datetime              80332 non-null  object \n",
      " 1   city                  80332 non-null  object \n",
      " 2   state                 74535 non-null  object \n",
      " 3   country               70662 non-null  object \n",
      " 4   shape                 78400 non-null  object \n",
      " 5   duration (seconds)    80332 non-null  object \n",
      " 6   duration (hours/min)  80332 non-null  object \n",
      " 7   comments              80317 non-null  object \n",
      " 8   date posted           80332 non-null  object \n",
      " 9   latitude              80332 non-null  object \n",
      " 10  longitude             80332 non-null  float64\n",
      "dtypes: float64(1), object(10)\n",
      "memory usage: 6.7+ MB\n"
     ]
    }
   ],
   "execution_count": 79
  },
  {
   "metadata": {
    "ExecuteTime": {
     "end_time": "2025-02-17T09:06:23.232478Z",
     "start_time": "2025-02-17T09:06:23.214241Z"
    }
   },
   "cell_type": "code",
   "source": [
    "df = df.rename(columns={\"datetime\":\"Datetime\",\n",
    "           \"city\":\"City\",\n",
    "           \"state\":\"State\",\n",
    "           \"country\":\"Country\",\n",
    "           \"shape\":\"Shape\",\n",
    "           \"duration (seconds)\": \"Duration (seconds)\",\n",
    "           \"duration (hours/min)\": \"Duration (hours/min)\",\n",
    "           \"comments\":\"Comments\",\n",
    "           \"date posted\":\"Date_Posted\",\n",
    "           \"latitude\":\"Latitude\",\n",
    "           \"longitude\":\"Longitude\",\n",
    "           })"
   ],
   "id": "89f8424c38151417",
   "outputs": [],
   "execution_count": 80
  },
  {
   "metadata": {
    "ExecuteTime": {
     "end_time": "2025-02-17T09:06:23.275507Z",
     "start_time": "2025-02-17T09:06:23.259530Z"
    }
   },
   "cell_type": "code",
   "source": "df.head()",
   "id": "63abd314bf307264",
   "outputs": [
    {
     "data": {
      "text/plain": [
       "           Datetime                  City State Country     Shape  \\\n",
       "0  10/10/1949 20:30            san marcos    tx      us  cylinder   \n",
       "1  10/10/1949 21:00          lackland afb    tx     NaN     light   \n",
       "2  10/10/1955 17:00  chester (uk/england)   NaN      gb    circle   \n",
       "3  10/10/1956 21:00                  edna    tx      us    circle   \n",
       "4  10/10/1960 20:00               kaneohe    hi      us     light   \n",
       "\n",
       "  Duration (seconds) Duration (hours/min)  \\\n",
       "0               2700           45 minutes   \n",
       "1               7200              1-2 hrs   \n",
       "2                 20           20 seconds   \n",
       "3                 20             1/2 hour   \n",
       "4                900           15 minutes   \n",
       "\n",
       "                                            Comments Date_Posted    Latitude  \\\n",
       "0  This event took place in early fall around 194...   4/27/2004  29.8830556   \n",
       "1  1949 Lackland AFB&#44 TX.  Lights racing acros...  12/16/2005    29.38421   \n",
       "2  Green/Orange circular disc over Chester&#44 En...   1/21/2008        53.2   \n",
       "3  My older brother and twin sister were leaving ...   1/17/2004  28.9783333   \n",
       "4  AS a Marine 1st Lt. flying an FJ4B fighter/att...   1/22/2004  21.4180556   \n",
       "\n",
       "   longitude   \n",
       "0  -97.941111  \n",
       "1  -98.581082  \n",
       "2   -2.916667  \n",
       "3  -96.645833  \n",
       "4 -157.803611  "
      ],
      "text/html": [
       "<div>\n",
       "<style scoped>\n",
       "    .dataframe tbody tr th:only-of-type {\n",
       "        vertical-align: middle;\n",
       "    }\n",
       "\n",
       "    .dataframe tbody tr th {\n",
       "        vertical-align: top;\n",
       "    }\n",
       "\n",
       "    .dataframe thead th {\n",
       "        text-align: right;\n",
       "    }\n",
       "</style>\n",
       "<table border=\"1\" class=\"dataframe\">\n",
       "  <thead>\n",
       "    <tr style=\"text-align: right;\">\n",
       "      <th></th>\n",
       "      <th>Datetime</th>\n",
       "      <th>City</th>\n",
       "      <th>State</th>\n",
       "      <th>Country</th>\n",
       "      <th>Shape</th>\n",
       "      <th>Duration (seconds)</th>\n",
       "      <th>Duration (hours/min)</th>\n",
       "      <th>Comments</th>\n",
       "      <th>Date_Posted</th>\n",
       "      <th>Latitude</th>\n",
       "      <th>longitude</th>\n",
       "    </tr>\n",
       "  </thead>\n",
       "  <tbody>\n",
       "    <tr>\n",
       "      <th>0</th>\n",
       "      <td>10/10/1949 20:30</td>\n",
       "      <td>san marcos</td>\n",
       "      <td>tx</td>\n",
       "      <td>us</td>\n",
       "      <td>cylinder</td>\n",
       "      <td>2700</td>\n",
       "      <td>45 minutes</td>\n",
       "      <td>This event took place in early fall around 194...</td>\n",
       "      <td>4/27/2004</td>\n",
       "      <td>29.8830556</td>\n",
       "      <td>-97.941111</td>\n",
       "    </tr>\n",
       "    <tr>\n",
       "      <th>1</th>\n",
       "      <td>10/10/1949 21:00</td>\n",
       "      <td>lackland afb</td>\n",
       "      <td>tx</td>\n",
       "      <td>NaN</td>\n",
       "      <td>light</td>\n",
       "      <td>7200</td>\n",
       "      <td>1-2 hrs</td>\n",
       "      <td>1949 Lackland AFB&amp;#44 TX.  Lights racing acros...</td>\n",
       "      <td>12/16/2005</td>\n",
       "      <td>29.38421</td>\n",
       "      <td>-98.581082</td>\n",
       "    </tr>\n",
       "    <tr>\n",
       "      <th>2</th>\n",
       "      <td>10/10/1955 17:00</td>\n",
       "      <td>chester (uk/england)</td>\n",
       "      <td>NaN</td>\n",
       "      <td>gb</td>\n",
       "      <td>circle</td>\n",
       "      <td>20</td>\n",
       "      <td>20 seconds</td>\n",
       "      <td>Green/Orange circular disc over Chester&amp;#44 En...</td>\n",
       "      <td>1/21/2008</td>\n",
       "      <td>53.2</td>\n",
       "      <td>-2.916667</td>\n",
       "    </tr>\n",
       "    <tr>\n",
       "      <th>3</th>\n",
       "      <td>10/10/1956 21:00</td>\n",
       "      <td>edna</td>\n",
       "      <td>tx</td>\n",
       "      <td>us</td>\n",
       "      <td>circle</td>\n",
       "      <td>20</td>\n",
       "      <td>1/2 hour</td>\n",
       "      <td>My older brother and twin sister were leaving ...</td>\n",
       "      <td>1/17/2004</td>\n",
       "      <td>28.9783333</td>\n",
       "      <td>-96.645833</td>\n",
       "    </tr>\n",
       "    <tr>\n",
       "      <th>4</th>\n",
       "      <td>10/10/1960 20:00</td>\n",
       "      <td>kaneohe</td>\n",
       "      <td>hi</td>\n",
       "      <td>us</td>\n",
       "      <td>light</td>\n",
       "      <td>900</td>\n",
       "      <td>15 minutes</td>\n",
       "      <td>AS a Marine 1st Lt. flying an FJ4B fighter/att...</td>\n",
       "      <td>1/22/2004</td>\n",
       "      <td>21.4180556</td>\n",
       "      <td>-157.803611</td>\n",
       "    </tr>\n",
       "  </tbody>\n",
       "</table>\n",
       "</div>"
      ]
     },
     "execution_count": 81,
     "metadata": {},
     "output_type": "execute_result"
    }
   ],
   "execution_count": 81
  },
  {
   "metadata": {},
   "cell_type": "markdown",
   "source": [
    "## Data Cleaning tasks:\n",
    "* Split the dates from time\n",
    "* Transfrom string into datetime obj\n",
    "* Capitalize States name\n",
    "* Capitalize country names"
   ],
   "id": "2e0c29f5e17988e3"
  },
  {
   "metadata": {},
   "cell_type": "markdown",
   "source": "### Spliting the datime column and data transformation",
   "id": "3d259bcfd94d5500"
  },
  {
   "metadata": {
    "ExecuteTime": {
     "end_time": "2025-02-17T09:06:23.741820Z",
     "start_time": "2025-02-17T09:06:23.339773Z"
    }
   },
   "cell_type": "code",
   "source": [
    "df[\"Year\"] = df[\"Datetime\"].str.split(\" \").str[0]\n",
    "df[\"Time\"] = df[\"Datetime\"].str.split(\" \").str[1]\n",
    "df = df.drop(columns=[\"Datetime\"])"
   ],
   "id": "a0d7866099ab9f29",
   "outputs": [],
   "execution_count": 82
  },
  {
   "metadata": {
    "ExecuteTime": {
     "end_time": "2025-02-17T09:06:23.799759Z",
     "start_time": "2025-02-17T09:06:23.783029Z"
    }
   },
   "cell_type": "code",
   "source": "df.head()",
   "id": "5b3ca9ccdf465145",
   "outputs": [
    {
     "data": {
      "text/plain": [
       "                   City State Country     Shape Duration (seconds)  \\\n",
       "0            san marcos    tx      us  cylinder               2700   \n",
       "1          lackland afb    tx     NaN     light               7200   \n",
       "2  chester (uk/england)   NaN      gb    circle                 20   \n",
       "3                  edna    tx      us    circle                 20   \n",
       "4               kaneohe    hi      us     light                900   \n",
       "\n",
       "  Duration (hours/min)                                           Comments  \\\n",
       "0           45 minutes  This event took place in early fall around 194...   \n",
       "1              1-2 hrs  1949 Lackland AFB&#44 TX.  Lights racing acros...   \n",
       "2           20 seconds  Green/Orange circular disc over Chester&#44 En...   \n",
       "3             1/2 hour  My older brother and twin sister were leaving ...   \n",
       "4           15 minutes  AS a Marine 1st Lt. flying an FJ4B fighter/att...   \n",
       "\n",
       "  Date_Posted    Latitude  longitude         Year   Time  \n",
       "0   4/27/2004  29.8830556  -97.941111  10/10/1949  20:30  \n",
       "1  12/16/2005    29.38421  -98.581082  10/10/1949  21:00  \n",
       "2   1/21/2008        53.2   -2.916667  10/10/1955  17:00  \n",
       "3   1/17/2004  28.9783333  -96.645833  10/10/1956  21:00  \n",
       "4   1/22/2004  21.4180556 -157.803611  10/10/1960  20:00  "
      ],
      "text/html": [
       "<div>\n",
       "<style scoped>\n",
       "    .dataframe tbody tr th:only-of-type {\n",
       "        vertical-align: middle;\n",
       "    }\n",
       "\n",
       "    .dataframe tbody tr th {\n",
       "        vertical-align: top;\n",
       "    }\n",
       "\n",
       "    .dataframe thead th {\n",
       "        text-align: right;\n",
       "    }\n",
       "</style>\n",
       "<table border=\"1\" class=\"dataframe\">\n",
       "  <thead>\n",
       "    <tr style=\"text-align: right;\">\n",
       "      <th></th>\n",
       "      <th>City</th>\n",
       "      <th>State</th>\n",
       "      <th>Country</th>\n",
       "      <th>Shape</th>\n",
       "      <th>Duration (seconds)</th>\n",
       "      <th>Duration (hours/min)</th>\n",
       "      <th>Comments</th>\n",
       "      <th>Date_Posted</th>\n",
       "      <th>Latitude</th>\n",
       "      <th>longitude</th>\n",
       "      <th>Year</th>\n",
       "      <th>Time</th>\n",
       "    </tr>\n",
       "  </thead>\n",
       "  <tbody>\n",
       "    <tr>\n",
       "      <th>0</th>\n",
       "      <td>san marcos</td>\n",
       "      <td>tx</td>\n",
       "      <td>us</td>\n",
       "      <td>cylinder</td>\n",
       "      <td>2700</td>\n",
       "      <td>45 minutes</td>\n",
       "      <td>This event took place in early fall around 194...</td>\n",
       "      <td>4/27/2004</td>\n",
       "      <td>29.8830556</td>\n",
       "      <td>-97.941111</td>\n",
       "      <td>10/10/1949</td>\n",
       "      <td>20:30</td>\n",
       "    </tr>\n",
       "    <tr>\n",
       "      <th>1</th>\n",
       "      <td>lackland afb</td>\n",
       "      <td>tx</td>\n",
       "      <td>NaN</td>\n",
       "      <td>light</td>\n",
       "      <td>7200</td>\n",
       "      <td>1-2 hrs</td>\n",
       "      <td>1949 Lackland AFB&amp;#44 TX.  Lights racing acros...</td>\n",
       "      <td>12/16/2005</td>\n",
       "      <td>29.38421</td>\n",
       "      <td>-98.581082</td>\n",
       "      <td>10/10/1949</td>\n",
       "      <td>21:00</td>\n",
       "    </tr>\n",
       "    <tr>\n",
       "      <th>2</th>\n",
       "      <td>chester (uk/england)</td>\n",
       "      <td>NaN</td>\n",
       "      <td>gb</td>\n",
       "      <td>circle</td>\n",
       "      <td>20</td>\n",
       "      <td>20 seconds</td>\n",
       "      <td>Green/Orange circular disc over Chester&amp;#44 En...</td>\n",
       "      <td>1/21/2008</td>\n",
       "      <td>53.2</td>\n",
       "      <td>-2.916667</td>\n",
       "      <td>10/10/1955</td>\n",
       "      <td>17:00</td>\n",
       "    </tr>\n",
       "    <tr>\n",
       "      <th>3</th>\n",
       "      <td>edna</td>\n",
       "      <td>tx</td>\n",
       "      <td>us</td>\n",
       "      <td>circle</td>\n",
       "      <td>20</td>\n",
       "      <td>1/2 hour</td>\n",
       "      <td>My older brother and twin sister were leaving ...</td>\n",
       "      <td>1/17/2004</td>\n",
       "      <td>28.9783333</td>\n",
       "      <td>-96.645833</td>\n",
       "      <td>10/10/1956</td>\n",
       "      <td>21:00</td>\n",
       "    </tr>\n",
       "    <tr>\n",
       "      <th>4</th>\n",
       "      <td>kaneohe</td>\n",
       "      <td>hi</td>\n",
       "      <td>us</td>\n",
       "      <td>light</td>\n",
       "      <td>900</td>\n",
       "      <td>15 minutes</td>\n",
       "      <td>AS a Marine 1st Lt. flying an FJ4B fighter/att...</td>\n",
       "      <td>1/22/2004</td>\n",
       "      <td>21.4180556</td>\n",
       "      <td>-157.803611</td>\n",
       "      <td>10/10/1960</td>\n",
       "      <td>20:00</td>\n",
       "    </tr>\n",
       "  </tbody>\n",
       "</table>\n",
       "</div>"
      ]
     },
     "execution_count": 83,
     "metadata": {},
     "output_type": "execute_result"
    }
   ],
   "execution_count": 83
  },
  {
   "metadata": {
    "ExecuteTime": {
     "end_time": "2025-02-17T09:06:23.962204Z",
     "start_time": "2025-02-17T09:06:23.877278Z"
    }
   },
   "cell_type": "code",
   "source": [
    "df[\"Year\"] = pd.to_datetime(df[\"Year\"])\n",
    "df[\"Date_Posted\"] = pd.to_datetime(df[\"Date_Posted\"])"
   ],
   "id": "e90f9f7a41ebaab3",
   "outputs": [],
   "execution_count": 84
  },
  {
   "metadata": {
    "ExecuteTime": {
     "end_time": "2025-02-17T09:06:24.191007Z",
     "start_time": "2025-02-17T09:06:24.039422Z"
    }
   },
   "cell_type": "code",
   "source": [
    "df[\"State\"] = df[\"State\"].str.upper()\n",
    "df[\"Country\"] = df[\"Country\"].str.upper()\n",
    "df[\"Shape\"] = df[\"Shape\"].str.capitalize()\n",
    "df[\"City\"] = df[\"City\"].str.capitalize()\n",
    "df[\"City\"] = df[\"City\"].str.split(\"(\").str[0]"
   ],
   "id": "3a2d6af83266740a",
   "outputs": [],
   "execution_count": 85
  },
  {
   "metadata": {
    "ExecuteTime": {
     "end_time": "2025-02-17T09:06:24.211594Z",
     "start_time": "2025-02-17T09:06:24.199250Z"
    }
   },
   "cell_type": "code",
   "source": "df.head()",
   "id": "69d39b2667be3a72",
   "outputs": [
    {
     "data": {
      "text/plain": [
       "           City State Country     Shape Duration (seconds)  \\\n",
       "0    San marcos    TX      US  Cylinder               2700   \n",
       "1  Lackland afb    TX     NaN     Light               7200   \n",
       "2      Chester    NaN      GB    Circle                 20   \n",
       "3          Edna    TX      US    Circle                 20   \n",
       "4       Kaneohe    HI      US     Light                900   \n",
       "\n",
       "  Duration (hours/min)                                           Comments  \\\n",
       "0           45 minutes  This event took place in early fall around 194...   \n",
       "1              1-2 hrs  1949 Lackland AFB&#44 TX.  Lights racing acros...   \n",
       "2           20 seconds  Green/Orange circular disc over Chester&#44 En...   \n",
       "3             1/2 hour  My older brother and twin sister were leaving ...   \n",
       "4           15 minutes  AS a Marine 1st Lt. flying an FJ4B fighter/att...   \n",
       "\n",
       "  Date_Posted    Latitude  longitude        Year   Time  \n",
       "0  2004-04-27  29.8830556  -97.941111 1949-10-10  20:30  \n",
       "1  2005-12-16    29.38421  -98.581082 1949-10-10  21:00  \n",
       "2  2008-01-21        53.2   -2.916667 1955-10-10  17:00  \n",
       "3  2004-01-17  28.9783333  -96.645833 1956-10-10  21:00  \n",
       "4  2004-01-22  21.4180556 -157.803611 1960-10-10  20:00  "
      ],
      "text/html": [
       "<div>\n",
       "<style scoped>\n",
       "    .dataframe tbody tr th:only-of-type {\n",
       "        vertical-align: middle;\n",
       "    }\n",
       "\n",
       "    .dataframe tbody tr th {\n",
       "        vertical-align: top;\n",
       "    }\n",
       "\n",
       "    .dataframe thead th {\n",
       "        text-align: right;\n",
       "    }\n",
       "</style>\n",
       "<table border=\"1\" class=\"dataframe\">\n",
       "  <thead>\n",
       "    <tr style=\"text-align: right;\">\n",
       "      <th></th>\n",
       "      <th>City</th>\n",
       "      <th>State</th>\n",
       "      <th>Country</th>\n",
       "      <th>Shape</th>\n",
       "      <th>Duration (seconds)</th>\n",
       "      <th>Duration (hours/min)</th>\n",
       "      <th>Comments</th>\n",
       "      <th>Date_Posted</th>\n",
       "      <th>Latitude</th>\n",
       "      <th>longitude</th>\n",
       "      <th>Year</th>\n",
       "      <th>Time</th>\n",
       "    </tr>\n",
       "  </thead>\n",
       "  <tbody>\n",
       "    <tr>\n",
       "      <th>0</th>\n",
       "      <td>San marcos</td>\n",
       "      <td>TX</td>\n",
       "      <td>US</td>\n",
       "      <td>Cylinder</td>\n",
       "      <td>2700</td>\n",
       "      <td>45 minutes</td>\n",
       "      <td>This event took place in early fall around 194...</td>\n",
       "      <td>2004-04-27</td>\n",
       "      <td>29.8830556</td>\n",
       "      <td>-97.941111</td>\n",
       "      <td>1949-10-10</td>\n",
       "      <td>20:30</td>\n",
       "    </tr>\n",
       "    <tr>\n",
       "      <th>1</th>\n",
       "      <td>Lackland afb</td>\n",
       "      <td>TX</td>\n",
       "      <td>NaN</td>\n",
       "      <td>Light</td>\n",
       "      <td>7200</td>\n",
       "      <td>1-2 hrs</td>\n",
       "      <td>1949 Lackland AFB&amp;#44 TX.  Lights racing acros...</td>\n",
       "      <td>2005-12-16</td>\n",
       "      <td>29.38421</td>\n",
       "      <td>-98.581082</td>\n",
       "      <td>1949-10-10</td>\n",
       "      <td>21:00</td>\n",
       "    </tr>\n",
       "    <tr>\n",
       "      <th>2</th>\n",
       "      <td>Chester</td>\n",
       "      <td>NaN</td>\n",
       "      <td>GB</td>\n",
       "      <td>Circle</td>\n",
       "      <td>20</td>\n",
       "      <td>20 seconds</td>\n",
       "      <td>Green/Orange circular disc over Chester&amp;#44 En...</td>\n",
       "      <td>2008-01-21</td>\n",
       "      <td>53.2</td>\n",
       "      <td>-2.916667</td>\n",
       "      <td>1955-10-10</td>\n",
       "      <td>17:00</td>\n",
       "    </tr>\n",
       "    <tr>\n",
       "      <th>3</th>\n",
       "      <td>Edna</td>\n",
       "      <td>TX</td>\n",
       "      <td>US</td>\n",
       "      <td>Circle</td>\n",
       "      <td>20</td>\n",
       "      <td>1/2 hour</td>\n",
       "      <td>My older brother and twin sister were leaving ...</td>\n",
       "      <td>2004-01-17</td>\n",
       "      <td>28.9783333</td>\n",
       "      <td>-96.645833</td>\n",
       "      <td>1956-10-10</td>\n",
       "      <td>21:00</td>\n",
       "    </tr>\n",
       "    <tr>\n",
       "      <th>4</th>\n",
       "      <td>Kaneohe</td>\n",
       "      <td>HI</td>\n",
       "      <td>US</td>\n",
       "      <td>Light</td>\n",
       "      <td>900</td>\n",
       "      <td>15 minutes</td>\n",
       "      <td>AS a Marine 1st Lt. flying an FJ4B fighter/att...</td>\n",
       "      <td>2004-01-22</td>\n",
       "      <td>21.4180556</td>\n",
       "      <td>-157.803611</td>\n",
       "      <td>1960-10-10</td>\n",
       "      <td>20:00</td>\n",
       "    </tr>\n",
       "  </tbody>\n",
       "</table>\n",
       "</div>"
      ]
     },
     "execution_count": 86,
     "metadata": {},
     "output_type": "execute_result"
    }
   ],
   "execution_count": 86
  },
  {
   "metadata": {
    "ExecuteTime": {
     "end_time": "2025-02-17T09:06:24.349886Z",
     "start_time": "2025-02-17T09:06:24.300406Z"
    }
   },
   "cell_type": "code",
   "source": "df.info()",
   "id": "93748f16903f2941",
   "outputs": [
    {
     "name": "stdout",
     "output_type": "stream",
     "text": [
      "<class 'pandas.core.frame.DataFrame'>\n",
      "RangeIndex: 80332 entries, 0 to 80331\n",
      "Data columns (total 12 columns):\n",
      " #   Column                Non-Null Count  Dtype         \n",
      "---  ------                --------------  -----         \n",
      " 0   City                  80332 non-null  object        \n",
      " 1   State                 74535 non-null  object        \n",
      " 2   Country               70662 non-null  object        \n",
      " 3   Shape                 78400 non-null  object        \n",
      " 4   Duration (seconds)    80332 non-null  object        \n",
      " 5   Duration (hours/min)  80332 non-null  object        \n",
      " 6   Comments              80317 non-null  object        \n",
      " 7   Date_Posted           80332 non-null  datetime64[ns]\n",
      " 8   Latitude              80332 non-null  object        \n",
      " 9   longitude             80332 non-null  float64       \n",
      " 10  Year                  80332 non-null  datetime64[ns]\n",
      " 11  Time                  80332 non-null  object        \n",
      "dtypes: datetime64[ns](2), float64(1), object(9)\n",
      "memory usage: 7.4+ MB\n"
     ]
    }
   ],
   "execution_count": 87
  },
  {
   "metadata": {},
   "cell_type": "markdown",
   "source": "## Questions:",
   "id": "6b5ae9e232e9435c"
  },
  {
   "metadata": {},
   "cell_type": "markdown",
   "source": "1. Distribution of the sights",
   "id": "3ccd6aae67c3bbda"
  },
  {
   "metadata": {
    "ExecuteTime": {
     "end_time": "2025-02-17T09:06:24.447503Z",
     "start_time": "2025-02-17T09:06:24.407579Z"
    }
   },
   "cell_type": "code",
   "source": [
    "df[\"Country\"].unique()\n",
    "df[\"Country\"] = df[\"Country\"].replace({\"US\":\"United States\",\n",
    "                                       \"GB\":\"Great Britain\",\n",
    "                                       \"CA\":\"Canada\",\n",
    "                                       \"AU\":\"Australia\",\n",
    "                                       \"DE\":\"Germany\",})"
   ],
   "id": "62517f7a7f8186fe",
   "outputs": [],
   "execution_count": 88
  },
  {
   "metadata": {
    "ExecuteTime": {
     "end_time": "2025-02-17T09:06:24.645227Z",
     "start_time": "2025-02-17T09:06:24.631580Z"
    }
   },
   "cell_type": "code",
   "source": [
    "df_count = df[\"Country\"].value_counts().reset_index()\n",
    "df_count"
   ],
   "id": "6d66be8c53cbe002",
   "outputs": [
    {
     "data": {
      "text/plain": [
       "         Country  count\n",
       "0  United States  65114\n",
       "1         Canada   3000\n",
       "2  Great Britain   1905\n",
       "3      Australia    538\n",
       "4        Germany    105"
      ],
      "text/html": [
       "<div>\n",
       "<style scoped>\n",
       "    .dataframe tbody tr th:only-of-type {\n",
       "        vertical-align: middle;\n",
       "    }\n",
       "\n",
       "    .dataframe tbody tr th {\n",
       "        vertical-align: top;\n",
       "    }\n",
       "\n",
       "    .dataframe thead th {\n",
       "        text-align: right;\n",
       "    }\n",
       "</style>\n",
       "<table border=\"1\" class=\"dataframe\">\n",
       "  <thead>\n",
       "    <tr style=\"text-align: right;\">\n",
       "      <th></th>\n",
       "      <th>Country</th>\n",
       "      <th>count</th>\n",
       "    </tr>\n",
       "  </thead>\n",
       "  <tbody>\n",
       "    <tr>\n",
       "      <th>0</th>\n",
       "      <td>United States</td>\n",
       "      <td>65114</td>\n",
       "    </tr>\n",
       "    <tr>\n",
       "      <th>1</th>\n",
       "      <td>Canada</td>\n",
       "      <td>3000</td>\n",
       "    </tr>\n",
       "    <tr>\n",
       "      <th>2</th>\n",
       "      <td>Great Britain</td>\n",
       "      <td>1905</td>\n",
       "    </tr>\n",
       "    <tr>\n",
       "      <th>3</th>\n",
       "      <td>Australia</td>\n",
       "      <td>538</td>\n",
       "    </tr>\n",
       "    <tr>\n",
       "      <th>4</th>\n",
       "      <td>Germany</td>\n",
       "      <td>105</td>\n",
       "    </tr>\n",
       "  </tbody>\n",
       "</table>\n",
       "</div>"
      ]
     },
     "execution_count": 89,
     "metadata": {},
     "output_type": "execute_result"
    }
   ],
   "execution_count": 89
  },
  {
   "metadata": {
    "ExecuteTime": {
     "end_time": "2025-02-17T09:06:24.739651Z",
     "start_time": "2025-02-17T09:06:24.730392Z"
    }
   },
   "cell_type": "code",
   "source": "type(df_count)",
   "id": "62ecfed3a5c76263",
   "outputs": [
    {
     "data": {
      "text/plain": [
       "pandas.core.frame.DataFrame"
      ]
     },
     "execution_count": 90,
     "metadata": {},
     "output_type": "execute_result"
    }
   ],
   "execution_count": 90
  },
  {
   "metadata": {
    "ExecuteTime": {
     "end_time": "2025-02-17T09:06:24.957577Z",
     "start_time": "2025-02-17T09:06:24.803089Z"
    }
   },
   "cell_type": "code",
   "source": [
    "sns.barplot(x=\"Country\", y=\"count\", hue=\"Country\", data=df_count)\n",
    "plt.xlabel(\"Country\")\n",
    "plt.ylabel(\"Count\")\n",
    "plt.show()"
   ],
   "id": "f0d74399cd6c6e79",
   "outputs": [
    {
     "data": {
      "text/plain": [
       "<Figure size 640x480 with 1 Axes>"
      ],
      "image/png": "[encoded data removed]"
     },
     "metadata": {},
     "output_type": "display_data"
    }
   ],
   "execution_count": 91
  },
  {
   "metadata": {},
   "cell_type": "markdown",
   "source": "1.1 Is there an area/region with more sights than others?",
   "id": "2061d08e1010cdd6"
  },
  {
   "metadata": {
    "ExecuteTime": {
     "end_time": "2025-02-17T09:06:25.038549Z",
     "start_time": "2025-02-17T09:06:24.964143Z"
    }
   },
   "cell_type": "code",
   "source": [
    "df_by_city_US = df.query(\"Country == 'United States'\").groupby([\"Country\", \"City\"]).size().reset_index(name=\"Count\").sort_values(by=\"Count\", ascending=False)\n",
    "df_by_city_US"
   ],
   "id": "febc9a611d20131f",
   "outputs": [
    {
     "data": {
      "text/plain": [
       "             Country            City  Count\n",
       "8493   United States         Seattle    524\n",
       "7368   United States         Phoenix    454\n",
       "6539   United States  New york city     399\n",
       "7609   United States        Portland    373\n",
       "5103   United States       Las vegas    367\n",
       "...              ...             ...    ...\n",
       "10548  United States    York county       1\n",
       "10549  United States    York springs      1\n",
       "3547   United States      Glen house      1\n",
       "5477   United States        Luverne       1\n",
       "600    United States       Beckville      1\n",
       "\n",
       "[10588 rows x 3 columns]"
      ],
      "text/html": [
       "<div>\n",
       "<style scoped>\n",
       "    .dataframe tbody tr th:only-of-type {\n",
       "        vertical-align: middle;\n",
       "    }\n",
       "\n",
       "    .dataframe tbody tr th {\n",
       "        vertical-align: top;\n",
       "    }\n",
       "\n",
       "    .dataframe thead th {\n",
       "        text-align: right;\n",
       "    }\n",
       "</style>\n",
       "<table border=\"1\" class=\"dataframe\">\n",
       "  <thead>\n",
       "    <tr style=\"text-align: right;\">\n",
       "      <th></th>\n",
       "      <th>Country</th>\n",
       "      <th>City</th>\n",
       "      <th>Count</th>\n",
       "    </tr>\n",
       "  </thead>\n",
       "  <tbody>\n",
       "    <tr>\n",
       "      <th>8493</th>\n",
       "      <td>United States</td>\n",
       "      <td>Seattle</td>\n",
       "      <td>524</td>\n",
       "    </tr>\n",
       "    <tr>\n",
       "      <th>7368</th>\n",
       "      <td>United States</td>\n",
       "      <td>Phoenix</td>\n",
       "      <td>454</td>\n",
       "    </tr>\n",
       "    <tr>\n",
       "      <th>6539</th>\n",
       "      <td>United States</td>\n",
       "      <td>New york city</td>\n",
       "      <td>399</td>\n",
       "    </tr>\n",
       "    <tr>\n",
       "      <th>7609</th>\n",
       "      <td>United States</td>\n",
       "      <td>Portland</td>\n",
       "      <td>373</td>\n",
       "    </tr>\n",
       "    <tr>\n",
       "      <th>5103</th>\n",
       "      <td>United States</td>\n",
       "      <td>Las vegas</td>\n",
       "      <td>367</td>\n",
       "    </tr>\n",
       "    <tr>\n",
       "      <th>...</th>\n",
       "      <td>...</td>\n",
       "      <td>...</td>\n",
       "      <td>...</td>\n",
       "    </tr>\n",
       "    <tr>\n",
       "      <th>10548</th>\n",
       "      <td>United States</td>\n",
       "      <td>York county</td>\n",
       "      <td>1</td>\n",
       "    </tr>\n",
       "    <tr>\n",
       "      <th>10549</th>\n",
       "      <td>United States</td>\n",
       "      <td>York springs</td>\n",
       "      <td>1</td>\n",
       "    </tr>\n",
       "    <tr>\n",
       "      <th>3547</th>\n",
       "      <td>United States</td>\n",
       "      <td>Glen house</td>\n",
       "      <td>1</td>\n",
       "    </tr>\n",
       "    <tr>\n",
       "      <th>5477</th>\n",
       "      <td>United States</td>\n",
       "      <td>Luverne</td>\n",
       "      <td>1</td>\n",
       "    </tr>\n",
       "    <tr>\n",
       "      <th>600</th>\n",
       "      <td>United States</td>\n",
       "      <td>Beckville</td>\n",
       "      <td>1</td>\n",
       "    </tr>\n",
       "  </tbody>\n",
       "</table>\n",
       "<p>10588 rows × 3 columns</p>\n",
       "</div>"
      ]
     },
     "execution_count": 92,
     "metadata": {},
     "output_type": "execute_result"
    }
   ],
   "execution_count": 92
  },
  {
   "metadata": {
    "ExecuteTime": {
     "end_time": "2025-02-17T09:06:25.113275Z",
     "start_time": "2025-02-17T09:06:25.101275Z"
    }
   },
   "cell_type": "code",
   "source": "df_by_city_US[\"City\"].nunique()",
   "id": "ce1493f6b055c62",
   "outputs": [
    {
     "data": {
      "text/plain": [
       "10588"
      ]
     },
     "execution_count": 93,
     "metadata": {},
     "output_type": "execute_result"
    }
   ],
   "execution_count": 93
  },
  {
   "metadata": {
    "ExecuteTime": {
     "end_time": "2025-02-17T09:07:20.900189Z",
     "start_time": "2025-02-17T09:07:20.659246Z"
    }
   },
   "cell_type": "code",
   "source": [
    "df_by_city_US_sorted = df_by_city_US.iloc[0:10].sort_values(by=\"Count\", ascending=False)\n",
    "sns.barplot(data=df_by_city_US_sorted, x=\"Count\", y=\"City\", orient=\"h\", hue=\"City\")\n",
    "plt.xlabel(\"Sightings #\")\n",
    "plt.title(\"US Cities UFO Sightings\")\n",
    "plt.show()"
   ],
   "id": "557b1c4c392c38aa",
   "outputs": [
    {
     "data": {
      "text/plain": [
       "<Figure size 640x480 with 1 Axes>"
      ],
      "image/png": "[encoded data removed]"
     },
     "metadata": {},
     "output_type": "display_data"
    }
   ],
   "execution_count": 103
  },
  {
   "metadata": {
    "ExecuteTime": {
     "end_time": "2025-02-17T09:06:25.434838Z",
     "start_time": "2025-02-17T09:06:25.408917Z"
    }
   },
   "cell_type": "code",
   "source": [
    "df_by_city_CA = df.query(\"Country == 'Canada'\").groupby([\"Country\", \"City\"]).size().reset_index(name=\"Count\").sort_values(by=\"Count\", ascending=False)\n",
    "df_by_city_CA"
   ],
   "id": "a5a450f53a53f132",
   "outputs": [
    {
     "data": {
      "text/plain": [
       "    Country          City  Count\n",
       "527  Canada      Toronto     177\n",
       "537  Canada    Vancouver     100\n",
       "366  Canada       Ottawa      88\n",
       "74   Canada      Calgary      78\n",
       "543  Canada     Victoria      78\n",
       "..      ...           ...    ...\n",
       "519  Canada      Thorold       1\n",
       "563  Canada     Wheatley       1\n",
       "565  Canada  White river       1\n",
       "569  Canada    Whitewood       1\n",
       "570  Canada  Whycocomagh       1\n",
       "\n",
       "[586 rows x 3 columns]"
      ],
      "text/html": [
       "<div>\n",
       "<style scoped>\n",
       "    .dataframe tbody tr th:only-of-type {\n",
       "        vertical-align: middle;\n",
       "    }\n",
       "\n",
       "    .dataframe tbody tr th {\n",
       "        vertical-align: top;\n",
       "    }\n",
       "\n",
       "    .dataframe thead th {\n",
       "        text-align: right;\n",
       "    }\n",
       "</style>\n",
       "<table border=\"1\" class=\"dataframe\">\n",
       "  <thead>\n",
       "    <tr style=\"text-align: right;\">\n",
       "      <th></th>\n",
       "      <th>Country</th>\n",
       "      <th>City</th>\n",
       "      <th>Count</th>\n",
       "    </tr>\n",
       "  </thead>\n",
       "  <tbody>\n",
       "    <tr>\n",
       "      <th>527</th>\n",
       "      <td>Canada</td>\n",
       "      <td>Toronto</td>\n",
       "      <td>177</td>\n",
       "    </tr>\n",
       "    <tr>\n",
       "      <th>537</th>\n",
       "      <td>Canada</td>\n",
       "      <td>Vancouver</td>\n",
       "      <td>100</td>\n",
       "    </tr>\n",
       "    <tr>\n",
       "      <th>366</th>\n",
       "      <td>Canada</td>\n",
       "      <td>Ottawa</td>\n",
       "      <td>88</td>\n",
       "    </tr>\n",
       "    <tr>\n",
       "      <th>74</th>\n",
       "      <td>Canada</td>\n",
       "      <td>Calgary</td>\n",
       "      <td>78</td>\n",
       "    </tr>\n",
       "    <tr>\n",
       "      <th>543</th>\n",
       "      <td>Canada</td>\n",
       "      <td>Victoria</td>\n",
       "      <td>78</td>\n",
       "    </tr>\n",
       "    <tr>\n",
       "      <th>...</th>\n",
       "      <td>...</td>\n",
       "      <td>...</td>\n",
       "      <td>...</td>\n",
       "    </tr>\n",
       "    <tr>\n",
       "      <th>519</th>\n",
       "      <td>Canada</td>\n",
       "      <td>Thorold</td>\n",
       "      <td>1</td>\n",
       "    </tr>\n",
       "    <tr>\n",
       "      <th>563</th>\n",
       "      <td>Canada</td>\n",
       "      <td>Wheatley</td>\n",
       "      <td>1</td>\n",
       "    </tr>\n",
       "    <tr>\n",
       "      <th>565</th>\n",
       "      <td>Canada</td>\n",
       "      <td>White river</td>\n",
       "      <td>1</td>\n",
       "    </tr>\n",
       "    <tr>\n",
       "      <th>569</th>\n",
       "      <td>Canada</td>\n",
       "      <td>Whitewood</td>\n",
       "      <td>1</td>\n",
       "    </tr>\n",
       "    <tr>\n",
       "      <th>570</th>\n",
       "      <td>Canada</td>\n",
       "      <td>Whycocomagh</td>\n",
       "      <td>1</td>\n",
       "    </tr>\n",
       "  </tbody>\n",
       "</table>\n",
       "<p>586 rows × 3 columns</p>\n",
       "</div>"
      ]
     },
     "execution_count": 95,
     "metadata": {},
     "output_type": "execute_result"
    }
   ],
   "execution_count": 95
  },
  {
   "metadata": {
    "ExecuteTime": {
     "end_time": "2025-02-17T09:07:41.218459Z",
     "start_time": "2025-02-17T09:07:40.957523Z"
    }
   },
   "cell_type": "code",
   "source": [
    "df_by_city_CA_sorted = df_by_city_CA.iloc[0:10].sort_values(by=\"Count\", ascending=False)\n",
    "sns.barplot(data=df_by_city_CA_sorted, x=\"Count\", y=\"City\", orient=\"h\", hue=\"City\")\n",
    "plt.xlabel(\"Sightings #\")\n",
    "plt.title(\"Canada Cities UFO Sightings\")\n",
    "\n",
    "plt.show()"
   ],
   "id": "cba8c3ad78aba7cc",
   "outputs": [
    {
     "data": {
      "text/plain": [
       "<Figure size 640x480 with 1 Axes>"
      ],
      "image/png": "[encoded data removed]"
     },
     "metadata": {},
     "output_type": "display_data"
    }
   ],
   "execution_count": 104
  },
  {
   "metadata": {},
   "cell_type": "markdown",
   "source": "    2. Any correlation with season?",
   "id": "2ddb4acf5a8bb89b"
  },
  {
   "metadata": {
    "ExecuteTime": {
     "end_time": "2025-02-17T09:06:25.787296Z",
     "start_time": "2025-02-17T09:06:25.763343Z"
    }
   },
   "cell_type": "code",
   "source": [
    "df_by_city_GB = df.query(\"Country == 'Great Britain'\").groupby([\"Country\", \"City\"]).size().reset_index(name=\"Count\").sort_values(by=\"Count\", ascending=False)\n",
    "df_by_city_GB"
   ],
   "id": "fefa07738ec8bcb4",
   "outputs": [
    {
     "data": {
      "text/plain": [
       "           Country           City  Count\n",
       "318  Great Britain        London     206\n",
       "50   Great Britain    Birmingham      62\n",
       "331  Great Britain    Manchester      60\n",
       "201  Great Britain       Glasgow      40\n",
       "379  Great Britain    Nottingham      33\n",
       "..             ...            ...    ...\n",
       "34   Great Britain    Barnstaple       1\n",
       "37   Great Britain      Bathgate       1\n",
       "38   Great Britain  Beaconsfield       1\n",
       "40   Great Britain    Bedlington       1\n",
       "41   Great Britain       Belfast       1\n",
       "\n",
       "[573 rows x 3 columns]"
      ],
      "text/html": [
       "<div>\n",
       "<style scoped>\n",
       "    .dataframe tbody tr th:only-of-type {\n",
       "        vertical-align: middle;\n",
       "    }\n",
       "\n",
       "    .dataframe tbody tr th {\n",
       "        vertical-align: top;\n",
       "    }\n",
       "\n",
       "    .dataframe thead th {\n",
       "        text-align: right;\n",
       "    }\n",
       "</style>\n",
       "<table border=\"1\" class=\"dataframe\">\n",
       "  <thead>\n",
       "    <tr style=\"text-align: right;\">\n",
       "      <th></th>\n",
       "      <th>Country</th>\n",
       "      <th>City</th>\n",
       "      <th>Count</th>\n",
       "    </tr>\n",
       "  </thead>\n",
       "  <tbody>\n",
       "    <tr>\n",
       "      <th>318</th>\n",
       "      <td>Great Britain</td>\n",
       "      <td>London</td>\n",
       "      <td>206</td>\n",
       "    </tr>\n",
       "    <tr>\n",
       "      <th>50</th>\n",
       "      <td>Great Britain</td>\n",
       "      <td>Birmingham</td>\n",
       "      <td>62</td>\n",
       "    </tr>\n",
       "    <tr>\n",
       "      <th>331</th>\n",
       "      <td>Great Britain</td>\n",
       "      <td>Manchester</td>\n",
       "      <td>60</td>\n",
       "    </tr>\n",
       "    <tr>\n",
       "      <th>201</th>\n",
       "      <td>Great Britain</td>\n",
       "      <td>Glasgow</td>\n",
       "      <td>40</td>\n",
       "    </tr>\n",
       "    <tr>\n",
       "      <th>379</th>\n",
       "      <td>Great Britain</td>\n",
       "      <td>Nottingham</td>\n",
       "      <td>33</td>\n",
       "    </tr>\n",
       "    <tr>\n",
       "      <th>...</th>\n",
       "      <td>...</td>\n",
       "      <td>...</td>\n",
       "      <td>...</td>\n",
       "    </tr>\n",
       "    <tr>\n",
       "      <th>34</th>\n",
       "      <td>Great Britain</td>\n",
       "      <td>Barnstaple</td>\n",
       "      <td>1</td>\n",
       "    </tr>\n",
       "    <tr>\n",
       "      <th>37</th>\n",
       "      <td>Great Britain</td>\n",
       "      <td>Bathgate</td>\n",
       "      <td>1</td>\n",
       "    </tr>\n",
       "    <tr>\n",
       "      <th>38</th>\n",
       "      <td>Great Britain</td>\n",
       "      <td>Beaconsfield</td>\n",
       "      <td>1</td>\n",
       "    </tr>\n",
       "    <tr>\n",
       "      <th>40</th>\n",
       "      <td>Great Britain</td>\n",
       "      <td>Bedlington</td>\n",
       "      <td>1</td>\n",
       "    </tr>\n",
       "    <tr>\n",
       "      <th>41</th>\n",
       "      <td>Great Britain</td>\n",
       "      <td>Belfast</td>\n",
       "      <td>1</td>\n",
       "    </tr>\n",
       "  </tbody>\n",
       "</table>\n",
       "<p>573 rows × 3 columns</p>\n",
       "</div>"
      ]
     },
     "execution_count": 97,
     "metadata": {},
     "output_type": "execute_result"
    }
   ],
   "execution_count": 97
  },
  {
   "metadata": {
    "ExecuteTime": {
     "end_time": "2025-02-17T09:06:26.313969Z",
     "start_time": "2025-02-17T09:06:25.868006Z"
    }
   },
   "cell_type": "code",
   "source": [
    "df_by_city_GB_sorted = df_by_city_GB.iloc[0:10].sort_values(by=\"Count\", ascending=False)\n",
    "sns.barplot(data=df_by_city_GB_sorted, x=\"Count\", y=\"City\", orient=\"h\", hue=\"City\")\n",
    "plt.xlabel(\"Sightings #\")\n",
    "plt.title(\"Great Britain Cities UFO Sightings\")\n",
    "plt.show()"
   ],
   "id": "a6c6b94f3ef9cff1",
   "outputs": [
    {
     "data": {
      "text/plain": [
       "<Figure size 640x480 with 1 Axes>"
      ],
      "image/png": "[encoded data removed]"
     },
     "metadata": {},
     "output_type": "display_data"
    }
   ],
   "execution_count": 98
  },
  {
   "metadata": {
    "ExecuteTime": {
     "end_time": "2025-02-17T09:06:26.375570Z",
     "start_time": "2025-02-17T09:06:26.356680Z"
    }
   },
   "cell_type": "code",
   "source": [
    "df_by_city_AU = df.query(\"Country == 'Australia'\").groupby([\"Country\", \"City\"]).size().reset_index(name=\"Count\").sort_values(by=\"Count\", ascending=False)\n",
    "df_by_city_AU"
   ],
   "id": "752b0661f2bf1e9c",
   "outputs": [
    {
     "data": {
      "text/plain": [
       "       Country           City  Count\n",
       "138  Australia        Sydney      81\n",
       "99   Australia     Melbourne      67\n",
       "124  Australia         Perth      49\n",
       "23   Australia      Brisbane      48\n",
       "0    Australia      Adelaide      24\n",
       "..         ...            ...    ...\n",
       "160  Australia       Woy woy       1\n",
       "161  Australia         Wyong       1\n",
       "162  Australia       Wyreema       1\n",
       "163  Australia       Yandoit       1\n",
       "164  Australia  Yorkeys knob       1\n",
       "\n",
       "[165 rows x 3 columns]"
      ],
      "text/html": [
       "<div>\n",
       "<style scoped>\n",
       "    .dataframe tbody tr th:only-of-type {\n",
       "        vertical-align: middle;\n",
       "    }\n",
       "\n",
       "    .dataframe tbody tr th {\n",
       "        vertical-align: top;\n",
       "    }\n",
       "\n",
       "    .dataframe thead th {\n",
       "        text-align: right;\n",
       "    }\n",
       "</style>\n",
       "<table border=\"1\" class=\"dataframe\">\n",
       "  <thead>\n",
       "    <tr style=\"text-align: right;\">\n",
       "      <th></th>\n",
       "      <th>Country</th>\n",
       "      <th>City</th>\n",
       "      <th>Count</th>\n",
       "    </tr>\n",
       "  </thead>\n",
       "  <tbody>\n",
       "    <tr>\n",
       "      <th>138</th>\n",
       "      <td>Australia</td>\n",
       "      <td>Sydney</td>\n",
       "      <td>81</td>\n",
       "    </tr>\n",
       "    <tr>\n",
       "      <th>99</th>\n",
       "      <td>Australia</td>\n",
       "      <td>Melbourne</td>\n",
       "      <td>67</td>\n",
       "    </tr>\n",
       "    <tr>\n",
       "      <th>124</th>\n",
       "      <td>Australia</td>\n",
       "      <td>Perth</td>\n",
       "      <td>49</td>\n",
       "    </tr>\n",
       "    <tr>\n",
       "      <th>23</th>\n",
       "      <td>Australia</td>\n",
       "      <td>Brisbane</td>\n",
       "      <td>48</td>\n",
       "    </tr>\n",
       "    <tr>\n",
       "      <th>0</th>\n",
       "      <td>Australia</td>\n",
       "      <td>Adelaide</td>\n",
       "      <td>24</td>\n",
       "    </tr>\n",
       "    <tr>\n",
       "      <th>...</th>\n",
       "      <td>...</td>\n",
       "      <td>...</td>\n",
       "      <td>...</td>\n",
       "    </tr>\n",
       "    <tr>\n",
       "      <th>160</th>\n",
       "      <td>Australia</td>\n",
       "      <td>Woy woy</td>\n",
       "      <td>1</td>\n",
       "    </tr>\n",
       "    <tr>\n",
       "      <th>161</th>\n",
       "      <td>Australia</td>\n",
       "      <td>Wyong</td>\n",
       "      <td>1</td>\n",
       "    </tr>\n",
       "    <tr>\n",
       "      <th>162</th>\n",
       "      <td>Australia</td>\n",
       "      <td>Wyreema</td>\n",
       "      <td>1</td>\n",
       "    </tr>\n",
       "    <tr>\n",
       "      <th>163</th>\n",
       "      <td>Australia</td>\n",
       "      <td>Yandoit</td>\n",
       "      <td>1</td>\n",
       "    </tr>\n",
       "    <tr>\n",
       "      <th>164</th>\n",
       "      <td>Australia</td>\n",
       "      <td>Yorkeys knob</td>\n",
       "      <td>1</td>\n",
       "    </tr>\n",
       "  </tbody>\n",
       "</table>\n",
       "<p>165 rows × 3 columns</p>\n",
       "</div>"
      ]
     },
     "execution_count": 99,
     "metadata": {},
     "output_type": "execute_result"
    }
   ],
   "execution_count": 99
  },
  {
   "metadata": {
    "ExecuteTime": {
     "end_time": "2025-02-17T09:06:26.631764Z",
     "start_time": "2025-02-17T09:06:26.437733Z"
    }
   },
   "cell_type": "code",
   "source": [
    "df_by_city_AU_sorted = df_by_city_AU.iloc[0:10].sort_values(by=\"Count\", ascending=False)\n",
    "sns.barplot(data=df_by_city_AU_sorted, x=\"Count\", y=\"City\", orient=\"h\", hue=\"City\")\n",
    "plt.xlabel(\"Sightings #\")\n",
    "plt.title(\"Australia Cities UFO Sightings\")\n",
    "plt.show()"
   ],
   "id": "2ae20285ea3d9cda",
   "outputs": [
    {
     "data": {
      "text/plain": [
       "<Figure size 640x480 with 1 Axes>"
      ],
      "image/png": "[encoded data removed]"
     },
     "metadata": {},
     "output_type": "display_data"
    }
   ],
   "execution_count": 100
  },
  {
   "metadata": {
    "ExecuteTime": {
     "end_time": "2025-02-17T09:06:26.696090Z",
     "start_time": "2025-02-17T09:06:26.674314Z"
    }
   },
   "cell_type": "code",
   "source": [
    "df_by_city_DE = df.query(\"Country == 'Germany'\").groupby([\"Country\", \"City\"]).size().reset_index(name=\"Count\").sort_values(by=\"Count\", ascending=False)\n",
    "df_by_city_DE"
   ],
   "id": "6227a1854e07f79",
   "outputs": [
    {
     "data": {
      "text/plain": [
       "    Country          City  Count\n",
       "7   Germany       Berlin      11\n",
       "49  Germany       Munich       5\n",
       "13  Germany       Bremen       3\n",
       "1   Germany      Ansbach       3\n",
       "5   Germany   Baumholder       2\n",
       "..      ...           ...    ...\n",
       "74  Germany  Weissenburg       1\n",
       "75  Germany       Werder       1\n",
       "76  Germany  Wildflecken       1\n",
       "77  Germany    Zehdenick       1\n",
       "78  Germany     Zirndorf       1\n",
       "\n",
       "[79 rows x 3 columns]"
      ],
      "text/html": [
       "<div>\n",
       "<style scoped>\n",
       "    .dataframe tbody tr th:only-of-type {\n",
       "        vertical-align: middle;\n",
       "    }\n",
       "\n",
       "    .dataframe tbody tr th {\n",
       "        vertical-align: top;\n",
       "    }\n",
       "\n",
       "    .dataframe thead th {\n",
       "        text-align: right;\n",
       "    }\n",
       "</style>\n",
       "<table border=\"1\" class=\"dataframe\">\n",
       "  <thead>\n",
       "    <tr style=\"text-align: right;\">\n",
       "      <th></th>\n",
       "      <th>Country</th>\n",
       "      <th>City</th>\n",
       "      <th>Count</th>\n",
       "    </tr>\n",
       "  </thead>\n",
       "  <tbody>\n",
       "    <tr>\n",
       "      <th>7</th>\n",
       "      <td>Germany</td>\n",
       "      <td>Berlin</td>\n",
       "      <td>11</td>\n",
       "    </tr>\n",
       "    <tr>\n",
       "      <th>49</th>\n",
       "      <td>Germany</td>\n",
       "      <td>Munich</td>\n",
       "      <td>5</td>\n",
       "    </tr>\n",
       "    <tr>\n",
       "      <th>13</th>\n",
       "      <td>Germany</td>\n",
       "      <td>Bremen</td>\n",
       "      <td>3</td>\n",
       "    </tr>\n",
       "    <tr>\n",
       "      <th>1</th>\n",
       "      <td>Germany</td>\n",
       "      <td>Ansbach</td>\n",
       "      <td>3</td>\n",
       "    </tr>\n",
       "    <tr>\n",
       "      <th>5</th>\n",
       "      <td>Germany</td>\n",
       "      <td>Baumholder</td>\n",
       "      <td>2</td>\n",
       "    </tr>\n",
       "    <tr>\n",
       "      <th>...</th>\n",
       "      <td>...</td>\n",
       "      <td>...</td>\n",
       "      <td>...</td>\n",
       "    </tr>\n",
       "    <tr>\n",
       "      <th>74</th>\n",
       "      <td>Germany</td>\n",
       "      <td>Weissenburg</td>\n",
       "      <td>1</td>\n",
       "    </tr>\n",
       "    <tr>\n",
       "      <th>75</th>\n",
       "      <td>Germany</td>\n",
       "      <td>Werder</td>\n",
       "      <td>1</td>\n",
       "    </tr>\n",
       "    <tr>\n",
       "      <th>76</th>\n",
       "      <td>Germany</td>\n",
       "      <td>Wildflecken</td>\n",
       "      <td>1</td>\n",
       "    </tr>\n",
       "    <tr>\n",
       "      <th>77</th>\n",
       "      <td>Germany</td>\n",
       "      <td>Zehdenick</td>\n",
       "      <td>1</td>\n",
       "    </tr>\n",
       "    <tr>\n",
       "      <th>78</th>\n",
       "      <td>Germany</td>\n",
       "      <td>Zirndorf</td>\n",
       "      <td>1</td>\n",
       "    </tr>\n",
       "  </tbody>\n",
       "</table>\n",
       "<p>79 rows × 3 columns</p>\n",
       "</div>"
      ]
     },
     "execution_count": 101,
     "metadata": {},
     "output_type": "execute_result"
    }
   ],
   "execution_count": 101
  },
  {
   "metadata": {
    "ExecuteTime": {
     "end_time": "2025-02-17T09:08:17.789075Z",
     "start_time": "2025-02-17T09:08:17.562128Z"
    }
   },
   "cell_type": "code",
   "source": [
    "df_by_city_DE_sorted = df_by_city_DE.iloc[0:10].sort_values(by=\"Count\", ascending=False)\n",
    "sns.barplot(data=df_by_city_DE_sorted, x=\"Count\", y=\"City\", orient=\"h\", hue=\"City\")\n",
    "plt.xlabel(\"Sightings #\")\n",
    "plt.title(\"Germany Cities UFO Sightings\")\n",
    "plt.show()"
   ],
   "id": "4e0241f341921299",
   "outputs": [
    {
     "data": {
      "text/plain": [
       "<Figure size 640x480 with 1 Axes>"
      ],
      "image/png": "[encoded data removed]"
     },
     "metadata": {},
     "output_type": "display_data"
    }
   ],
   "execution_count": 105
  },
  {
   "metadata": {},
   "cell_type": "markdown",
   "source": "3. Reports by Year",
   "id": "f1541a91eb226824"
  },
  {
   "metadata": {},
   "cell_type": "markdown",
   "source": "4. Any Correlation with shape",
   "id": "946913f1f2224b05"
  },
  {
   "metadata": {
    "ExecuteTime": {
     "end_time": "2025-02-17T09:06:27.023945Z",
     "start_time": "2025-02-17T09:06:27.017975Z"
    }
   },
   "cell_type": "code",
   "source": "",
   "id": "e20a955a34f1c839",
   "outputs": [],
   "execution_count": null
  }
 ],
 "metadata": {
  "kernelspec": {
   "display_name": "Python 3",
   "language": "python",
   "name": "python3"
  },
  "language_info": {
   "codemirror_mode": {
    "name": "ipython",
    "version": 2
   },
   "file_extension": ".py",
   "mimetype": "text/x-python",
   "name": "python",
   "nbconvert_exporter": "python",
   "pygments_lexer": "ipython2",
   "version": "2.7.6"
  }
 },
 "nbformat": 4,
 "nbformat_minor": 5
}
