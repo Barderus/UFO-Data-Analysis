{
 "cells": [
  {
   "cell_type": "code",
   "id": "initial_id",
   "metadata": {
    "collapsed": true,
    "ExecuteTime": {
     "end_time": "2025-03-11T02:29:42.175007Z",
     "start_time": "2025-03-11T02:29:42.167001Z"
    }
   },
   "source": [
    "import numpy as np\n",
    "import pandas as pd\n",
    "import matplotlib.pyplot as plt\n",
    "import seaborn as sns\n",
    "\n",
    "# Ignore useless warnings\n",
    "import warnings\n",
    "warnings.filterwarnings('ignore')"
   ],
   "outputs": [],
   "execution_count": 99
  },
  {
   "metadata": {
    "ExecuteTime": {
     "end_time": "2025-03-11T02:29:42.879895Z",
     "start_time": "2025-03-11T02:29:42.248939Z"
    }
   },
   "cell_type": "code",
   "source": "df = pd.read_csv(\"../Datasets/UFO-dataset/scrubbed.csv\", low_memory=False)",
   "id": "74c5b727742d2185",
   "outputs": [],
   "execution_count": 100
  },
  {
   "metadata": {
    "ExecuteTime": {
     "end_time": "2025-03-11T02:29:42.966121Z",
     "start_time": "2025-03-11T02:29:42.901811Z"
    }
   },
   "cell_type": "code",
   "source": "df.info()",
   "id": "cf6ec0d6e8e805aa",
   "outputs": [
    {
     "name": "stdout",
     "output_type": "stream",
     "text": [
      "<class 'pandas.core.frame.DataFrame'>\n",
      "RangeIndex: 80332 entries, 0 to 80331\n",
      "Data columns (total 11 columns):\n",
      " #   Column                Non-Null Count  Dtype  \n",
      "---  ------                --------------  -----  \n",
      " 0   datetime              80332 non-null  object \n",
      " 1   city                  80332 non-null  object \n",
      " 2   state                 74535 non-null  object \n",
      " 3   country               70662 non-null  object \n",
      " 4   shape                 78400 non-null  object \n",
      " 5   duration (seconds)    80332 non-null  object \n",
      " 6   duration (hours/min)  80332 non-null  object \n",
      " 7   comments              80317 non-null  object \n",
      " 8   date posted           80332 non-null  object \n",
      " 9   latitude              80332 non-null  object \n",
      " 10  longitude             80332 non-null  float64\n",
      "dtypes: float64(1), object(10)\n",
      "memory usage: 6.7+ MB\n"
     ]
    }
   ],
   "execution_count": 101
  },
  {
   "metadata": {
    "ExecuteTime": {
     "end_time": "2025-03-11T02:29:43.049697Z",
     "start_time": "2025-03-11T02:29:43.028939Z"
    }
   },
   "cell_type": "code",
   "source": [
    "df = df.rename(columns={\"datetime\":\"Datetime\",\n",
    "           \"city\":\"City\",\n",
    "           \"state\":\"State\",\n",
    "           \"country\":\"Country\",\n",
    "           \"shape\":\"Shape\",\n",
    "           \"duration (seconds)\": \"Duration (seconds)\",\n",
    "           \"duration (hours/min)\": \"Duration (hours/min)\",\n",
    "           \"comments\":\"Comments\",\n",
    "           \"date posted\":\"Date_Posted\",\n",
    "           \"latitude\":\"Latitude\",\n",
    "           \"longitude\":\"Longitude\",\n",
    "           })"
   ],
   "id": "89f8424c38151417",
   "outputs": [],
   "execution_count": 102
  },
  {
   "metadata": {
    "ExecuteTime": {
     "end_time": "2025-03-11T02:29:43.120921Z",
     "start_time": "2025-03-11T02:29:43.102276Z"
    }
   },
   "cell_type": "code",
   "source": "df.head()",
   "id": "63abd314bf307264",
   "outputs": [
    {
     "data": {
      "text/plain": [
       "           Datetime                  City State Country     Shape  \\\n",
       "0  10/10/1949 20:30            san marcos    tx      us  cylinder   \n",
       "1  10/10/1949 21:00          lackland afb    tx     NaN     light   \n",
       "2  10/10/1955 17:00  chester (uk/england)   NaN      gb    circle   \n",
       "3  10/10/1956 21:00                  edna    tx      us    circle   \n",
       "4  10/10/1960 20:00               kaneohe    hi      us     light   \n",
       "\n",
       "  Duration (seconds) Duration (hours/min)  \\\n",
       "0               2700           45 minutes   \n",
       "1               7200              1-2 hrs   \n",
       "2                 20           20 seconds   \n",
       "3                 20             1/2 hour   \n",
       "4                900           15 minutes   \n",
       "\n",
       "                                            Comments Date_Posted    Latitude  \\\n",
       "0  This event took place in early fall around 194...   4/27/2004  29.8830556   \n",
       "1  1949 Lackland AFB&#44 TX.  Lights racing acros...  12/16/2005    29.38421   \n",
       "2  Green/Orange circular disc over Chester&#44 En...   1/21/2008        53.2   \n",
       "3  My older brother and twin sister were leaving ...   1/17/2004  28.9783333   \n",
       "4  AS a Marine 1st Lt. flying an FJ4B fighter/att...   1/22/2004  21.4180556   \n",
       "\n",
       "   longitude   \n",
       "0  -97.941111  \n",
       "1  -98.581082  \n",
       "2   -2.916667  \n",
       "3  -96.645833  \n",
       "4 -157.803611  "
      ],
      "text/html": [
       "<div>\n",
       "<style scoped>\n",
       "    .dataframe tbody tr th:only-of-type {\n",
       "        vertical-align: middle;\n",
       "    }\n",
       "\n",
       "    .dataframe tbody tr th {\n",
       "        vertical-align: top;\n",
       "    }\n",
       "\n",
       "    .dataframe thead th {\n",
       "        text-align: right;\n",
       "    }\n",
       "</style>\n",
       "<table border=\"1\" class=\"dataframe\">\n",
       "  <thead>\n",
       "    <tr style=\"text-align: right;\">\n",
       "      <th></th>\n",
       "      <th>Datetime</th>\n",
       "      <th>City</th>\n",
       "      <th>State</th>\n",
       "      <th>Country</th>\n",
       "      <th>Shape</th>\n",
       "      <th>Duration (seconds)</th>\n",
       "      <th>Duration (hours/min)</th>\n",
       "      <th>Comments</th>\n",
       "      <th>Date_Posted</th>\n",
       "      <th>Latitude</th>\n",
       "      <th>longitude</th>\n",
       "    </tr>\n",
       "  </thead>\n",
       "  <tbody>\n",
       "    <tr>\n",
       "      <th>0</th>\n",
       "      <td>10/10/1949 20:30</td>\n",
       "      <td>san marcos</td>\n",
       "      <td>tx</td>\n",
       "      <td>us</td>\n",
       "      <td>cylinder</td>\n",
       "      <td>2700</td>\n",
       "      <td>45 minutes</td>\n",
       "      <td>This event took place in early fall around 194...</td>\n",
       "      <td>4/27/2004</td>\n",
       "      <td>29.8830556</td>\n",
       "      <td>-97.941111</td>\n",
       "    </tr>\n",
       "    <tr>\n",
       "      <th>1</th>\n",
       "      <td>10/10/1949 21:00</td>\n",
       "      <td>lackland afb</td>\n",
       "      <td>tx</td>\n",
       "      <td>NaN</td>\n",
       "      <td>light</td>\n",
       "      <td>7200</td>\n",
       "      <td>1-2 hrs</td>\n",
       "      <td>1949 Lackland AFB&amp;#44 TX.  Lights racing acros...</td>\n",
       "      <td>12/16/2005</td>\n",
       "      <td>29.38421</td>\n",
       "      <td>-98.581082</td>\n",
       "    </tr>\n",
       "    <tr>\n",
       "      <th>2</th>\n",
       "      <td>10/10/1955 17:00</td>\n",
       "      <td>chester (uk/england)</td>\n",
       "      <td>NaN</td>\n",
       "      <td>gb</td>\n",
       "      <td>circle</td>\n",
       "      <td>20</td>\n",
       "      <td>20 seconds</td>\n",
       "      <td>Green/Orange circular disc over Chester&amp;#44 En...</td>\n",
       "      <td>1/21/2008</td>\n",
       "      <td>53.2</td>\n",
       "      <td>-2.916667</td>\n",
       "    </tr>\n",
       "    <tr>\n",
       "      <th>3</th>\n",
       "      <td>10/10/1956 21:00</td>\n",
       "      <td>edna</td>\n",
       "      <td>tx</td>\n",
       "      <td>us</td>\n",
       "      <td>circle</td>\n",
       "      <td>20</td>\n",
       "      <td>1/2 hour</td>\n",
       "      <td>My older brother and twin sister were leaving ...</td>\n",
       "      <td>1/17/2004</td>\n",
       "      <td>28.9783333</td>\n",
       "      <td>-96.645833</td>\n",
       "    </tr>\n",
       "    <tr>\n",
       "      <th>4</th>\n",
       "      <td>10/10/1960 20:00</td>\n",
       "      <td>kaneohe</td>\n",
       "      <td>hi</td>\n",
       "      <td>us</td>\n",
       "      <td>light</td>\n",
       "      <td>900</td>\n",
       "      <td>15 minutes</td>\n",
       "      <td>AS a Marine 1st Lt. flying an FJ4B fighter/att...</td>\n",
       "      <td>1/22/2004</td>\n",
       "      <td>21.4180556</td>\n",
       "      <td>-157.803611</td>\n",
       "    </tr>\n",
       "  </tbody>\n",
       "</table>\n",
       "</div>"
      ]
     },
     "execution_count": 103,
     "metadata": {},
     "output_type": "execute_result"
    }
   ],
   "execution_count": 103
  },
  {
   "metadata": {},
   "cell_type": "markdown",
   "source": [
    "## Data Cleaning tasks:\n",
    "* Split the dates from time\n",
    "* Transfrom string into datetime obj\n",
    "* Capitalize States name\n",
    "* Capitalize country names"
   ],
   "id": "2e0c29f5e17988e3"
  },
  {
   "metadata": {},
   "cell_type": "markdown",
   "source": "### Spliting the datime column and data transformation",
   "id": "3d259bcfd94d5500"
  },
  {
   "metadata": {
    "ExecuteTime": {
     "end_time": "2025-03-11T02:29:44.114626Z",
     "start_time": "2025-03-11T02:29:43.220483Z"
    }
   },
   "cell_type": "code",
   "source": [
    "df[\"Date\"] = df[\"Datetime\"].str.split(\" \").str[0]\n",
    "df[\"Time\"] = df[\"Datetime\"].str.split(\" \").str[1]\n",
    "df = df.drop(columns=[\"Datetime\"])"
   ],
   "id": "a0d7866099ab9f29",
   "outputs": [],
   "execution_count": 104
  },
  {
   "metadata": {
    "ExecuteTime": {
     "end_time": "2025-03-11T02:29:44.163414Z",
     "start_time": "2025-03-11T02:29:44.150936Z"
    }
   },
   "cell_type": "code",
   "source": "df.head()",
   "id": "5b3ca9ccdf465145",
   "outputs": [
    {
     "data": {
      "text/plain": [
       "                   City State Country     Shape Duration (seconds)  \\\n",
       "0            san marcos    tx      us  cylinder               2700   \n",
       "1          lackland afb    tx     NaN     light               7200   \n",
       "2  chester (uk/england)   NaN      gb    circle                 20   \n",
       "3                  edna    tx      us    circle                 20   \n",
       "4               kaneohe    hi      us     light                900   \n",
       "\n",
       "  Duration (hours/min)                                           Comments  \\\n",
       "0           45 minutes  This event took place in early fall around 194...   \n",
       "1              1-2 hrs  1949 Lackland AFB&#44 TX.  Lights racing acros...   \n",
       "2           20 seconds  Green/Orange circular disc over Chester&#44 En...   \n",
       "3             1/2 hour  My older brother and twin sister were leaving ...   \n",
       "4           15 minutes  AS a Marine 1st Lt. flying an FJ4B fighter/att...   \n",
       "\n",
       "  Date_Posted    Latitude  longitude         Date   Time  \n",
       "0   4/27/2004  29.8830556  -97.941111  10/10/1949  20:30  \n",
       "1  12/16/2005    29.38421  -98.581082  10/10/1949  21:00  \n",
       "2   1/21/2008        53.2   -2.916667  10/10/1955  17:00  \n",
       "3   1/17/2004  28.9783333  -96.645833  10/10/1956  21:00  \n",
       "4   1/22/2004  21.4180556 -157.803611  10/10/1960  20:00  "
      ],
      "text/html": [
       "<div>\n",
       "<style scoped>\n",
       "    .dataframe tbody tr th:only-of-type {\n",
       "        vertical-align: middle;\n",
       "    }\n",
       "\n",
       "    .dataframe tbody tr th {\n",
       "        vertical-align: top;\n",
       "    }\n",
       "\n",
       "    .dataframe thead th {\n",
       "        text-align: right;\n",
       "    }\n",
       "</style>\n",
       "<table border=\"1\" class=\"dataframe\">\n",
       "  <thead>\n",
       "    <tr style=\"text-align: right;\">\n",
       "      <th></th>\n",
       "      <th>City</th>\n",
       "      <th>State</th>\n",
       "      <th>Country</th>\n",
       "      <th>Shape</th>\n",
       "      <th>Duration (seconds)</th>\n",
       "      <th>Duration (hours/min)</th>\n",
       "      <th>Comments</th>\n",
       "      <th>Date_Posted</th>\n",
       "      <th>Latitude</th>\n",
       "      <th>longitude</th>\n",
       "      <th>Date</th>\n",
       "      <th>Time</th>\n",
       "    </tr>\n",
       "  </thead>\n",
       "  <tbody>\n",
       "    <tr>\n",
       "      <th>0</th>\n",
       "      <td>san marcos</td>\n",
       "      <td>tx</td>\n",
       "      <td>us</td>\n",
       "      <td>cylinder</td>\n",
       "      <td>2700</td>\n",
       "      <td>45 minutes</td>\n",
       "      <td>This event took place in early fall around 194...</td>\n",
       "      <td>4/27/2004</td>\n",
       "      <td>29.8830556</td>\n",
       "      <td>-97.941111</td>\n",
       "      <td>10/10/1949</td>\n",
       "      <td>20:30</td>\n",
       "    </tr>\n",
       "    <tr>\n",
       "      <th>1</th>\n",
       "      <td>lackland afb</td>\n",
       "      <td>tx</td>\n",
       "      <td>NaN</td>\n",
       "      <td>light</td>\n",
       "      <td>7200</td>\n",
       "      <td>1-2 hrs</td>\n",
       "      <td>1949 Lackland AFB&amp;#44 TX.  Lights racing acros...</td>\n",
       "      <td>12/16/2005</td>\n",
       "      <td>29.38421</td>\n",
       "      <td>-98.581082</td>\n",
       "      <td>10/10/1949</td>\n",
       "      <td>21:00</td>\n",
       "    </tr>\n",
       "    <tr>\n",
       "      <th>2</th>\n",
       "      <td>chester (uk/england)</td>\n",
       "      <td>NaN</td>\n",
       "      <td>gb</td>\n",
       "      <td>circle</td>\n",
       "      <td>20</td>\n",
       "      <td>20 seconds</td>\n",
       "      <td>Green/Orange circular disc over Chester&amp;#44 En...</td>\n",
       "      <td>1/21/2008</td>\n",
       "      <td>53.2</td>\n",
       "      <td>-2.916667</td>\n",
       "      <td>10/10/1955</td>\n",
       "      <td>17:00</td>\n",
       "    </tr>\n",
       "    <tr>\n",
       "      <th>3</th>\n",
       "      <td>edna</td>\n",
       "      <td>tx</td>\n",
       "      <td>us</td>\n",
       "      <td>circle</td>\n",
       "      <td>20</td>\n",
       "      <td>1/2 hour</td>\n",
       "      <td>My older brother and twin sister were leaving ...</td>\n",
       "      <td>1/17/2004</td>\n",
       "      <td>28.9783333</td>\n",
       "      <td>-96.645833</td>\n",
       "      <td>10/10/1956</td>\n",
       "      <td>21:00</td>\n",
       "    </tr>\n",
       "    <tr>\n",
       "      <th>4</th>\n",
       "      <td>kaneohe</td>\n",
       "      <td>hi</td>\n",
       "      <td>us</td>\n",
       "      <td>light</td>\n",
       "      <td>900</td>\n",
       "      <td>15 minutes</td>\n",
       "      <td>AS a Marine 1st Lt. flying an FJ4B fighter/att...</td>\n",
       "      <td>1/22/2004</td>\n",
       "      <td>21.4180556</td>\n",
       "      <td>-157.803611</td>\n",
       "      <td>10/10/1960</td>\n",
       "      <td>20:00</td>\n",
       "    </tr>\n",
       "  </tbody>\n",
       "</table>\n",
       "</div>"
      ]
     },
     "execution_count": 105,
     "metadata": {},
     "output_type": "execute_result"
    }
   ],
   "execution_count": 105
  },
  {
   "metadata": {
    "ExecuteTime": {
     "end_time": "2025-03-11T02:29:44.379819Z",
     "start_time": "2025-03-11T02:29:44.272766Z"
    }
   },
   "cell_type": "code",
   "source": [
    "df[\"Date\"] = pd.to_datetime(df[\"Date\"])\n",
    "df[\"Date_Posted\"] = pd.to_datetime(df[\"Date_Posted\"])"
   ],
   "id": "e90f9f7a41ebaab3",
   "outputs": [],
   "execution_count": 106
  },
  {
   "metadata": {
    "ExecuteTime": {
     "end_time": "2025-03-11T02:29:44.769601Z",
     "start_time": "2025-03-11T02:29:44.416046Z"
    }
   },
   "cell_type": "code",
   "source": [
    "df[\"State\"] = df[\"State\"].str.upper()\n",
    "df[\"Country\"] = df[\"Country\"].str.upper()\n",
    "df[\"Shape\"] = df[\"Shape\"].str.capitalize()\n",
    "df[\"City\"] = df[\"City\"].str.capitalize()\n",
    "df[\"City\"] = df[\"City\"].str.split(\"(\").str[0]"
   ],
   "id": "3a2d6af83266740a",
   "outputs": [],
   "execution_count": 107
  },
  {
   "metadata": {
    "ExecuteTime": {
     "end_time": "2025-03-11T02:29:44.834867Z",
     "start_time": "2025-03-11T02:29:44.820830Z"
    }
   },
   "cell_type": "code",
   "source": "df.head()",
   "id": "69d39b2667be3a72",
   "outputs": [
    {
     "data": {
      "text/plain": [
       "           City State Country     Shape Duration (seconds)  \\\n",
       "0    San marcos    TX      US  Cylinder               2700   \n",
       "1  Lackland afb    TX     NaN     Light               7200   \n",
       "2      Chester    NaN      GB    Circle                 20   \n",
       "3          Edna    TX      US    Circle                 20   \n",
       "4       Kaneohe    HI      US     Light                900   \n",
       "\n",
       "  Duration (hours/min)                                           Comments  \\\n",
       "0           45 minutes  This event took place in early fall around 194...   \n",
       "1              1-2 hrs  1949 Lackland AFB&#44 TX.  Lights racing acros...   \n",
       "2           20 seconds  Green/Orange circular disc over Chester&#44 En...   \n",
       "3             1/2 hour  My older brother and twin sister were leaving ...   \n",
       "4           15 minutes  AS a Marine 1st Lt. flying an FJ4B fighter/att...   \n",
       "\n",
       "  Date_Posted    Latitude  longitude        Date   Time  \n",
       "0  2004-04-27  29.8830556  -97.941111 1949-10-10  20:30  \n",
       "1  2005-12-16    29.38421  -98.581082 1949-10-10  21:00  \n",
       "2  2008-01-21        53.2   -2.916667 1955-10-10  17:00  \n",
       "3  2004-01-17  28.9783333  -96.645833 1956-10-10  21:00  \n",
       "4  2004-01-22  21.4180556 -157.803611 1960-10-10  20:00  "
      ],
      "text/html": [
       "<div>\n",
       "<style scoped>\n",
       "    .dataframe tbody tr th:only-of-type {\n",
       "        vertical-align: middle;\n",
       "    }\n",
       "\n",
       "    .dataframe tbody tr th {\n",
       "        vertical-align: top;\n",
       "    }\n",
       "\n",
       "    .dataframe thead th {\n",
       "        text-align: right;\n",
       "    }\n",
       "</style>\n",
       "<table border=\"1\" class=\"dataframe\">\n",
       "  <thead>\n",
       "    <tr style=\"text-align: right;\">\n",
       "      <th></th>\n",
       "      <th>City</th>\n",
       "      <th>State</th>\n",
       "      <th>Country</th>\n",
       "      <th>Shape</th>\n",
       "      <th>Duration (seconds)</th>\n",
       "      <th>Duration (hours/min)</th>\n",
       "      <th>Comments</th>\n",
       "      <th>Date_Posted</th>\n",
       "      <th>Latitude</th>\n",
       "      <th>longitude</th>\n",
       "      <th>Date</th>\n",
       "      <th>Time</th>\n",
       "    </tr>\n",
       "  </thead>\n",
       "  <tbody>\n",
       "    <tr>\n",
       "      <th>0</th>\n",
       "      <td>San marcos</td>\n",
       "      <td>TX</td>\n",
       "      <td>US</td>\n",
       "      <td>Cylinder</td>\n",
       "      <td>2700</td>\n",
       "      <td>45 minutes</td>\n",
       "      <td>This event took place in early fall around 194...</td>\n",
       "      <td>2004-04-27</td>\n",
       "      <td>29.8830556</td>\n",
       "      <td>-97.941111</td>\n",
       "      <td>1949-10-10</td>\n",
       "      <td>20:30</td>\n",
       "    </tr>\n",
       "    <tr>\n",
       "      <th>1</th>\n",
       "      <td>Lackland afb</td>\n",
       "      <td>TX</td>\n",
       "      <td>NaN</td>\n",
       "      <td>Light</td>\n",
       "      <td>7200</td>\n",
       "      <td>1-2 hrs</td>\n",
       "      <td>1949 Lackland AFB&amp;#44 TX.  Lights racing acros...</td>\n",
       "      <td>2005-12-16</td>\n",
       "      <td>29.38421</td>\n",
       "      <td>-98.581082</td>\n",
       "      <td>1949-10-10</td>\n",
       "      <td>21:00</td>\n",
       "    </tr>\n",
       "    <tr>\n",
       "      <th>2</th>\n",
       "      <td>Chester</td>\n",
       "      <td>NaN</td>\n",
       "      <td>GB</td>\n",
       "      <td>Circle</td>\n",
       "      <td>20</td>\n",
       "      <td>20 seconds</td>\n",
       "      <td>Green/Orange circular disc over Chester&amp;#44 En...</td>\n",
       "      <td>2008-01-21</td>\n",
       "      <td>53.2</td>\n",
       "      <td>-2.916667</td>\n",
       "      <td>1955-10-10</td>\n",
       "      <td>17:00</td>\n",
       "    </tr>\n",
       "    <tr>\n",
       "      <th>3</th>\n",
       "      <td>Edna</td>\n",
       "      <td>TX</td>\n",
       "      <td>US</td>\n",
       "      <td>Circle</td>\n",
       "      <td>20</td>\n",
       "      <td>1/2 hour</td>\n",
       "      <td>My older brother and twin sister were leaving ...</td>\n",
       "      <td>2004-01-17</td>\n",
       "      <td>28.9783333</td>\n",
       "      <td>-96.645833</td>\n",
       "      <td>1956-10-10</td>\n",
       "      <td>21:00</td>\n",
       "    </tr>\n",
       "    <tr>\n",
       "      <th>4</th>\n",
       "      <td>Kaneohe</td>\n",
       "      <td>HI</td>\n",
       "      <td>US</td>\n",
       "      <td>Light</td>\n",
       "      <td>900</td>\n",
       "      <td>15 minutes</td>\n",
       "      <td>AS a Marine 1st Lt. flying an FJ4B fighter/att...</td>\n",
       "      <td>2004-01-22</td>\n",
       "      <td>21.4180556</td>\n",
       "      <td>-157.803611</td>\n",
       "      <td>1960-10-10</td>\n",
       "      <td>20:00</td>\n",
       "    </tr>\n",
       "  </tbody>\n",
       "</table>\n",
       "</div>"
      ]
     },
     "execution_count": 108,
     "metadata": {},
     "output_type": "execute_result"
    }
   ],
   "execution_count": 108
  },
  {
   "metadata": {
    "ExecuteTime": {
     "end_time": "2025-03-11T02:29:44.959072Z",
     "start_time": "2025-03-11T02:29:44.911901Z"
    }
   },
   "cell_type": "code",
   "source": "df.info()",
   "id": "93748f16903f2941",
   "outputs": [
    {
     "name": "stdout",
     "output_type": "stream",
     "text": [
      "<class 'pandas.core.frame.DataFrame'>\n",
      "RangeIndex: 80332 entries, 0 to 80331\n",
      "Data columns (total 12 columns):\n",
      " #   Column                Non-Null Count  Dtype         \n",
      "---  ------                --------------  -----         \n",
      " 0   City                  80332 non-null  object        \n",
      " 1   State                 74535 non-null  object        \n",
      " 2   Country               70662 non-null  object        \n",
      " 3   Shape                 78400 non-null  object        \n",
      " 4   Duration (seconds)    80332 non-null  object        \n",
      " 5   Duration (hours/min)  80332 non-null  object        \n",
      " 6   Comments              80317 non-null  object        \n",
      " 7   Date_Posted           80332 non-null  datetime64[ns]\n",
      " 8   Latitude              80332 non-null  object        \n",
      " 9   longitude             80332 non-null  float64       \n",
      " 10  Date                  80332 non-null  datetime64[ns]\n",
      " 11  Time                  80332 non-null  object        \n",
      "dtypes: datetime64[ns](2), float64(1), object(9)\n",
      "memory usage: 7.4+ MB\n"
     ]
    }
   ],
   "execution_count": 109
  },
  {
   "metadata": {},
   "cell_type": "markdown",
   "source": "## Questions:",
   "id": "6b5ae9e232e9435c"
  },
  {
   "metadata": {},
   "cell_type": "markdown",
   "source": "1. Distribution of the sights",
   "id": "3ccd6aae67c3bbda"
  },
  {
   "metadata": {
    "ExecuteTime": {
     "end_time": "2025-03-11T02:29:45.071631Z",
     "start_time": "2025-03-11T02:29:45.035992Z"
    }
   },
   "cell_type": "code",
   "source": [
    "df[\"Country\"].unique()\n",
    "df[\"Country\"] = df[\"Country\"].replace({\"US\":\"United States\",\n",
    "                                       \"GB\":\"Great Britain\",\n",
    "                                       \"CA\":\"Canada\",\n",
    "                                       \"AU\":\"Australia\",\n",
    "                                       \"DE\":\"Germany\",})"
   ],
   "id": "62517f7a7f8186fe",
   "outputs": [],
   "execution_count": 110
  },
  {
   "metadata": {
    "ExecuteTime": {
     "end_time": "2025-03-11T02:29:45.191712Z",
     "start_time": "2025-03-11T02:29:45.173217Z"
    }
   },
   "cell_type": "code",
   "source": [
    "df_count = df[\"Country\"].value_counts().reset_index()\n",
    "df_count"
   ],
   "id": "6d66be8c53cbe002",
   "outputs": [
    {
     "data": {
      "text/plain": [
       "         Country  count\n",
       "0  United States  65114\n",
       "1         Canada   3000\n",
       "2  Great Britain   1905\n",
       "3      Australia    538\n",
       "4        Germany    105"
      ],
      "text/html": [
       "<div>\n",
       "<style scoped>\n",
       "    .dataframe tbody tr th:only-of-type {\n",
       "        vertical-align: middle;\n",
       "    }\n",
       "\n",
       "    .dataframe tbody tr th {\n",
       "        vertical-align: top;\n",
       "    }\n",
       "\n",
       "    .dataframe thead th {\n",
       "        text-align: right;\n",
       "    }\n",
       "</style>\n",
       "<table border=\"1\" class=\"dataframe\">\n",
       "  <thead>\n",
       "    <tr style=\"text-align: right;\">\n",
       "      <th></th>\n",
       "      <th>Country</th>\n",
       "      <th>count</th>\n",
       "    </tr>\n",
       "  </thead>\n",
       "  <tbody>\n",
       "    <tr>\n",
       "      <th>0</th>\n",
       "      <td>United States</td>\n",
       "      <td>65114</td>\n",
       "    </tr>\n",
       "    <tr>\n",
       "      <th>1</th>\n",
       "      <td>Canada</td>\n",
       "      <td>3000</td>\n",
       "    </tr>\n",
       "    <tr>\n",
       "      <th>2</th>\n",
       "      <td>Great Britain</td>\n",
       "      <td>1905</td>\n",
       "    </tr>\n",
       "    <tr>\n",
       "      <th>3</th>\n",
       "      <td>Australia</td>\n",
       "      <td>538</td>\n",
       "    </tr>\n",
       "    <tr>\n",
       "      <th>4</th>\n",
       "      <td>Germany</td>\n",
       "      <td>105</td>\n",
       "    </tr>\n",
       "  </tbody>\n",
       "</table>\n",
       "</div>"
      ]
     },
     "execution_count": 111,
     "metadata": {},
     "output_type": "execute_result"
    }
   ],
   "execution_count": 111
  },
  {
   "metadata": {
    "ExecuteTime": {
     "end_time": "2025-03-11T02:29:45.288498Z",
     "start_time": "2025-03-11T02:29:45.281320Z"
    }
   },
   "cell_type": "code",
   "source": "type(df_count)",
   "id": "62ecfed3a5c76263",
   "outputs": [
    {
     "data": {
      "text/plain": [
       "pandas.core.frame.DataFrame"
      ]
     },
     "execution_count": 112,
     "metadata": {},
     "output_type": "execute_result"
    }
   ],
   "execution_count": 112
  },
  {
   "metadata": {
    "ExecuteTime": {
     "end_time": "2025-03-11T02:29:45.506438Z",
     "start_time": "2025-03-11T02:29:45.361882Z"
    }
   },
   "cell_type": "code",
   "source": [
    "sns.barplot(x=\"Country\", y=\"count\", hue=\"Country\", data=df_count)\n",
    "plt.xlabel(\"Country\")\n",
    "plt.ylabel(\"Count\")\n",
    "plt.show()"
   ],
   "id": "f0d74399cd6c6e79",
   "outputs": [
    {
     "data": {
      "text/plain": [
       "<Figure size 640x480 with 1 Axes>"
      ],
      "image/png": "[encoded data removed]"
     },
     "metadata": {},
     "output_type": "display_data"
    }
   ],
   "execution_count": 113
  },
  {
   "metadata": {
    "ExecuteTime": {
     "end_time": "2025-03-11T02:29:45.542034Z",
     "start_time": "2025-03-11T02:29:45.535770Z"
    }
   },
   "cell_type": "code",
   "source": "# As we can see, there are way more UFO sightings in the US compared to any other country in the dataset.",
   "id": "d8647881a9d9794f",
   "outputs": [],
   "execution_count": 114
  },
  {
   "metadata": {},
   "cell_type": "markdown",
   "source": "1.1 Is there an area/region with more sights than others?",
   "id": "2061d08e1010cdd6"
  },
  {
   "metadata": {
    "ExecuteTime": {
     "end_time": "2025-03-11T02:29:45.725286Z",
     "start_time": "2025-03-11T02:29:45.650700Z"
    }
   },
   "cell_type": "code",
   "source": [
    "df_by_city_US = df.query(\"Country == 'United States'\").groupby([\"Country\", \"City\"]).size().reset_index(name=\"Count\").sort_values(by=\"Count\", ascending=False)\n",
    "df_by_city_US"
   ],
   "id": "febc9a611d20131f",
   "outputs": [
    {
     "data": {
      "text/plain": [
       "             Country            City  Count\n",
       "8493   United States         Seattle    524\n",
       "7368   United States         Phoenix    454\n",
       "6539   United States  New york city     399\n",
       "7609   United States        Portland    373\n",
       "5103   United States       Las vegas    367\n",
       "...              ...             ...    ...\n",
       "10548  United States    York county       1\n",
       "10549  United States    York springs      1\n",
       "3547   United States      Glen house      1\n",
       "5477   United States        Luverne       1\n",
       "600    United States       Beckville      1\n",
       "\n",
       "[10588 rows x 3 columns]"
      ],
      "text/html": [
       "<div>\n",
       "<style scoped>\n",
       "    .dataframe tbody tr th:only-of-type {\n",
       "        vertical-align: middle;\n",
       "    }\n",
       "\n",
       "    .dataframe tbody tr th {\n",
       "        vertical-align: top;\n",
       "    }\n",
       "\n",
       "    .dataframe thead th {\n",
       "        text-align: right;\n",
       "    }\n",
       "</style>\n",
       "<table border=\"1\" class=\"dataframe\">\n",
       "  <thead>\n",
       "    <tr style=\"text-align: right;\">\n",
       "      <th></th>\n",
       "      <th>Country</th>\n",
       "      <th>City</th>\n",
       "      <th>Count</th>\n",
       "    </tr>\n",
       "  </thead>\n",
       "  <tbody>\n",
       "    <tr>\n",
       "      <th>8493</th>\n",
       "      <td>United States</td>\n",
       "      <td>Seattle</td>\n",
       "      <td>524</td>\n",
       "    </tr>\n",
       "    <tr>\n",
       "      <th>7368</th>\n",
       "      <td>United States</td>\n",
       "      <td>Phoenix</td>\n",
       "      <td>454</td>\n",
       "    </tr>\n",
       "    <tr>\n",
       "      <th>6539</th>\n",
       "      <td>United States</td>\n",
       "      <td>New york city</td>\n",
       "      <td>399</td>\n",
       "    </tr>\n",
       "    <tr>\n",
       "      <th>7609</th>\n",
       "      <td>United States</td>\n",
       "      <td>Portland</td>\n",
       "      <td>373</td>\n",
       "    </tr>\n",
       "    <tr>\n",
       "      <th>5103</th>\n",
       "      <td>United States</td>\n",
       "      <td>Las vegas</td>\n",
       "      <td>367</td>\n",
       "    </tr>\n",
       "    <tr>\n",
       "      <th>...</th>\n",
       "      <td>...</td>\n",
       "      <td>...</td>\n",
       "      <td>...</td>\n",
       "    </tr>\n",
       "    <tr>\n",
       "      <th>10548</th>\n",
       "      <td>United States</td>\n",
       "      <td>York county</td>\n",
       "      <td>1</td>\n",
       "    </tr>\n",
       "    <tr>\n",
       "      <th>10549</th>\n",
       "      <td>United States</td>\n",
       "      <td>York springs</td>\n",
       "      <td>1</td>\n",
       "    </tr>\n",
       "    <tr>\n",
       "      <th>3547</th>\n",
       "      <td>United States</td>\n",
       "      <td>Glen house</td>\n",
       "      <td>1</td>\n",
       "    </tr>\n",
       "    <tr>\n",
       "      <th>5477</th>\n",
       "      <td>United States</td>\n",
       "      <td>Luverne</td>\n",
       "      <td>1</td>\n",
       "    </tr>\n",
       "    <tr>\n",
       "      <th>600</th>\n",
       "      <td>United States</td>\n",
       "      <td>Beckville</td>\n",
       "      <td>1</td>\n",
       "    </tr>\n",
       "  </tbody>\n",
       "</table>\n",
       "<p>10588 rows × 3 columns</p>\n",
       "</div>"
      ]
     },
     "execution_count": 115,
     "metadata": {},
     "output_type": "execute_result"
    }
   ],
   "execution_count": 115
  },
  {
   "metadata": {
    "ExecuteTime": {
     "end_time": "2025-03-11T02:29:45.786896Z",
     "start_time": "2025-03-11T02:29:45.776744Z"
    }
   },
   "cell_type": "code",
   "source": "df_by_city_US[\"City\"].nunique()",
   "id": "ce1493f6b055c62",
   "outputs": [
    {
     "data": {
      "text/plain": [
       "10588"
      ]
     },
     "execution_count": 116,
     "metadata": {},
     "output_type": "execute_result"
    }
   ],
   "execution_count": 116
  },
  {
   "metadata": {
    "ExecuteTime": {
     "end_time": "2025-03-11T02:29:46.100453Z",
     "start_time": "2025-03-11T02:29:45.902409Z"
    }
   },
   "cell_type": "code",
   "source": [
    "df_by_city_US_sorted = df_by_city_US.iloc[0:10].sort_values(by=\"Count\", ascending=False)\n",
    "sns.barplot(data=df_by_city_US_sorted, x=\"Count\", y=\"City\", orient=\"h\", hue=\"City\")\n",
    "plt.xlabel(\"Sightings #\")\n",
    "plt.title(\"US Cities UFO Sightings\")\n",
    "plt.show()"
   ],
   "id": "557b1c4c392c38aa",
   "outputs": [
    {
     "data": {
      "text/plain": [
       "<Figure size 640x480 with 1 Axes>"
      ],
      "image/png": "[encoded data removed]"
     },
     "metadata": {},
     "output_type": "display_data"
    }
   ],
   "execution_count": 117
  },
  {
   "metadata": {},
   "cell_type": "markdown",
   "source": "### As we can see in graph above, there are more sightings in big cities and coastal cities.",
   "id": "b50b51297fb47d40"
  },
  {
   "metadata": {
    "ExecuteTime": {
     "end_time": "2025-03-11T02:29:46.129480Z",
     "start_time": "2025-03-11T02:29:46.101481Z"
    }
   },
   "cell_type": "code",
   "source": [
    "df_by_city_CA = df.query(\"Country == 'Canada'\").groupby([\"Country\", \"City\"]).size().reset_index(name=\"Count\").sort_values(by=\"Count\", ascending=False)\n",
    "df_by_city_CA"
   ],
   "id": "a5a450f53a53f132",
   "outputs": [
    {
     "data": {
      "text/plain": [
       "    Country          City  Count\n",
       "527  Canada      Toronto     177\n",
       "537  Canada    Vancouver     100\n",
       "366  Canada       Ottawa      88\n",
       "74   Canada      Calgary      78\n",
       "543  Canada     Victoria      78\n",
       "..      ...           ...    ...\n",
       "519  Canada      Thorold       1\n",
       "563  Canada     Wheatley       1\n",
       "565  Canada  White river       1\n",
       "569  Canada    Whitewood       1\n",
       "570  Canada  Whycocomagh       1\n",
       "\n",
       "[586 rows x 3 columns]"
      ],
      "text/html": [
       "<div>\n",
       "<style scoped>\n",
       "    .dataframe tbody tr th:only-of-type {\n",
       "        vertical-align: middle;\n",
       "    }\n",
       "\n",
       "    .dataframe tbody tr th {\n",
       "        vertical-align: top;\n",
       "    }\n",
       "\n",
       "    .dataframe thead th {\n",
       "        text-align: right;\n",
       "    }\n",
       "</style>\n",
       "<table border=\"1\" class=\"dataframe\">\n",
       "  <thead>\n",
       "    <tr style=\"text-align: right;\">\n",
       "      <th></th>\n",
       "      <th>Country</th>\n",
       "      <th>City</th>\n",
       "      <th>Count</th>\n",
       "    </tr>\n",
       "  </thead>\n",
       "  <tbody>\n",
       "    <tr>\n",
       "      <th>527</th>\n",
       "      <td>Canada</td>\n",
       "      <td>Toronto</td>\n",
       "      <td>177</td>\n",
       "    </tr>\n",
       "    <tr>\n",
       "      <th>537</th>\n",
       "      <td>Canada</td>\n",
       "      <td>Vancouver</td>\n",
       "      <td>100</td>\n",
       "    </tr>\n",
       "    <tr>\n",
       "      <th>366</th>\n",
       "      <td>Canada</td>\n",
       "      <td>Ottawa</td>\n",
       "      <td>88</td>\n",
       "    </tr>\n",
       "    <tr>\n",
       "      <th>74</th>\n",
       "      <td>Canada</td>\n",
       "      <td>Calgary</td>\n",
       "      <td>78</td>\n",
       "    </tr>\n",
       "    <tr>\n",
       "      <th>543</th>\n",
       "      <td>Canada</td>\n",
       "      <td>Victoria</td>\n",
       "      <td>78</td>\n",
       "    </tr>\n",
       "    <tr>\n",
       "      <th>...</th>\n",
       "      <td>...</td>\n",
       "      <td>...</td>\n",
       "      <td>...</td>\n",
       "    </tr>\n",
       "    <tr>\n",
       "      <th>519</th>\n",
       "      <td>Canada</td>\n",
       "      <td>Thorold</td>\n",
       "      <td>1</td>\n",
       "    </tr>\n",
       "    <tr>\n",
       "      <th>563</th>\n",
       "      <td>Canada</td>\n",
       "      <td>Wheatley</td>\n",
       "      <td>1</td>\n",
       "    </tr>\n",
       "    <tr>\n",
       "      <th>565</th>\n",
       "      <td>Canada</td>\n",
       "      <td>White river</td>\n",
       "      <td>1</td>\n",
       "    </tr>\n",
       "    <tr>\n",
       "      <th>569</th>\n",
       "      <td>Canada</td>\n",
       "      <td>Whitewood</td>\n",
       "      <td>1</td>\n",
       "    </tr>\n",
       "    <tr>\n",
       "      <th>570</th>\n",
       "      <td>Canada</td>\n",
       "      <td>Whycocomagh</td>\n",
       "      <td>1</td>\n",
       "    </tr>\n",
       "  </tbody>\n",
       "</table>\n",
       "<p>586 rows × 3 columns</p>\n",
       "</div>"
      ]
     },
     "execution_count": 118,
     "metadata": {},
     "output_type": "execute_result"
    }
   ],
   "execution_count": 118
  },
  {
   "metadata": {
    "ExecuteTime": {
     "end_time": "2025-03-11T02:29:46.428735Z",
     "start_time": "2025-03-11T02:29:46.219969Z"
    }
   },
   "cell_type": "code",
   "source": [
    "df_by_city_CA_sorted = df_by_city_CA.iloc[0:10].sort_values(by=\"Count\", ascending=False)\n",
    "sns.barplot(data=df_by_city_CA_sorted, x=\"Count\", y=\"City\", orient=\"h\", hue=\"City\")\n",
    "plt.xlabel(\"Sightings #\")\n",
    "plt.title(\"Canada Cities UFO Sightings\")\n",
    "\n",
    "plt.show()"
   ],
   "id": "cba8c3ad78aba7cc",
   "outputs": [
    {
     "data": {
      "text/plain": [
       "<Figure size 640x480 with 1 Axes>"
      ],
      "image/png": "[encoded data removed]"
     },
     "metadata": {},
     "output_type": "display_data"
    }
   ],
   "execution_count": 119
  },
  {
   "metadata": {
    "ExecuteTime": {
     "end_time": "2025-03-11T02:29:46.498193Z",
     "start_time": "2025-03-11T02:29:46.473689Z"
    }
   },
   "cell_type": "code",
   "source": [
    "df_by_city_GB = df.query(\"Country == 'Great Britain'\").groupby([\"Country\", \"City\"]).size().reset_index(name=\"Count\").sort_values(by=\"Count\", ascending=False)\n",
    "df_by_city_GB"
   ],
   "id": "fefa07738ec8bcb4",
   "outputs": [
    {
     "data": {
      "text/plain": [
       "           Country           City  Count\n",
       "318  Great Britain        London     206\n",
       "50   Great Britain    Birmingham      62\n",
       "331  Great Britain    Manchester      60\n",
       "201  Great Britain       Glasgow      40\n",
       "379  Great Britain    Nottingham      33\n",
       "..             ...            ...    ...\n",
       "34   Great Britain    Barnstaple       1\n",
       "37   Great Britain      Bathgate       1\n",
       "38   Great Britain  Beaconsfield       1\n",
       "40   Great Britain    Bedlington       1\n",
       "41   Great Britain       Belfast       1\n",
       "\n",
       "[573 rows x 3 columns]"
      ],
      "text/html": [
       "<div>\n",
       "<style scoped>\n",
       "    .dataframe tbody tr th:only-of-type {\n",
       "        vertical-align: middle;\n",
       "    }\n",
       "\n",
       "    .dataframe tbody tr th {\n",
       "        vertical-align: top;\n",
       "    }\n",
       "\n",
       "    .dataframe thead th {\n",
       "        text-align: right;\n",
       "    }\n",
       "</style>\n",
       "<table border=\"1\" class=\"dataframe\">\n",
       "  <thead>\n",
       "    <tr style=\"text-align: right;\">\n",
       "      <th></th>\n",
       "      <th>Country</th>\n",
       "      <th>City</th>\n",
       "      <th>Count</th>\n",
       "    </tr>\n",
       "  </thead>\n",
       "  <tbody>\n",
       "    <tr>\n",
       "      <th>318</th>\n",
       "      <td>Great Britain</td>\n",
       "      <td>London</td>\n",
       "      <td>206</td>\n",
       "    </tr>\n",
       "    <tr>\n",
       "      <th>50</th>\n",
       "      <td>Great Britain</td>\n",
       "      <td>Birmingham</td>\n",
       "      <td>62</td>\n",
       "    </tr>\n",
       "    <tr>\n",
       "      <th>331</th>\n",
       "      <td>Great Britain</td>\n",
       "      <td>Manchester</td>\n",
       "      <td>60</td>\n",
       "    </tr>\n",
       "    <tr>\n",
       "      <th>201</th>\n",
       "      <td>Great Britain</td>\n",
       "      <td>Glasgow</td>\n",
       "      <td>40</td>\n",
       "    </tr>\n",
       "    <tr>\n",
       "      <th>379</th>\n",
       "      <td>Great Britain</td>\n",
       "      <td>Nottingham</td>\n",
       "      <td>33</td>\n",
       "    </tr>\n",
       "    <tr>\n",
       "      <th>...</th>\n",
       "      <td>...</td>\n",
       "      <td>...</td>\n",
       "      <td>...</td>\n",
       "    </tr>\n",
       "    <tr>\n",
       "      <th>34</th>\n",
       "      <td>Great Britain</td>\n",
       "      <td>Barnstaple</td>\n",
       "      <td>1</td>\n",
       "    </tr>\n",
       "    <tr>\n",
       "      <th>37</th>\n",
       "      <td>Great Britain</td>\n",
       "      <td>Bathgate</td>\n",
       "      <td>1</td>\n",
       "    </tr>\n",
       "    <tr>\n",
       "      <th>38</th>\n",
       "      <td>Great Britain</td>\n",
       "      <td>Beaconsfield</td>\n",
       "      <td>1</td>\n",
       "    </tr>\n",
       "    <tr>\n",
       "      <th>40</th>\n",
       "      <td>Great Britain</td>\n",
       "      <td>Bedlington</td>\n",
       "      <td>1</td>\n",
       "    </tr>\n",
       "    <tr>\n",
       "      <th>41</th>\n",
       "      <td>Great Britain</td>\n",
       "      <td>Belfast</td>\n",
       "      <td>1</td>\n",
       "    </tr>\n",
       "  </tbody>\n",
       "</table>\n",
       "<p>573 rows × 3 columns</p>\n",
       "</div>"
      ]
     },
     "execution_count": 120,
     "metadata": {},
     "output_type": "execute_result"
    }
   ],
   "execution_count": 120
  },
  {
   "metadata": {
    "ExecuteTime": {
     "end_time": "2025-03-11T02:29:46.791537Z",
     "start_time": "2025-03-11T02:29:46.579482Z"
    }
   },
   "cell_type": "code",
   "source": [
    "df_by_city_GB_sorted = df_by_city_GB.iloc[0:10].sort_values(by=\"Count\", ascending=False)\n",
    "sns.barplot(data=df_by_city_GB_sorted, x=\"Count\", y=\"City\", orient=\"h\", hue=\"City\")\n",
    "plt.xlabel(\"Sightings #\")\n",
    "plt.title(\"Great Britain Cities UFO Sightings\")\n",
    "plt.show()"
   ],
   "id": "a6c6b94f3ef9cff1",
   "outputs": [
    {
     "data": {
      "text/plain": [
       "<Figure size 640x480 with 1 Axes>"
      ],
      "image/png": "[encoded data removed]"
     },
     "metadata": {},
     "output_type": "display_data"
    }
   ],
   "execution_count": 121
  },
  {
   "metadata": {
    "ExecuteTime": {
     "end_time": "2025-03-11T02:29:46.851380Z",
     "start_time": "2025-03-11T02:29:46.831986Z"
    }
   },
   "cell_type": "code",
   "source": [
    "df_by_city_AU = df.query(\"Country == 'Australia'\").groupby([\"Country\", \"City\"]).size().reset_index(name=\"Count\").sort_values(by=\"Count\", ascending=False)\n",
    "df_by_city_AU"
   ],
   "id": "752b0661f2bf1e9c",
   "outputs": [
    {
     "data": {
      "text/plain": [
       "       Country           City  Count\n",
       "138  Australia        Sydney      81\n",
       "99   Australia     Melbourne      67\n",
       "124  Australia         Perth      49\n",
       "23   Australia      Brisbane      48\n",
       "0    Australia      Adelaide      24\n",
       "..         ...            ...    ...\n",
       "160  Australia       Woy woy       1\n",
       "161  Australia         Wyong       1\n",
       "162  Australia       Wyreema       1\n",
       "163  Australia       Yandoit       1\n",
       "164  Australia  Yorkeys knob       1\n",
       "\n",
       "[165 rows x 3 columns]"
      ],
      "text/html": [
       "<div>\n",
       "<style scoped>\n",
       "    .dataframe tbody tr th:only-of-type {\n",
       "        vertical-align: middle;\n",
       "    }\n",
       "\n",
       "    .dataframe tbody tr th {\n",
       "        vertical-align: top;\n",
       "    }\n",
       "\n",
       "    .dataframe thead th {\n",
       "        text-align: right;\n",
       "    }\n",
       "</style>\n",
       "<table border=\"1\" class=\"dataframe\">\n",
       "  <thead>\n",
       "    <tr style=\"text-align: right;\">\n",
       "      <th></th>\n",
       "      <th>Country</th>\n",
       "      <th>City</th>\n",
       "      <th>Count</th>\n",
       "    </tr>\n",
       "  </thead>\n",
       "  <tbody>\n",
       "    <tr>\n",
       "      <th>138</th>\n",
       "      <td>Australia</td>\n",
       "      <td>Sydney</td>\n",
       "      <td>81</td>\n",
       "    </tr>\n",
       "    <tr>\n",
       "      <th>99</th>\n",
       "      <td>Australia</td>\n",
       "      <td>Melbourne</td>\n",
       "      <td>67</td>\n",
       "    </tr>\n",
       "    <tr>\n",
       "      <th>124</th>\n",
       "      <td>Australia</td>\n",
       "      <td>Perth</td>\n",
       "      <td>49</td>\n",
       "    </tr>\n",
       "    <tr>\n",
       "      <th>23</th>\n",
       "      <td>Australia</td>\n",
       "      <td>Brisbane</td>\n",
       "      <td>48</td>\n",
       "    </tr>\n",
       "    <tr>\n",
       "      <th>0</th>\n",
       "      <td>Australia</td>\n",
       "      <td>Adelaide</td>\n",
       "      <td>24</td>\n",
       "    </tr>\n",
       "    <tr>\n",
       "      <th>...</th>\n",
       "      <td>...</td>\n",
       "      <td>...</td>\n",
       "      <td>...</td>\n",
       "    </tr>\n",
       "    <tr>\n",
       "      <th>160</th>\n",
       "      <td>Australia</td>\n",
       "      <td>Woy woy</td>\n",
       "      <td>1</td>\n",
       "    </tr>\n",
       "    <tr>\n",
       "      <th>161</th>\n",
       "      <td>Australia</td>\n",
       "      <td>Wyong</td>\n",
       "      <td>1</td>\n",
       "    </tr>\n",
       "    <tr>\n",
       "      <th>162</th>\n",
       "      <td>Australia</td>\n",
       "      <td>Wyreema</td>\n",
       "      <td>1</td>\n",
       "    </tr>\n",
       "    <tr>\n",
       "      <th>163</th>\n",
       "      <td>Australia</td>\n",
       "      <td>Yandoit</td>\n",
       "      <td>1</td>\n",
       "    </tr>\n",
       "    <tr>\n",
       "      <th>164</th>\n",
       "      <td>Australia</td>\n",
       "      <td>Yorkeys knob</td>\n",
       "      <td>1</td>\n",
       "    </tr>\n",
       "  </tbody>\n",
       "</table>\n",
       "<p>165 rows × 3 columns</p>\n",
       "</div>"
      ]
     },
     "execution_count": 122,
     "metadata": {},
     "output_type": "execute_result"
    }
   ],
   "execution_count": 122
  },
  {
   "metadata": {
    "ExecuteTime": {
     "end_time": "2025-03-11T02:29:47.124558Z",
     "start_time": "2025-03-11T02:29:46.903345Z"
    }
   },
   "cell_type": "code",
   "source": [
    "df_by_city_AU_sorted = df_by_city_AU.iloc[0:10].sort_values(by=\"Count\", ascending=False)\n",
    "sns.barplot(data=df_by_city_AU_sorted, x=\"Count\", y=\"City\", orient=\"h\", hue=\"City\")\n",
    "plt.xlabel(\"Sightings #\")\n",
    "plt.title(\"Australia Cities UFO Sightings\")\n",
    "plt.show()"
   ],
   "id": "2ae20285ea3d9cda",
   "outputs": [
    {
     "data": {
      "text/plain": [
       "<Figure size 640x480 with 1 Axes>"
      ],
      "image/png": "[encoded data removed]"
     },
     "metadata": {},
     "output_type": "display_data"
    }
   ],
   "execution_count": 123
  },
  {
   "metadata": {
    "ExecuteTime": {
     "end_time": "2025-03-11T02:29:47.187132Z",
     "start_time": "2025-03-11T02:29:47.164862Z"
    }
   },
   "cell_type": "code",
   "source": [
    "df_by_city_DE = df.query(\"Country == 'Germany'\").groupby([\"Country\", \"City\"]).size().reset_index(name=\"Count\").sort_values(by=\"Count\", ascending=False)\n",
    "df_by_city_DE"
   ],
   "id": "6227a1854e07f79",
   "outputs": [
    {
     "data": {
      "text/plain": [
       "    Country          City  Count\n",
       "7   Germany       Berlin      11\n",
       "49  Germany       Munich       5\n",
       "13  Germany       Bremen       3\n",
       "1   Germany      Ansbach       3\n",
       "5   Germany   Baumholder       2\n",
       "..      ...           ...    ...\n",
       "74  Germany  Weissenburg       1\n",
       "75  Germany       Werder       1\n",
       "76  Germany  Wildflecken       1\n",
       "77  Germany    Zehdenick       1\n",
       "78  Germany     Zirndorf       1\n",
       "\n",
       "[79 rows x 3 columns]"
      ],
      "text/html": [
       "<div>\n",
       "<style scoped>\n",
       "    .dataframe tbody tr th:only-of-type {\n",
       "        vertical-align: middle;\n",
       "    }\n",
       "\n",
       "    .dataframe tbody tr th {\n",
       "        vertical-align: top;\n",
       "    }\n",
       "\n",
       "    .dataframe thead th {\n",
       "        text-align: right;\n",
       "    }\n",
       "</style>\n",
       "<table border=\"1\" class=\"dataframe\">\n",
       "  <thead>\n",
       "    <tr style=\"text-align: right;\">\n",
       "      <th></th>\n",
       "      <th>Country</th>\n",
       "      <th>City</th>\n",
       "      <th>Count</th>\n",
       "    </tr>\n",
       "  </thead>\n",
       "  <tbody>\n",
       "    <tr>\n",
       "      <th>7</th>\n",
       "      <td>Germany</td>\n",
       "      <td>Berlin</td>\n",
       "      <td>11</td>\n",
       "    </tr>\n",
       "    <tr>\n",
       "      <th>49</th>\n",
       "      <td>Germany</td>\n",
       "      <td>Munich</td>\n",
       "      <td>5</td>\n",
       "    </tr>\n",
       "    <tr>\n",
       "      <th>13</th>\n",
       "      <td>Germany</td>\n",
       "      <td>Bremen</td>\n",
       "      <td>3</td>\n",
       "    </tr>\n",
       "    <tr>\n",
       "      <th>1</th>\n",
       "      <td>Germany</td>\n",
       "      <td>Ansbach</td>\n",
       "      <td>3</td>\n",
       "    </tr>\n",
       "    <tr>\n",
       "      <th>5</th>\n",
       "      <td>Germany</td>\n",
       "      <td>Baumholder</td>\n",
       "      <td>2</td>\n",
       "    </tr>\n",
       "    <tr>\n",
       "      <th>...</th>\n",
       "      <td>...</td>\n",
       "      <td>...</td>\n",
       "      <td>...</td>\n",
       "    </tr>\n",
       "    <tr>\n",
       "      <th>74</th>\n",
       "      <td>Germany</td>\n",
       "      <td>Weissenburg</td>\n",
       "      <td>1</td>\n",
       "    </tr>\n",
       "    <tr>\n",
       "      <th>75</th>\n",
       "      <td>Germany</td>\n",
       "      <td>Werder</td>\n",
       "      <td>1</td>\n",
       "    </tr>\n",
       "    <tr>\n",
       "      <th>76</th>\n",
       "      <td>Germany</td>\n",
       "      <td>Wildflecken</td>\n",
       "      <td>1</td>\n",
       "    </tr>\n",
       "    <tr>\n",
       "      <th>77</th>\n",
       "      <td>Germany</td>\n",
       "      <td>Zehdenick</td>\n",
       "      <td>1</td>\n",
       "    </tr>\n",
       "    <tr>\n",
       "      <th>78</th>\n",
       "      <td>Germany</td>\n",
       "      <td>Zirndorf</td>\n",
       "      <td>1</td>\n",
       "    </tr>\n",
       "  </tbody>\n",
       "</table>\n",
       "<p>79 rows × 3 columns</p>\n",
       "</div>"
      ]
     },
     "execution_count": 124,
     "metadata": {},
     "output_type": "execute_result"
    }
   ],
   "execution_count": 124
  },
  {
   "metadata": {
    "ExecuteTime": {
     "end_time": "2025-03-11T02:29:47.453856Z",
     "start_time": "2025-03-11T02:29:47.245842Z"
    }
   },
   "cell_type": "code",
   "source": [
    "df_by_city_DE_sorted = df_by_city_DE.iloc[0:10].sort_values(by=\"Count\", ascending=False)\n",
    "sns.barplot(data=df_by_city_DE_sorted, x=\"Count\", y=\"City\", orient=\"h\", hue=\"City\")\n",
    "plt.xlabel(\"Sightings #\")\n",
    "plt.title(\"Germany Cities UFO Sightings\")\n",
    "plt.show()"
   ],
   "id": "4e0241f341921299",
   "outputs": [
    {
     "data": {
      "text/plain": [
       "<Figure size 640x480 with 1 Axes>"
      ],
      "image/png": "[encoded data removed]"
     },
     "metadata": {},
     "output_type": "display_data"
    }
   ],
   "execution_count": 125
  },
  {
   "metadata": {},
   "cell_type": "markdown",
   "source": "2. Reports by Year",
   "id": "f1541a91eb226824"
  },
  {
   "metadata": {
    "ExecuteTime": {
     "end_time": "2025-03-11T02:29:47.542516Z",
     "start_time": "2025-03-11T02:29:47.496425Z"
    }
   },
   "cell_type": "code",
   "source": "df.info()",
   "id": "e20a955a34f1c839",
   "outputs": [
    {
     "name": "stdout",
     "output_type": "stream",
     "text": [
      "<class 'pandas.core.frame.DataFrame'>\n",
      "RangeIndex: 80332 entries, 0 to 80331\n",
      "Data columns (total 12 columns):\n",
      " #   Column                Non-Null Count  Dtype         \n",
      "---  ------                --------------  -----         \n",
      " 0   City                  80332 non-null  object        \n",
      " 1   State                 74535 non-null  object        \n",
      " 2   Country               70662 non-null  object        \n",
      " 3   Shape                 78400 non-null  object        \n",
      " 4   Duration (seconds)    80332 non-null  object        \n",
      " 5   Duration (hours/min)  80332 non-null  object        \n",
      " 6   Comments              80317 non-null  object        \n",
      " 7   Date_Posted           80332 non-null  datetime64[ns]\n",
      " 8   Latitude              80332 non-null  object        \n",
      " 9   longitude             80332 non-null  float64       \n",
      " 10  Date                  80332 non-null  datetime64[ns]\n",
      " 11  Time                  80332 non-null  object        \n",
      "dtypes: datetime64[ns](2), float64(1), object(9)\n",
      "memory usage: 7.4+ MB\n"
     ]
    }
   ],
   "execution_count": 126
  },
  {
   "metadata": {
    "ExecuteTime": {
     "end_time": "2025-03-11T02:29:47.592112Z",
     "start_time": "2025-03-11T02:29:47.583024Z"
    }
   },
   "cell_type": "code",
   "source": "df[\"Year\"] = df[\"Date_Posted\"].dt.year",
   "id": "326e925af6440620",
   "outputs": [],
   "execution_count": 127
  },
  {
   "metadata": {
    "ExecuteTime": {
     "end_time": "2025-03-11T02:29:47.655148Z",
     "start_time": "2025-03-11T02:29:47.640501Z"
    }
   },
   "cell_type": "code",
   "source": "df.head()",
   "id": "bf67e27d1bebb280",
   "outputs": [
    {
     "data": {
      "text/plain": [
       "           City State        Country     Shape Duration (seconds)  \\\n",
       "0    San marcos    TX  United States  Cylinder               2700   \n",
       "1  Lackland afb    TX            NaN     Light               7200   \n",
       "2      Chester    NaN  Great Britain    Circle                 20   \n",
       "3          Edna    TX  United States    Circle                 20   \n",
       "4       Kaneohe    HI  United States     Light                900   \n",
       "\n",
       "  Duration (hours/min)                                           Comments  \\\n",
       "0           45 minutes  This event took place in early fall around 194...   \n",
       "1              1-2 hrs  1949 Lackland AFB&#44 TX.  Lights racing acros...   \n",
       "2           20 seconds  Green/Orange circular disc over Chester&#44 En...   \n",
       "3             1/2 hour  My older brother and twin sister were leaving ...   \n",
       "4           15 minutes  AS a Marine 1st Lt. flying an FJ4B fighter/att...   \n",
       "\n",
       "  Date_Posted    Latitude  longitude        Date   Time  Year  \n",
       "0  2004-04-27  29.8830556  -97.941111 1949-10-10  20:30  2004  \n",
       "1  2005-12-16    29.38421  -98.581082 1949-10-10  21:00  2005  \n",
       "2  2008-01-21        53.2   -2.916667 1955-10-10  17:00  2008  \n",
       "3  2004-01-17  28.9783333  -96.645833 1956-10-10  21:00  2004  \n",
       "4  2004-01-22  21.4180556 -157.803611 1960-10-10  20:00  2004  "
      ],
      "text/html": [
       "<div>\n",
       "<style scoped>\n",
       "    .dataframe tbody tr th:only-of-type {\n",
       "        vertical-align: middle;\n",
       "    }\n",
       "\n",
       "    .dataframe tbody tr th {\n",
       "        vertical-align: top;\n",
       "    }\n",
       "\n",
       "    .dataframe thead th {\n",
       "        text-align: right;\n",
       "    }\n",
       "</style>\n",
       "<table border=\"1\" class=\"dataframe\">\n",
       "  <thead>\n",
       "    <tr style=\"text-align: right;\">\n",
       "      <th></th>\n",
       "      <th>City</th>\n",
       "      <th>State</th>\n",
       "      <th>Country</th>\n",
       "      <th>Shape</th>\n",
       "      <th>Duration (seconds)</th>\n",
       "      <th>Duration (hours/min)</th>\n",
       "      <th>Comments</th>\n",
       "      <th>Date_Posted</th>\n",
       "      <th>Latitude</th>\n",
       "      <th>longitude</th>\n",
       "      <th>Date</th>\n",
       "      <th>Time</th>\n",
       "      <th>Year</th>\n",
       "    </tr>\n",
       "  </thead>\n",
       "  <tbody>\n",
       "    <tr>\n",
       "      <th>0</th>\n",
       "      <td>San marcos</td>\n",
       "      <td>TX</td>\n",
       "      <td>United States</td>\n",
       "      <td>Cylinder</td>\n",
       "      <td>2700</td>\n",
       "      <td>45 minutes</td>\n",
       "      <td>This event took place in early fall around 194...</td>\n",
       "      <td>2004-04-27</td>\n",
       "      <td>29.8830556</td>\n",
       "      <td>-97.941111</td>\n",
       "      <td>1949-10-10</td>\n",
       "      <td>20:30</td>\n",
       "      <td>2004</td>\n",
       "    </tr>\n",
       "    <tr>\n",
       "      <th>1</th>\n",
       "      <td>Lackland afb</td>\n",
       "      <td>TX</td>\n",
       "      <td>NaN</td>\n",
       "      <td>Light</td>\n",
       "      <td>7200</td>\n",
       "      <td>1-2 hrs</td>\n",
       "      <td>1949 Lackland AFB&amp;#44 TX.  Lights racing acros...</td>\n",
       "      <td>2005-12-16</td>\n",
       "      <td>29.38421</td>\n",
       "      <td>-98.581082</td>\n",
       "      <td>1949-10-10</td>\n",
       "      <td>21:00</td>\n",
       "      <td>2005</td>\n",
       "    </tr>\n",
       "    <tr>\n",
       "      <th>2</th>\n",
       "      <td>Chester</td>\n",
       "      <td>NaN</td>\n",
       "      <td>Great Britain</td>\n",
       "      <td>Circle</td>\n",
       "      <td>20</td>\n",
       "      <td>20 seconds</td>\n",
       "      <td>Green/Orange circular disc over Chester&amp;#44 En...</td>\n",
       "      <td>2008-01-21</td>\n",
       "      <td>53.2</td>\n",
       "      <td>-2.916667</td>\n",
       "      <td>1955-10-10</td>\n",
       "      <td>17:00</td>\n",
       "      <td>2008</td>\n",
       "    </tr>\n",
       "    <tr>\n",
       "      <th>3</th>\n",
       "      <td>Edna</td>\n",
       "      <td>TX</td>\n",
       "      <td>United States</td>\n",
       "      <td>Circle</td>\n",
       "      <td>20</td>\n",
       "      <td>1/2 hour</td>\n",
       "      <td>My older brother and twin sister were leaving ...</td>\n",
       "      <td>2004-01-17</td>\n",
       "      <td>28.9783333</td>\n",
       "      <td>-96.645833</td>\n",
       "      <td>1956-10-10</td>\n",
       "      <td>21:00</td>\n",
       "      <td>2004</td>\n",
       "    </tr>\n",
       "    <tr>\n",
       "      <th>4</th>\n",
       "      <td>Kaneohe</td>\n",
       "      <td>HI</td>\n",
       "      <td>United States</td>\n",
       "      <td>Light</td>\n",
       "      <td>900</td>\n",
       "      <td>15 minutes</td>\n",
       "      <td>AS a Marine 1st Lt. flying an FJ4B fighter/att...</td>\n",
       "      <td>2004-01-22</td>\n",
       "      <td>21.4180556</td>\n",
       "      <td>-157.803611</td>\n",
       "      <td>1960-10-10</td>\n",
       "      <td>20:00</td>\n",
       "      <td>2004</td>\n",
       "    </tr>\n",
       "  </tbody>\n",
       "</table>\n",
       "</div>"
      ]
     },
     "execution_count": 128,
     "metadata": {},
     "output_type": "execute_result"
    }
   ],
   "execution_count": 128
  },
  {
   "metadata": {
    "ExecuteTime": {
     "end_time": "2025-03-11T02:29:47.796932Z",
     "start_time": "2025-03-11T02:29:47.752254Z"
    }
   },
   "cell_type": "code",
   "source": [
    "print(df[\"Year\"].nunique())\n",
    "df[\"Year\"].value_counts()"
   ],
   "id": "a6f62fafd7c78db",
   "outputs": [
    {
     "name": "stdout",
     "output_type": "stream",
     "text": [
      "17\n"
     ]
    },
    {
     "data": {
      "text/plain": [
       "Year\n",
       "2012    8090\n",
       "2013    7562\n",
       "2009    5936\n",
       "2011    5616\n",
       "2005    5288\n",
       "2004    5224\n",
       "2008    5121\n",
       "2007    4875\n",
       "2003    4792\n",
       "2010    4446\n",
       "2006    4399\n",
       "1999    4286\n",
       "2002    4230\n",
       "2001    3496\n",
       "2000    3042\n",
       "2014    3039\n",
       "1998     890\n",
       "Name: count, dtype: int64"
      ]
     },
     "execution_count": 129,
     "metadata": {},
     "output_type": "execute_result"
    }
   ],
   "execution_count": 129
  },
  {
   "metadata": {
    "ExecuteTime": {
     "end_time": "2025-03-11T02:29:47.908694Z",
     "start_time": "2025-03-11T02:29:47.900191Z"
    }
   },
   "cell_type": "code",
   "source": "df_year = df[\"Year\"].value_counts().reset_index()",
   "id": "81e04dcd9c2cf45f",
   "outputs": [],
   "execution_count": 130
  },
  {
   "metadata": {
    "ExecuteTime": {
     "end_time": "2025-03-11T02:29:48.334236Z",
     "start_time": "2025-03-11T02:29:48.043005Z"
    }
   },
   "cell_type": "code",
   "source": [
    "sns.barplot(x=\"Year\", y=\"count\", hue=\"Year\", width=0.5,data=df_year)\n",
    "plt.xticks(rotation=90)\n",
    "plt.xlabel(\"Year\")\n",
    "plt.ylabel(\"Count\")\n",
    "plt.show()"
   ],
   "id": "80cc19c45b3ee0de",
   "outputs": [
    {
     "data": {
      "text/plain": [
       "<Figure size 640x480 with 1 Axes>"
      ],
      "image/png": "[encoded data removed]"
     },
     "metadata": {},
     "output_type": "display_data"
    }
   ],
   "execution_count": 131
  },
  {
   "metadata": {
    "ExecuteTime": {
     "end_time": "2025-03-11T02:29:48.348923Z",
     "start_time": "2025-03-11T02:29:48.343280Z"
    }
   },
   "cell_type": "code",
   "source": "### As we can see from the bar graph above, 2012 was the year with most sightings, with over 8000 across the globe.",
   "id": "31f435eaae9db125",
   "outputs": [],
   "execution_count": 132
  },
  {
   "metadata": {
    "ExecuteTime": {
     "end_time": "2025-03-11T02:29:48.472709Z",
     "start_time": "2025-03-11T02:29:48.452377Z"
    }
   },
   "cell_type": "code",
   "source": [
    "df_2012 = df.query(\"Year == '2012'\").groupby([\"Country\", \"City\"]).size().reset_index(name=\"Count\").sort_values(by=\"Count\", ascending=False)\n",
    "df_2012"
   ],
   "id": "6c78ba0e2f69457c",
   "outputs": [
    {
     "data": {
      "text/plain": [
       "Empty DataFrame\n",
       "Columns: [Country, City, Count]\n",
       "Index: []"
      ],
      "text/html": [
       "<div>\n",
       "<style scoped>\n",
       "    .dataframe tbody tr th:only-of-type {\n",
       "        vertical-align: middle;\n",
       "    }\n",
       "\n",
       "    .dataframe tbody tr th {\n",
       "        vertical-align: top;\n",
       "    }\n",
       "\n",
       "    .dataframe thead th {\n",
       "        text-align: right;\n",
       "    }\n",
       "</style>\n",
       "<table border=\"1\" class=\"dataframe\">\n",
       "  <thead>\n",
       "    <tr style=\"text-align: right;\">\n",
       "      <th></th>\n",
       "      <th>Country</th>\n",
       "      <th>City</th>\n",
       "      <th>Count</th>\n",
       "    </tr>\n",
       "  </thead>\n",
       "  <tbody>\n",
       "  </tbody>\n",
       "</table>\n",
       "</div>"
      ]
     },
     "execution_count": 133,
     "metadata": {},
     "output_type": "execute_result"
    }
   ],
   "execution_count": 133
  },
  {
   "metadata": {},
   "cell_type": "markdown",
   "source": "3. Any Correlation with shape",
   "id": "946913f1f2224b05"
  },
  {
   "metadata": {
    "ExecuteTime": {
     "end_time": "2025-03-11T02:29:48.573737Z",
     "start_time": "2025-03-11T02:29:48.525489Z"
    }
   },
   "cell_type": "code",
   "source": "df.info()",
   "id": "2bbbd54594d0a3c",
   "outputs": [
    {
     "name": "stdout",
     "output_type": "stream",
     "text": [
      "<class 'pandas.core.frame.DataFrame'>\n",
      "RangeIndex: 80332 entries, 0 to 80331\n",
      "Data columns (total 13 columns):\n",
      " #   Column                Non-Null Count  Dtype         \n",
      "---  ------                --------------  -----         \n",
      " 0   City                  80332 non-null  object        \n",
      " 1   State                 74535 non-null  object        \n",
      " 2   Country               70662 non-null  object        \n",
      " 3   Shape                 78400 non-null  object        \n",
      " 4   Duration (seconds)    80332 non-null  object        \n",
      " 5   Duration (hours/min)  80332 non-null  object        \n",
      " 6   Comments              80317 non-null  object        \n",
      " 7   Date_Posted           80332 non-null  datetime64[ns]\n",
      " 8   Latitude              80332 non-null  object        \n",
      " 9   longitude             80332 non-null  float64       \n",
      " 10  Date                  80332 non-null  datetime64[ns]\n",
      " 11  Time                  80332 non-null  object        \n",
      " 12  Year                  80332 non-null  int32         \n",
      "dtypes: datetime64[ns](2), float64(1), int32(1), object(9)\n",
      "memory usage: 7.7+ MB\n"
     ]
    }
   ],
   "execution_count": 134
  },
  {
   "metadata": {
    "ExecuteTime": {
     "end_time": "2025-03-11T02:29:48.672603Z",
     "start_time": "2025-03-11T02:29:48.651754Z"
    }
   },
   "cell_type": "code",
   "source": [
    "df[\"Shape\"].nunique()\n",
    "df_shape = df[\"Shape\"].value_counts().reset_index()"
   ],
   "id": "2c298f390c64bf1d",
   "outputs": [],
   "execution_count": 135
  },
  {
   "metadata": {
    "ExecuteTime": {
     "end_time": "2025-03-11T02:29:48.733386Z",
     "start_time": "2025-03-11T02:29:48.726741Z"
    }
   },
   "cell_type": "code",
   "source": "df_shape.fillna(0, inplace=True)",
   "id": "3c3e2806f4719d00",
   "outputs": [],
   "execution_count": 136
  },
  {
   "metadata": {
    "ExecuteTime": {
     "end_time": "2025-03-11T02:29:49.154509Z",
     "start_time": "2025-03-11T02:29:48.785190Z"
    }
   },
   "cell_type": "code",
   "source": [
    "sns.barplot(x=\"Shape\", y=\"count\", hue=\"Shape\", width=0.5,data=df_shape)\n",
    "plt.xticks(rotation=90)\n",
    "plt.xlabel(\"Shape\")\n",
    "plt.ylabel(\"Count\")\n",
    "plt.show()"
   ],
   "id": "17d49f5cfb106965",
   "outputs": [
    {
     "data": {
      "text/plain": [
       "<Figure size 640x480 with 1 Axes>"
      ],
      "image/png": "[encoded data removed]"
     },
     "metadata": {},
     "output_type": "display_data"
    }
   ],
   "execution_count": 137
  },
  {
   "metadata": {},
   "cell_type": "markdown",
   "source": "### Let's observe the top 10 shapes",
   "id": "dd9a15b8dd8351ff"
  },
  {
   "metadata": {
    "ExecuteTime": {
     "end_time": "2025-03-11T02:29:49.469165Z",
     "start_time": "2025-03-11T02:29:49.265363Z"
    }
   },
   "cell_type": "code",
   "source": [
    "df_shapes_sorted = df_shape.iloc[0:10].sort_values(by=\"count\", ascending=False)\n",
    "sns.barplot(data=df_shapes_sorted, x=\"count\", y=\"Shape\", orient=\"h\", hue=\"Shape\")\n",
    "plt.xlabel(\"Count\")\n",
    "plt.title(\"Shapes\")\n",
    "plt.show()"
   ],
   "id": "7f4891c142a557e2",
   "outputs": [
    {
     "data": {
      "text/plain": [
       "<Figure size 640x480 with 1 Axes>"
      ],
      "image/png": "[encoded data removed]"
     },
     "metadata": {},
     "output_type": "display_data"
    }
   ],
   "execution_count": 138
  },
  {
   "metadata": {},
   "cell_type": "markdown",
   "source": "### Is there any correlation between the shapes and the location?",
   "id": "b2151291740bc1a7"
  },
  {
   "metadata": {},
   "cell_type": "markdown",
   "source": [
    "Transform the shapes into dummies variables so we can find correlation\n",
    "- Alternatives:\n",
    "* One hot encoder or ordinal encoder to change the variables to continuous/discrete\n",
    "* Cramer's V to keep the variables categorical"
   ],
   "id": "f76ba4d5c56a5104"
  },
  {
   "metadata": {
    "ExecuteTime": {
     "end_time": "2025-03-11T02:29:49.522773Z",
     "start_time": "2025-03-11T02:29:49.479969Z"
    }
   },
   "cell_type": "code",
   "source": [
    "df_cor = df[[\"City\", \"State\", \"Country\", \"Shape\"]].copy()\n",
    "df_cor.info()"
   ],
   "id": "7259f71af24eea60",
   "outputs": [
    {
     "name": "stdout",
     "output_type": "stream",
     "text": [
      "<class 'pandas.core.frame.DataFrame'>\n",
      "RangeIndex: 80332 entries, 0 to 80331\n",
      "Data columns (total 4 columns):\n",
      " #   Column   Non-Null Count  Dtype \n",
      "---  ------   --------------  ----- \n",
      " 0   City     80332 non-null  object\n",
      " 1   State    74535 non-null  object\n",
      " 2   Country  70662 non-null  object\n",
      " 3   Shape    78400 non-null  object\n",
      "dtypes: object(4)\n",
      "memory usage: 2.5+ MB\n"
     ]
    }
   ],
   "execution_count": 139
  },
  {
   "metadata": {
    "ExecuteTime": {
     "end_time": "2025-03-11T02:29:49.619481Z",
     "start_time": "2025-03-11T02:29:49.574314Z"
    }
   },
   "cell_type": "code",
   "source": "df_cor",
   "id": "6b3c12b7cbe1c120",
   "outputs": [
    {
     "data": {
      "text/plain": [
       "               City State        Country     Shape\n",
       "0        San marcos    TX  United States  Cylinder\n",
       "1      Lackland afb    TX            NaN     Light\n",
       "2          Chester    NaN  Great Britain    Circle\n",
       "3              Edna    TX  United States    Circle\n",
       "4           Kaneohe    HI  United States     Light\n",
       "...             ...   ...            ...       ...\n",
       "80327     Nashville    TN  United States     Light\n",
       "80328         Boise    ID  United States    Circle\n",
       "80329          Napa    CA  United States     Other\n",
       "80330        Vienna    VA  United States    Circle\n",
       "80331        Edmond    OK  United States     Cigar\n",
       "\n",
       "[80332 rows x 4 columns]"
      ],
      "text/html": [
       "<div>\n",
       "<style scoped>\n",
       "    .dataframe tbody tr th:only-of-type {\n",
       "        vertical-align: middle;\n",
       "    }\n",
       "\n",
       "    .dataframe tbody tr th {\n",
       "        vertical-align: top;\n",
       "    }\n",
       "\n",
       "    .dataframe thead th {\n",
       "        text-align: right;\n",
       "    }\n",
       "</style>\n",
       "<table border=\"1\" class=\"dataframe\">\n",
       "  <thead>\n",
       "    <tr style=\"text-align: right;\">\n",
       "      <th></th>\n",
       "      <th>City</th>\n",
       "      <th>State</th>\n",
       "      <th>Country</th>\n",
       "      <th>Shape</th>\n",
       "    </tr>\n",
       "  </thead>\n",
       "  <tbody>\n",
       "    <tr>\n",
       "      <th>0</th>\n",
       "      <td>San marcos</td>\n",
       "      <td>TX</td>\n",
       "      <td>United States</td>\n",
       "      <td>Cylinder</td>\n",
       "    </tr>\n",
       "    <tr>\n",
       "      <th>1</th>\n",
       "      <td>Lackland afb</td>\n",
       "      <td>TX</td>\n",
       "      <td>NaN</td>\n",
       "      <td>Light</td>\n",
       "    </tr>\n",
       "    <tr>\n",
       "      <th>2</th>\n",
       "      <td>Chester</td>\n",
       "      <td>NaN</td>\n",
       "      <td>Great Britain</td>\n",
       "      <td>Circle</td>\n",
       "    </tr>\n",
       "    <tr>\n",
       "      <th>3</th>\n",
       "      <td>Edna</td>\n",
       "      <td>TX</td>\n",
       "      <td>United States</td>\n",
       "      <td>Circle</td>\n",
       "    </tr>\n",
       "    <tr>\n",
       "      <th>4</th>\n",
       "      <td>Kaneohe</td>\n",
       "      <td>HI</td>\n",
       "      <td>United States</td>\n",
       "      <td>Light</td>\n",
       "    </tr>\n",
       "    <tr>\n",
       "      <th>...</th>\n",
       "      <td>...</td>\n",
       "      <td>...</td>\n",
       "      <td>...</td>\n",
       "      <td>...</td>\n",
       "    </tr>\n",
       "    <tr>\n",
       "      <th>80327</th>\n",
       "      <td>Nashville</td>\n",
       "      <td>TN</td>\n",
       "      <td>United States</td>\n",
       "      <td>Light</td>\n",
       "    </tr>\n",
       "    <tr>\n",
       "      <th>80328</th>\n",
       "      <td>Boise</td>\n",
       "      <td>ID</td>\n",
       "      <td>United States</td>\n",
       "      <td>Circle</td>\n",
       "    </tr>\n",
       "    <tr>\n",
       "      <th>80329</th>\n",
       "      <td>Napa</td>\n",
       "      <td>CA</td>\n",
       "      <td>United States</td>\n",
       "      <td>Other</td>\n",
       "    </tr>\n",
       "    <tr>\n",
       "      <th>80330</th>\n",
       "      <td>Vienna</td>\n",
       "      <td>VA</td>\n",
       "      <td>United States</td>\n",
       "      <td>Circle</td>\n",
       "    </tr>\n",
       "    <tr>\n",
       "      <th>80331</th>\n",
       "      <td>Edmond</td>\n",
       "      <td>OK</td>\n",
       "      <td>United States</td>\n",
       "      <td>Cigar</td>\n",
       "    </tr>\n",
       "  </tbody>\n",
       "</table>\n",
       "<p>80332 rows × 4 columns</p>\n",
       "</div>"
      ]
     },
     "execution_count": 140,
     "metadata": {},
     "output_type": "execute_result"
    }
   ],
   "execution_count": 140
  },
  {
   "metadata": {
    "ExecuteTime": {
     "end_time": "2025-03-11T02:29:50.419609Z",
     "start_time": "2025-03-11T02:29:49.701703Z"
    }
   },
   "cell_type": "code",
   "source": "cont_table1 = pd.crosstab(df_cor[\"City\"], df_cor[\"Shape\"], margins=False)",
   "id": "bd8fe47ea0c28f9d",
   "outputs": [],
   "execution_count": 141
  },
  {
   "metadata": {
    "ExecuteTime": {
     "end_time": "2025-03-11T02:29:50.493635Z",
     "start_time": "2025-03-11T02:29:50.453686Z"
    }
   },
   "cell_type": "code",
   "source": "cont_table2 = pd.crosstab(df_cor[\"Country\"], df_cor[\"Shape\"], margins=False)",
   "id": "8670022fcb77cf54",
   "outputs": [],
   "execution_count": 142
  },
  {
   "metadata": {
    "ExecuteTime": {
     "end_time": "2025-03-11T02:29:50.522481Z",
     "start_time": "2025-03-11T02:29:50.516443Z"
    }
   },
   "cell_type": "code",
   "source": "import scipy.stats as stats",
   "id": "f997ee32213dbb02",
   "outputs": [],
   "execution_count": 143
  },
  {
   "metadata": {
    "ExecuteTime": {
     "end_time": "2025-03-11T02:29:50.598855Z",
     "start_time": "2025-03-11T02:29:50.572609Z"
    }
   },
   "cell_type": "code",
   "source": [
    "chi_stat, p_value, dof, expected = stats.chi2_contingency(cont_table1)\n",
    "chi2_stat, p2_value, dof2, expected2 = stats.chi2_contingency(cont_table2)"
   ],
   "id": "3f323c97a5c05eec",
   "outputs": [],
   "execution_count": 144
  },
  {
   "metadata": {
    "ExecuteTime": {
     "end_time": "2025-03-11T02:29:50.651563Z",
     "start_time": "2025-03-11T02:29:50.645290Z"
    }
   },
   "cell_type": "code",
   "source": [
    "# Print results\n",
    "print(f\"Chi-Square Statistic: {chi_stat}\")\n",
    "print(f\"P-value: {p_value}\")\n",
    "print(f\"Degrees of Freedom: {dof}\")"
   ],
   "id": "6c187bd604e118ba",
   "outputs": [
    {
     "name": "stdout",
     "output_type": "stream",
     "text": [
      "Chi-Square Statistic: 532053.5796712043\n",
      "P-value: 2.2576717228552453e-141\n",
      "Degrees of Freedom: 506184\n"
     ]
    }
   ],
   "execution_count": 145
  },
  {
   "metadata": {
    "ExecuteTime": {
     "end_time": "2025-03-11T02:29:50.707202Z",
     "start_time": "2025-03-11T02:29:50.699706Z"
    }
   },
   "cell_type": "code",
   "source": [
    "# Print results\n",
    "print(f\"Chi-Square Statistic: {chi2_stat}\")\n",
    "print(f\"P-value: {p2_value}\")\n",
    "print(f\"Degrees of Freedom: {dof2}\")"
   ],
   "id": "12ad50b38d74fa11",
   "outputs": [
    {
     "name": "stdout",
     "output_type": "stream",
     "text": [
      "Chi-Square Statistic: 215.56813034336835\n",
      "P-value: 3.725783935825654e-09\n",
      "Degrees of Freedom: 108\n"
     ]
    }
   ],
   "execution_count": 146
  },
  {
   "metadata": {
    "ExecuteTime": {
     "end_time": "2025-03-11T02:29:50.811806Z",
     "start_time": "2025-03-11T02:29:50.752999Z"
    }
   },
   "cell_type": "code",
   "source": [
    "chi_stat, p_value, dof, expected = stats.chi2_contingency(cont_table1, lambda_=\"log-likelihood\")\n",
    "print(f\"Monte Carlo P-value: {p_value}\")"
   ],
   "id": "86d494aeb9748b8b",
   "outputs": [
    {
     "name": "stdout",
     "output_type": "stream",
     "text": [
      "Monte Carlo P-value: 1.0\n"
     ]
    }
   ],
   "execution_count": 147
  },
  {
   "metadata": {
    "ExecuteTime": {
     "end_time": "2025-03-11T02:29:50.868915Z",
     "start_time": "2025-03-11T02:29:50.861654Z"
    }
   },
   "cell_type": "code",
   "source": [
    "chi2_stat, p2_value, dof2, expected2 = stats.chi2_contingency(cont_table2, lambda_=\"log-likelihood\")\n",
    "print(f\"Monte Carlo P-value: {p_value}\")"
   ],
   "id": "88ad5bed66db7baf",
   "outputs": [
    {
     "name": "stdout",
     "output_type": "stream",
     "text": [
      "Monte Carlo P-value: 1.0\n"
     ]
    }
   ],
   "execution_count": 148
  },
  {
   "metadata": {},
   "cell_type": "markdown",
   "source": "### One Hot Encoder Method",
   "id": "b931a6cccf7d6f3a"
  },
  {
   "metadata": {},
   "cell_type": "markdown",
   "source": "### Get Dummies Method",
   "id": "7620b5864a71c9ad"
  },
  {
   "metadata": {
    "ExecuteTime": {
     "end_time": "2025-03-11T02:29:50.979997Z",
     "start_time": "2025-03-11T02:29:50.959496Z"
    }
   },
   "cell_type": "code",
   "source": "df_dummies = pd.get_dummies(df[\"Shape\"], dtype=\"int\")",
   "id": "df638f14fdc645c1",
   "outputs": [],
   "execution_count": 149
  },
  {
   "metadata": {},
   "cell_type": "markdown",
   "source": "### Cramer's V Method",
   "id": "ed70bd9bc604468a"
  },
  {
   "metadata": {
    "ExecuteTime": {
     "end_time": "2025-03-11T02:29:51.079865Z",
     "start_time": "2025-03-11T02:29:50.985468Z"
    }
   },
   "cell_type": "code",
   "source": [
    "import numpy as np\n",
    "\n",
    "n = cont_table1.sum().sum()  # Total observations\n",
    "min_dim = min(cont_table1.shape) - 1  # Minimum dimension minus one\n",
    "cramers_v = np.sqrt(chi2_stat / (n * min_dim))\n",
    "\n",
    "print(f\"Cramér's V: {cramers_v}\")\n"
   ],
   "id": "3462ce2686cad4",
   "outputs": [
    {
     "name": "stdout",
     "output_type": "stream",
     "text": [
      "Cramér's V: 0.009714000867077948\n"
     ]
    }
   ],
   "execution_count": 150
  },
  {
   "metadata": {
    "ExecuteTime": {
     "end_time": "2025-03-11T02:29:51.136579Z",
     "start_time": "2025-03-11T02:29:51.127952Z"
    }
   },
   "cell_type": "code",
   "source": [
    "n = cont_table2.sum().sum()  # Total observations\n",
    "min_dim = min(cont_table1.shape) - 1  # Minimum dimension minus one\n",
    "cramers_v = np.sqrt(chi2_stat / (n * min_dim))\n",
    "\n",
    "print(f\"Cramér's V: {cramers_v}\")"
   ],
   "id": "2fc51f72e9a76aee",
   "outputs": [
    {
     "name": "stdout",
     "output_type": "stream",
     "text": [
      "Cramér's V: 0.010354484368961572\n"
     ]
    }
   ],
   "execution_count": 151
  },
  {
   "metadata": {
    "ExecuteTime": {
     "end_time": "2025-03-11T02:29:51.187201Z",
     "start_time": "2025-03-11T02:29:51.182490Z"
    }
   },
   "cell_type": "code",
   "source": "",
   "id": "c3702ade40358823",
   "outputs": [],
   "execution_count": null
  },
  {
   "metadata": {},
   "cell_type": "markdown",
   "source": "### Let's standarize the data using Z-score and see how does that change our data",
   "id": "df530c2a2e10e174"
  },
  {
   "metadata": {
    "ExecuteTime": {
     "end_time": "2025-03-11T02:29:51.239884Z",
     "start_time": "2025-03-11T02:29:51.233240Z"
    }
   },
   "cell_type": "code",
   "source": "from sklearn.preprocessing import StandardScaler, MinMaxScaler",
   "id": "475a6a5c3c91a171",
   "outputs": [],
   "execution_count": 152
  },
  {
   "metadata": {
    "ExecuteTime": {
     "end_time": "2025-03-11T02:29:51.300133Z",
     "start_time": "2025-03-11T02:29:51.287259Z"
    }
   },
   "cell_type": "code",
   "source": "scaler = MinMaxScaler()",
   "id": "aa76d61a2244aa9",
   "outputs": [],
   "execution_count": 153
  },
  {
   "metadata": {
    "ExecuteTime": {
     "end_time": "2025-03-11T02:30:14.680299Z",
     "start_time": "2025-03-11T02:30:14.651662Z"
    }
   },
   "cell_type": "code",
   "source": "cont_table1",
   "id": "68a744b37400d3a",
   "outputs": [
    {
     "data": {
      "text/plain": [
       "Shape                        Changed  Changing  Chevron  Cigar  Circle  Cone  \\\n",
       "City                                                                           \n",
       "&ccedil;anakkale                   0         0        0      0       0     0   \n",
       "&iacute;safj&ouml;r&eth;ur         0         0        0      0       0     0   \n",
       "&ouml;lmstad                       0         0        0      0       1     0   \n",
       "1-25 corridor                      0         0        0      0       0     0   \n",
       "100 mile                           0         0        0      0       0     0   \n",
       "...                              ...       ...      ...    ...     ...   ...   \n",
       "Zuiddorpe                          0         0        0      0       0     0   \n",
       "Zumbrota                           0         0        0      1       1     0   \n",
       "Zutphen                            0         0        0      0       0     0   \n",
       "Zwevegem                           0         0        0      0       0     0   \n",
       "Zwolle                             0         0        0      0       0     0   \n",
       "\n",
       "Shape                        Crescent  Cross  Cylinder  Delta  ...  Light  \\\n",
       "City                                                           ...          \n",
       "&ccedil;anakkale                    0      0         0      0  ...      0   \n",
       "&iacute;safj&ouml;r&eth;ur          0      0         1      0  ...      0   \n",
       "&ouml;lmstad                        0      0         0      0  ...      0   \n",
       "1-25 corridor                       0      0         0      0  ...      0   \n",
       "100 mile                            0      0         0      0  ...      0   \n",
       "...                               ...    ...       ...    ...  ...    ...   \n",
       "Zuiddorpe                           0      0         0      0  ...      0   \n",
       "Zumbrota                            0      0         0      0  ...      0   \n",
       "Zutphen                             0      0         0      0  ...      0   \n",
       "Zwevegem                            0      0         0      0  ...      0   \n",
       "Zwolle                              0      0         0      0  ...      0   \n",
       "\n",
       "Shape                        Other  Oval  Pyramid  Rectangle  Round  Sphere  \\\n",
       "City                                                                          \n",
       "&ccedil;anakkale                 0     0        0          0      0       0   \n",
       "&iacute;safj&ouml;r&eth;ur       0     0        0          0      0       0   \n",
       "&ouml;lmstad                     0     0        0          0      0       0   \n",
       "1-25 corridor                    0     0        0          0      0       0   \n",
       "100 mile                         0     0        0          0      0       0   \n",
       "...                            ...   ...      ...        ...    ...     ...   \n",
       "Zuiddorpe                        0     1        0          0      0       0   \n",
       "Zumbrota                         1     0        0          0      0       0   \n",
       "Zutphen                          0     0        0          0      0       1   \n",
       "Zwevegem                         0     0        0          0      0       0   \n",
       "Zwolle                           1     0        0          0      0       0   \n",
       "\n",
       "Shape                        Teardrop  Triangle  Unknown  \n",
       "City                                                      \n",
       "&ccedil;anakkale                    0         1        0  \n",
       "&iacute;safj&ouml;r&eth;ur          0         0        0  \n",
       "&ouml;lmstad                        0         0        0  \n",
       "1-25 corridor                       0         0        0  \n",
       "100 mile                            0         0        0  \n",
       "...                               ...       ...      ...  \n",
       "Zuiddorpe                           0         0        0  \n",
       "Zumbrota                            0         0        0  \n",
       "Zutphen                             0         0        0  \n",
       "Zwevegem                            0         0        1  \n",
       "Zwolle                              0         0        0  \n",
       "\n",
       "[18079 rows x 29 columns]"
      ],
      "text/html": [
       "<div>\n",
       "<style scoped>\n",
       "    .dataframe tbody tr th:only-of-type {\n",
       "        vertical-align: middle;\n",
       "    }\n",
       "\n",
       "    .dataframe tbody tr th {\n",
       "        vertical-align: top;\n",
       "    }\n",
       "\n",
       "    .dataframe thead th {\n",
       "        text-align: right;\n",
       "    }\n",
       "</style>\n",
       "<table border=\"1\" class=\"dataframe\">\n",
       "  <thead>\n",
       "    <tr style=\"text-align: right;\">\n",
       "      <th>Shape</th>\n",
       "      <th>Changed</th>\n",
       "      <th>Changing</th>\n",
       "      <th>Chevron</th>\n",
       "      <th>Cigar</th>\n",
       "      <th>Circle</th>\n",
       "      <th>Cone</th>\n",
       "      <th>Crescent</th>\n",
       "      <th>Cross</th>\n",
       "      <th>Cylinder</th>\n",
       "      <th>Delta</th>\n",
       "      <th>...</th>\n",
       "      <th>Light</th>\n",
       "      <th>Other</th>\n",
       "      <th>Oval</th>\n",
       "      <th>Pyramid</th>\n",
       "      <th>Rectangle</th>\n",
       "      <th>Round</th>\n",
       "      <th>Sphere</th>\n",
       "      <th>Teardrop</th>\n",
       "      <th>Triangle</th>\n",
       "      <th>Unknown</th>\n",
       "    </tr>\n",
       "    <tr>\n",
       "      <th>City</th>\n",
       "      <th></th>\n",
       "      <th></th>\n",
       "      <th></th>\n",
       "      <th></th>\n",
       "      <th></th>\n",
       "      <th></th>\n",
       "      <th></th>\n",
       "      <th></th>\n",
       "      <th></th>\n",
       "      <th></th>\n",
       "      <th></th>\n",
       "      <th></th>\n",
       "      <th></th>\n",
       "      <th></th>\n",
       "      <th></th>\n",
       "      <th></th>\n",
       "      <th></th>\n",
       "      <th></th>\n",
       "      <th></th>\n",
       "      <th></th>\n",
       "      <th></th>\n",
       "    </tr>\n",
       "  </thead>\n",
       "  <tbody>\n",
       "    <tr>\n",
       "      <th>&amp;ccedil;anakkale</th>\n",
       "      <td>0</td>\n",
       "      <td>0</td>\n",
       "      <td>0</td>\n",
       "      <td>0</td>\n",
       "      <td>0</td>\n",
       "      <td>0</td>\n",
       "      <td>0</td>\n",
       "      <td>0</td>\n",
       "      <td>0</td>\n",
       "      <td>0</td>\n",
       "      <td>...</td>\n",
       "      <td>0</td>\n",
       "      <td>0</td>\n",
       "      <td>0</td>\n",
       "      <td>0</td>\n",
       "      <td>0</td>\n",
       "      <td>0</td>\n",
       "      <td>0</td>\n",
       "      <td>0</td>\n",
       "      <td>1</td>\n",
       "      <td>0</td>\n",
       "    </tr>\n",
       "    <tr>\n",
       "      <th>&amp;iacute;safj&amp;ouml;r&amp;eth;ur</th>\n",
       "      <td>0</td>\n",
       "      <td>0</td>\n",
       "      <td>0</td>\n",
       "      <td>0</td>\n",
       "      <td>0</td>\n",
       "      <td>0</td>\n",
       "      <td>0</td>\n",
       "      <td>0</td>\n",
       "      <td>1</td>\n",
       "      <td>0</td>\n",
       "      <td>...</td>\n",
       "      <td>0</td>\n",
       "      <td>0</td>\n",
       "      <td>0</td>\n",
       "      <td>0</td>\n",
       "      <td>0</td>\n",
       "      <td>0</td>\n",
       "      <td>0</td>\n",
       "      <td>0</td>\n",
       "      <td>0</td>\n",
       "      <td>0</td>\n",
       "    </tr>\n",
       "    <tr>\n",
       "      <th>&amp;ouml;lmstad</th>\n",
       "      <td>0</td>\n",
       "      <td>0</td>\n",
       "      <td>0</td>\n",
       "      <td>0</td>\n",
       "      <td>1</td>\n",
       "      <td>0</td>\n",
       "      <td>0</td>\n",
       "      <td>0</td>\n",
       "      <td>0</td>\n",
       "      <td>0</td>\n",
       "      <td>...</td>\n",
       "      <td>0</td>\n",
       "      <td>0</td>\n",
       "      <td>0</td>\n",
       "      <td>0</td>\n",
       "      <td>0</td>\n",
       "      <td>0</td>\n",
       "      <td>0</td>\n",
       "      <td>0</td>\n",
       "      <td>0</td>\n",
       "      <td>0</td>\n",
       "    </tr>\n",
       "    <tr>\n",
       "      <th>1-25 corridor</th>\n",
       "      <td>0</td>\n",
       "      <td>0</td>\n",
       "      <td>0</td>\n",
       "      <td>0</td>\n",
       "      <td>0</td>\n",
       "      <td>0</td>\n",
       "      <td>0</td>\n",
       "      <td>0</td>\n",
       "      <td>0</td>\n",
       "      <td>0</td>\n",
       "      <td>...</td>\n",
       "      <td>0</td>\n",
       "      <td>0</td>\n",
       "      <td>0</td>\n",
       "      <td>0</td>\n",
       "      <td>0</td>\n",
       "      <td>0</td>\n",
       "      <td>0</td>\n",
       "      <td>0</td>\n",
       "      <td>0</td>\n",
       "      <td>0</td>\n",
       "    </tr>\n",
       "    <tr>\n",
       "      <th>100 mile</th>\n",
       "      <td>0</td>\n",
       "      <td>0</td>\n",
       "      <td>0</td>\n",
       "      <td>0</td>\n",
       "      <td>0</td>\n",
       "      <td>0</td>\n",
       "      <td>0</td>\n",
       "      <td>0</td>\n",
       "      <td>0</td>\n",
       "      <td>0</td>\n",
       "      <td>...</td>\n",
       "      <td>0</td>\n",
       "      <td>0</td>\n",
       "      <td>0</td>\n",
       "      <td>0</td>\n",
       "      <td>0</td>\n",
       "      <td>0</td>\n",
       "      <td>0</td>\n",
       "      <td>0</td>\n",
       "      <td>0</td>\n",
       "      <td>0</td>\n",
       "    </tr>\n",
       "    <tr>\n",
       "      <th>...</th>\n",
       "      <td>...</td>\n",
       "      <td>...</td>\n",
       "      <td>...</td>\n",
       "      <td>...</td>\n",
       "      <td>...</td>\n",
       "      <td>...</td>\n",
       "      <td>...</td>\n",
       "      <td>...</td>\n",
       "      <td>...</td>\n",
       "      <td>...</td>\n",
       "      <td>...</td>\n",
       "      <td>...</td>\n",
       "      <td>...</td>\n",
       "      <td>...</td>\n",
       "      <td>...</td>\n",
       "      <td>...</td>\n",
       "      <td>...</td>\n",
       "      <td>...</td>\n",
       "      <td>...</td>\n",
       "      <td>...</td>\n",
       "      <td>...</td>\n",
       "    </tr>\n",
       "    <tr>\n",
       "      <th>Zuiddorpe</th>\n",
       "      <td>0</td>\n",
       "      <td>0</td>\n",
       "      <td>0</td>\n",
       "      <td>0</td>\n",
       "      <td>0</td>\n",
       "      <td>0</td>\n",
       "      <td>0</td>\n",
       "      <td>0</td>\n",
       "      <td>0</td>\n",
       "      <td>0</td>\n",
       "      <td>...</td>\n",
       "      <td>0</td>\n",
       "      <td>0</td>\n",
       "      <td>1</td>\n",
       "      <td>0</td>\n",
       "      <td>0</td>\n",
       "      <td>0</td>\n",
       "      <td>0</td>\n",
       "      <td>0</td>\n",
       "      <td>0</td>\n",
       "      <td>0</td>\n",
       "    </tr>\n",
       "    <tr>\n",
       "      <th>Zumbrota</th>\n",
       "      <td>0</td>\n",
       "      <td>0</td>\n",
       "      <td>0</td>\n",
       "      <td>1</td>\n",
       "      <td>1</td>\n",
       "      <td>0</td>\n",
       "      <td>0</td>\n",
       "      <td>0</td>\n",
       "      <td>0</td>\n",
       "      <td>0</td>\n",
       "      <td>...</td>\n",
       "      <td>0</td>\n",
       "      <td>1</td>\n",
       "      <td>0</td>\n",
       "      <td>0</td>\n",
       "      <td>0</td>\n",
       "      <td>0</td>\n",
       "      <td>0</td>\n",
       "      <td>0</td>\n",
       "      <td>0</td>\n",
       "      <td>0</td>\n",
       "    </tr>\n",
       "    <tr>\n",
       "      <th>Zutphen</th>\n",
       "      <td>0</td>\n",
       "      <td>0</td>\n",
       "      <td>0</td>\n",
       "      <td>0</td>\n",
       "      <td>0</td>\n",
       "      <td>0</td>\n",
       "      <td>0</td>\n",
       "      <td>0</td>\n",
       "      <td>0</td>\n",
       "      <td>0</td>\n",
       "      <td>...</td>\n",
       "      <td>0</td>\n",
       "      <td>0</td>\n",
       "      <td>0</td>\n",
       "      <td>0</td>\n",
       "      <td>0</td>\n",
       "      <td>0</td>\n",
       "      <td>1</td>\n",
       "      <td>0</td>\n",
       "      <td>0</td>\n",
       "      <td>0</td>\n",
       "    </tr>\n",
       "    <tr>\n",
       "      <th>Zwevegem</th>\n",
       "      <td>0</td>\n",
       "      <td>0</td>\n",
       "      <td>0</td>\n",
       "      <td>0</td>\n",
       "      <td>0</td>\n",
       "      <td>0</td>\n",
       "      <td>0</td>\n",
       "      <td>0</td>\n",
       "      <td>0</td>\n",
       "      <td>0</td>\n",
       "      <td>...</td>\n",
       "      <td>0</td>\n",
       "      <td>0</td>\n",
       "      <td>0</td>\n",
       "      <td>0</td>\n",
       "      <td>0</td>\n",
       "      <td>0</td>\n",
       "      <td>0</td>\n",
       "      <td>0</td>\n",
       "      <td>0</td>\n",
       "      <td>1</td>\n",
       "    </tr>\n",
       "    <tr>\n",
       "      <th>Zwolle</th>\n",
       "      <td>0</td>\n",
       "      <td>0</td>\n",
       "      <td>0</td>\n",
       "      <td>0</td>\n",
       "      <td>0</td>\n",
       "      <td>0</td>\n",
       "      <td>0</td>\n",
       "      <td>0</td>\n",
       "      <td>0</td>\n",
       "      <td>0</td>\n",
       "      <td>...</td>\n",
       "      <td>0</td>\n",
       "      <td>1</td>\n",
       "      <td>0</td>\n",
       "      <td>0</td>\n",
       "      <td>0</td>\n",
       "      <td>0</td>\n",
       "      <td>0</td>\n",
       "      <td>0</td>\n",
       "      <td>0</td>\n",
       "      <td>0</td>\n",
       "    </tr>\n",
       "  </tbody>\n",
       "</table>\n",
       "<p>18079 rows × 29 columns</p>\n",
       "</div>"
      ]
     },
     "execution_count": 156,
     "metadata": {},
     "output_type": "execute_result"
    }
   ],
   "execution_count": 156
  },
  {
   "metadata": {
    "ExecuteTime": {
     "end_time": "2025-03-11T02:34:32.060920Z",
     "start_time": "2025-03-11T02:34:32.003703Z"
    }
   },
   "cell_type": "code",
   "source": [
    "cols_to_scale = cont_table1.columns[1:]\n",
    "df_scaled = cont_table1.copy()\n",
    "df_scaled[cols_to_scale] = scaler.fit_transform(df_scaled[cols_to_scale])"
   ],
   "id": "8b4c52ccb069db33",
   "outputs": [],
   "execution_count": 166
  },
  {
   "metadata": {
    "ExecuteTime": {
     "end_time": "2025-03-11T02:34:39.345769Z",
     "start_time": "2025-03-11T02:34:39.284465Z"
    }
   },
   "cell_type": "code",
   "source": "df_scaled",
   "id": "dc99b199639179fa",
   "outputs": [
    {
     "data": {
      "text/plain": [
       "Shape                        Changed  Changing  Chevron   Cigar    Circle  \\\n",
       "City                                                                        \n",
       "&ccedil;anakkale                   0       0.0      0.0  0.0000  0.000000   \n",
       "&iacute;safj&ouml;r&eth;ur         0       0.0      0.0  0.0000  0.000000   \n",
       "&ouml;lmstad                       0       0.0      0.0  0.0000  0.021739   \n",
       "1-25 corridor                      0       0.0      0.0  0.0000  0.000000   \n",
       "100 mile                           0       0.0      0.0  0.0000  0.000000   \n",
       "...                              ...       ...      ...     ...       ...   \n",
       "Zuiddorpe                          0       0.0      0.0  0.0000  0.000000   \n",
       "Zumbrota                           0       0.0      0.0  0.0625  0.021739   \n",
       "Zutphen                            0       0.0      0.0  0.0000  0.000000   \n",
       "Zwevegem                           0       0.0      0.0  0.0000  0.000000   \n",
       "Zwolle                             0       0.0      0.0  0.0000  0.000000   \n",
       "\n",
       "Shape                        Cone  Crescent  Cross  Cylinder  Delta  ...  \\\n",
       "City                                                                 ...   \n",
       "&ccedil;anakkale              0.0       0.0    0.0  0.000000    0.0  ...   \n",
       "&iacute;safj&ouml;r&eth;ur    0.0       0.0    0.0  0.090909    0.0  ...   \n",
       "&ouml;lmstad                  0.0       0.0    0.0  0.000000    0.0  ...   \n",
       "1-25 corridor                 0.0       0.0    0.0  0.000000    0.0  ...   \n",
       "100 mile                      0.0       0.0    0.0  0.000000    0.0  ...   \n",
       "...                           ...       ...    ...       ...    ...  ...   \n",
       "Zuiddorpe                     0.0       0.0    0.0  0.000000    0.0  ...   \n",
       "Zumbrota                      0.0       0.0    0.0  0.000000    0.0  ...   \n",
       "Zutphen                       0.0       0.0    0.0  0.000000    0.0  ...   \n",
       "Zwevegem                      0.0       0.0    0.0  0.000000    0.0  ...   \n",
       "Zwolle                        0.0       0.0    0.0  0.000000    0.0  ...   \n",
       "\n",
       "Shape                        Light     Other      Oval  Pyramid  Rectangle  \\\n",
       "City                                                                         \n",
       "&ccedil;anakkale               0.0  0.000000  0.000000      0.0        0.0   \n",
       "&iacute;safj&ouml;r&eth;ur     0.0  0.000000  0.000000      0.0        0.0   \n",
       "&ouml;lmstad                   0.0  0.000000  0.000000      0.0        0.0   \n",
       "1-25 corridor                  0.0  0.000000  0.000000      0.0        0.0   \n",
       "100 mile                       0.0  0.000000  0.000000      0.0        0.0   \n",
       "...                            ...       ...       ...      ...        ...   \n",
       "Zuiddorpe                      0.0  0.000000  0.028571      0.0        0.0   \n",
       "Zumbrota                       0.0  0.023256  0.000000      0.0        0.0   \n",
       "Zutphen                        0.0  0.000000  0.000000      0.0        0.0   \n",
       "Zwevegem                       0.0  0.000000  0.000000      0.0        0.0   \n",
       "Zwolle                         0.0  0.023256  0.000000      0.0        0.0   \n",
       "\n",
       "Shape                        Round    Sphere  Teardrop  Triangle   Unknown  \n",
       "City                                                                        \n",
       "&ccedil;anakkale               0.0  0.000000       0.0  0.025641  0.000000  \n",
       "&iacute;safj&ouml;r&eth;ur     0.0  0.000000       0.0  0.000000  0.000000  \n",
       "&ouml;lmstad                   0.0  0.000000       0.0  0.000000  0.000000  \n",
       "1-25 corridor                  0.0  0.000000       0.0  0.000000  0.000000  \n",
       "100 mile                       0.0  0.000000       0.0  0.000000  0.000000  \n",
       "...                            ...       ...       ...       ...       ...  \n",
       "Zuiddorpe                      0.0  0.000000       0.0  0.000000  0.000000  \n",
       "Zumbrota                       0.0  0.000000       0.0  0.000000  0.000000  \n",
       "Zutphen                        0.0  0.026316       0.0  0.000000  0.000000  \n",
       "Zwevegem                       0.0  0.000000       0.0  0.000000  0.029412  \n",
       "Zwolle                         0.0  0.000000       0.0  0.000000  0.000000  \n",
       "\n",
       "[18079 rows x 29 columns]"
      ],
      "text/html": [
       "<div>\n",
       "<style scoped>\n",
       "    .dataframe tbody tr th:only-of-type {\n",
       "        vertical-align: middle;\n",
       "    }\n",
       "\n",
       "    .dataframe tbody tr th {\n",
       "        vertical-align: top;\n",
       "    }\n",
       "\n",
       "    .dataframe thead th {\n",
       "        text-align: right;\n",
       "    }\n",
       "</style>\n",
       "<table border=\"1\" class=\"dataframe\">\n",
       "  <thead>\n",
       "    <tr style=\"text-align: right;\">\n",
       "      <th>Shape</th>\n",
       "      <th>Changed</th>\n",
       "      <th>Changing</th>\n",
       "      <th>Chevron</th>\n",
       "      <th>Cigar</th>\n",
       "      <th>Circle</th>\n",
       "      <th>Cone</th>\n",
       "      <th>Crescent</th>\n",
       "      <th>Cross</th>\n",
       "      <th>Cylinder</th>\n",
       "      <th>Delta</th>\n",
       "      <th>...</th>\n",
       "      <th>Light</th>\n",
       "      <th>Other</th>\n",
       "      <th>Oval</th>\n",
       "      <th>Pyramid</th>\n",
       "      <th>Rectangle</th>\n",
       "      <th>Round</th>\n",
       "      <th>Sphere</th>\n",
       "      <th>Teardrop</th>\n",
       "      <th>Triangle</th>\n",
       "      <th>Unknown</th>\n",
       "    </tr>\n",
       "    <tr>\n",
       "      <th>City</th>\n",
       "      <th></th>\n",
       "      <th></th>\n",
       "      <th></th>\n",
       "      <th></th>\n",
       "      <th></th>\n",
       "      <th></th>\n",
       "      <th></th>\n",
       "      <th></th>\n",
       "      <th></th>\n",
       "      <th></th>\n",
       "      <th></th>\n",
       "      <th></th>\n",
       "      <th></th>\n",
       "      <th></th>\n",
       "      <th></th>\n",
       "      <th></th>\n",
       "      <th></th>\n",
       "      <th></th>\n",
       "      <th></th>\n",
       "      <th></th>\n",
       "      <th></th>\n",
       "    </tr>\n",
       "  </thead>\n",
       "  <tbody>\n",
       "    <tr>\n",
       "      <th>&amp;ccedil;anakkale</th>\n",
       "      <td>0</td>\n",
       "      <td>0.0</td>\n",
       "      <td>0.0</td>\n",
       "      <td>0.0000</td>\n",
       "      <td>0.000000</td>\n",
       "      <td>0.0</td>\n",
       "      <td>0.0</td>\n",
       "      <td>0.0</td>\n",
       "      <td>0.000000</td>\n",
       "      <td>0.0</td>\n",
       "      <td>...</td>\n",
       "      <td>0.0</td>\n",
       "      <td>0.000000</td>\n",
       "      <td>0.000000</td>\n",
       "      <td>0.0</td>\n",
       "      <td>0.0</td>\n",
       "      <td>0.0</td>\n",
       "      <td>0.000000</td>\n",
       "      <td>0.0</td>\n",
       "      <td>0.025641</td>\n",
       "      <td>0.000000</td>\n",
       "    </tr>\n",
       "    <tr>\n",
       "      <th>&amp;iacute;safj&amp;ouml;r&amp;eth;ur</th>\n",
       "      <td>0</td>\n",
       "      <td>0.0</td>\n",
       "      <td>0.0</td>\n",
       "      <td>0.0000</td>\n",
       "      <td>0.000000</td>\n",
       "      <td>0.0</td>\n",
       "      <td>0.0</td>\n",
       "      <td>0.0</td>\n",
       "      <td>0.090909</td>\n",
       "      <td>0.0</td>\n",
       "      <td>...</td>\n",
       "      <td>0.0</td>\n",
       "      <td>0.000000</td>\n",
       "      <td>0.000000</td>\n",
       "      <td>0.0</td>\n",
       "      <td>0.0</td>\n",
       "      <td>0.0</td>\n",
       "      <td>0.000000</td>\n",
       "      <td>0.0</td>\n",
       "      <td>0.000000</td>\n",
       "      <td>0.000000</td>\n",
       "    </tr>\n",
       "    <tr>\n",
       "      <th>&amp;ouml;lmstad</th>\n",
       "      <td>0</td>\n",
       "      <td>0.0</td>\n",
       "      <td>0.0</td>\n",
       "      <td>0.0000</td>\n",
       "      <td>0.021739</td>\n",
       "      <td>0.0</td>\n",
       "      <td>0.0</td>\n",
       "      <td>0.0</td>\n",
       "      <td>0.000000</td>\n",
       "      <td>0.0</td>\n",
       "      <td>...</td>\n",
       "      <td>0.0</td>\n",
       "      <td>0.000000</td>\n",
       "      <td>0.000000</td>\n",
       "      <td>0.0</td>\n",
       "      <td>0.0</td>\n",
       "      <td>0.0</td>\n",
       "      <td>0.000000</td>\n",
       "      <td>0.0</td>\n",
       "      <td>0.000000</td>\n",
       "      <td>0.000000</td>\n",
       "    </tr>\n",
       "    <tr>\n",
       "      <th>1-25 corridor</th>\n",
       "      <td>0</td>\n",
       "      <td>0.0</td>\n",
       "      <td>0.0</td>\n",
       "      <td>0.0000</td>\n",
       "      <td>0.000000</td>\n",
       "      <td>0.0</td>\n",
       "      <td>0.0</td>\n",
       "      <td>0.0</td>\n",
       "      <td>0.000000</td>\n",
       "      <td>0.0</td>\n",
       "      <td>...</td>\n",
       "      <td>0.0</td>\n",
       "      <td>0.000000</td>\n",
       "      <td>0.000000</td>\n",
       "      <td>0.0</td>\n",
       "      <td>0.0</td>\n",
       "      <td>0.0</td>\n",
       "      <td>0.000000</td>\n",
       "      <td>0.0</td>\n",
       "      <td>0.000000</td>\n",
       "      <td>0.000000</td>\n",
       "    </tr>\n",
       "    <tr>\n",
       "      <th>100 mile</th>\n",
       "      <td>0</td>\n",
       "      <td>0.0</td>\n",
       "      <td>0.0</td>\n",
       "      <td>0.0000</td>\n",
       "      <td>0.000000</td>\n",
       "      <td>0.0</td>\n",
       "      <td>0.0</td>\n",
       "      <td>0.0</td>\n",
       "      <td>0.000000</td>\n",
       "      <td>0.0</td>\n",
       "      <td>...</td>\n",
       "      <td>0.0</td>\n",
       "      <td>0.000000</td>\n",
       "      <td>0.000000</td>\n",
       "      <td>0.0</td>\n",
       "      <td>0.0</td>\n",
       "      <td>0.0</td>\n",
       "      <td>0.000000</td>\n",
       "      <td>0.0</td>\n",
       "      <td>0.000000</td>\n",
       "      <td>0.000000</td>\n",
       "    </tr>\n",
       "    <tr>\n",
       "      <th>...</th>\n",
       "      <td>...</td>\n",
       "      <td>...</td>\n",
       "      <td>...</td>\n",
       "      <td>...</td>\n",
       "      <td>...</td>\n",
       "      <td>...</td>\n",
       "      <td>...</td>\n",
       "      <td>...</td>\n",
       "      <td>...</td>\n",
       "      <td>...</td>\n",
       "      <td>...</td>\n",
       "      <td>...</td>\n",
       "      <td>...</td>\n",
       "      <td>...</td>\n",
       "      <td>...</td>\n",
       "      <td>...</td>\n",
       "      <td>...</td>\n",
       "      <td>...</td>\n",
       "      <td>...</td>\n",
       "      <td>...</td>\n",
       "      <td>...</td>\n",
       "    </tr>\n",
       "    <tr>\n",
       "      <th>Zuiddorpe</th>\n",
       "      <td>0</td>\n",
       "      <td>0.0</td>\n",
       "      <td>0.0</td>\n",
       "      <td>0.0000</td>\n",
       "      <td>0.000000</td>\n",
       "      <td>0.0</td>\n",
       "      <td>0.0</td>\n",
       "      <td>0.0</td>\n",
       "      <td>0.000000</td>\n",
       "      <td>0.0</td>\n",
       "      <td>...</td>\n",
       "      <td>0.0</td>\n",
       "      <td>0.000000</td>\n",
       "      <td>0.028571</td>\n",
       "      <td>0.0</td>\n",
       "      <td>0.0</td>\n",
       "      <td>0.0</td>\n",
       "      <td>0.000000</td>\n",
       "      <td>0.0</td>\n",
       "      <td>0.000000</td>\n",
       "      <td>0.000000</td>\n",
       "    </tr>\n",
       "    <tr>\n",
       "      <th>Zumbrota</th>\n",
       "      <td>0</td>\n",
       "      <td>0.0</td>\n",
       "      <td>0.0</td>\n",
       "      <td>0.0625</td>\n",
       "      <td>0.021739</td>\n",
       "      <td>0.0</td>\n",
       "      <td>0.0</td>\n",
       "      <td>0.0</td>\n",
       "      <td>0.000000</td>\n",
       "      <td>0.0</td>\n",
       "      <td>...</td>\n",
       "      <td>0.0</td>\n",
       "      <td>0.023256</td>\n",
       "      <td>0.000000</td>\n",
       "      <td>0.0</td>\n",
       "      <td>0.0</td>\n",
       "      <td>0.0</td>\n",
       "      <td>0.000000</td>\n",
       "      <td>0.0</td>\n",
       "      <td>0.000000</td>\n",
       "      <td>0.000000</td>\n",
       "    </tr>\n",
       "    <tr>\n",
       "      <th>Zutphen</th>\n",
       "      <td>0</td>\n",
       "      <td>0.0</td>\n",
       "      <td>0.0</td>\n",
       "      <td>0.0000</td>\n",
       "      <td>0.000000</td>\n",
       "      <td>0.0</td>\n",
       "      <td>0.0</td>\n",
       "      <td>0.0</td>\n",
       "      <td>0.000000</td>\n",
       "      <td>0.0</td>\n",
       "      <td>...</td>\n",
       "      <td>0.0</td>\n",
       "      <td>0.000000</td>\n",
       "      <td>0.000000</td>\n",
       "      <td>0.0</td>\n",
       "      <td>0.0</td>\n",
       "      <td>0.0</td>\n",
       "      <td>0.026316</td>\n",
       "      <td>0.0</td>\n",
       "      <td>0.000000</td>\n",
       "      <td>0.000000</td>\n",
       "    </tr>\n",
       "    <tr>\n",
       "      <th>Zwevegem</th>\n",
       "      <td>0</td>\n",
       "      <td>0.0</td>\n",
       "      <td>0.0</td>\n",
       "      <td>0.0000</td>\n",
       "      <td>0.000000</td>\n",
       "      <td>0.0</td>\n",
       "      <td>0.0</td>\n",
       "      <td>0.0</td>\n",
       "      <td>0.000000</td>\n",
       "      <td>0.0</td>\n",
       "      <td>...</td>\n",
       "      <td>0.0</td>\n",
       "      <td>0.000000</td>\n",
       "      <td>0.000000</td>\n",
       "      <td>0.0</td>\n",
       "      <td>0.0</td>\n",
       "      <td>0.0</td>\n",
       "      <td>0.000000</td>\n",
       "      <td>0.0</td>\n",
       "      <td>0.000000</td>\n",
       "      <td>0.029412</td>\n",
       "    </tr>\n",
       "    <tr>\n",
       "      <th>Zwolle</th>\n",
       "      <td>0</td>\n",
       "      <td>0.0</td>\n",
       "      <td>0.0</td>\n",
       "      <td>0.0000</td>\n",
       "      <td>0.000000</td>\n",
       "      <td>0.0</td>\n",
       "      <td>0.0</td>\n",
       "      <td>0.0</td>\n",
       "      <td>0.000000</td>\n",
       "      <td>0.0</td>\n",
       "      <td>...</td>\n",
       "      <td>0.0</td>\n",
       "      <td>0.023256</td>\n",
       "      <td>0.000000</td>\n",
       "      <td>0.0</td>\n",
       "      <td>0.0</td>\n",
       "      <td>0.0</td>\n",
       "      <td>0.000000</td>\n",
       "      <td>0.0</td>\n",
       "      <td>0.000000</td>\n",
       "      <td>0.000000</td>\n",
       "    </tr>\n",
       "  </tbody>\n",
       "</table>\n",
       "<p>18079 rows × 29 columns</p>\n",
       "</div>"
      ]
     },
     "execution_count": 167,
     "metadata": {},
     "output_type": "execute_result"
    }
   ],
   "execution_count": 167
  },
  {
   "metadata": {
    "ExecuteTime": {
     "end_time": "2025-03-11T02:36:34.310217Z",
     "start_time": "2025-03-11T02:36:34.288489Z"
    }
   },
   "cell_type": "code",
   "source": "cont_table2",
   "id": "38a8511556d37672",
   "outputs": [
    {
     "data": {
      "text/plain": [
       "Shape          Changed  Changing  Chevron  Cigar  Circle  Cone  Crescent  \\\n",
       "Country                                                                    \n",
       "Australia            0         9        3     15      62     6         0   \n",
       "Canada               0        69       36     74     284    10         0   \n",
       "Germany              0         2        1      3      10     0         0   \n",
       "Great Britain        0        46        8     60     243    13         0   \n",
       "United States        1      1584      815   1643    6118   247         1   \n",
       "\n",
       "Shape          Cross  Cylinder  Delta  ...  Light  Other  Oval  Pyramid  \\\n",
       "Country                                ...                                \n",
       "Australia          1         9      0  ...    119     40    30        0   \n",
       "Canada             9        53      1  ...    655    241   130        0   \n",
       "Germany            0         3      0  ...     20      9     7        0   \n",
       "Great Britain     10        30      0  ...    361    133    86        0   \n",
       "United States    188      1027      6  ...  13473   4466  3032        1   \n",
       "\n",
       "Shape          Rectangle  Round  Sphere  Teardrop  Triangle  Unknown  \n",
       "Country                                                               \n",
       "Australia             10      0      15        10        43       25  \n",
       "Canada                47      0     205        22       268      207  \n",
       "Germany                1      0       7         0         9        8  \n",
       "Great Britain         29      0     158        38       169       92  \n",
       "United States       1070      2    4347       592      6549     4567  \n",
       "\n",
       "[5 rows x 28 columns]"
      ],
      "text/html": [
       "<div>\n",
       "<style scoped>\n",
       "    .dataframe tbody tr th:only-of-type {\n",
       "        vertical-align: middle;\n",
       "    }\n",
       "\n",
       "    .dataframe tbody tr th {\n",
       "        vertical-align: top;\n",
       "    }\n",
       "\n",
       "    .dataframe thead th {\n",
       "        text-align: right;\n",
       "    }\n",
       "</style>\n",
       "<table border=\"1\" class=\"dataframe\">\n",
       "  <thead>\n",
       "    <tr style=\"text-align: right;\">\n",
       "      <th>Shape</th>\n",
       "      <th>Changed</th>\n",
       "      <th>Changing</th>\n",
       "      <th>Chevron</th>\n",
       "      <th>Cigar</th>\n",
       "      <th>Circle</th>\n",
       "      <th>Cone</th>\n",
       "      <th>Crescent</th>\n",
       "      <th>Cross</th>\n",
       "      <th>Cylinder</th>\n",
       "      <th>Delta</th>\n",
       "      <th>...</th>\n",
       "      <th>Light</th>\n",
       "      <th>Other</th>\n",
       "      <th>Oval</th>\n",
       "      <th>Pyramid</th>\n",
       "      <th>Rectangle</th>\n",
       "      <th>Round</th>\n",
       "      <th>Sphere</th>\n",
       "      <th>Teardrop</th>\n",
       "      <th>Triangle</th>\n",
       "      <th>Unknown</th>\n",
       "    </tr>\n",
       "    <tr>\n",
       "      <th>Country</th>\n",
       "      <th></th>\n",
       "      <th></th>\n",
       "      <th></th>\n",
       "      <th></th>\n",
       "      <th></th>\n",
       "      <th></th>\n",
       "      <th></th>\n",
       "      <th></th>\n",
       "      <th></th>\n",
       "      <th></th>\n",
       "      <th></th>\n",
       "      <th></th>\n",
       "      <th></th>\n",
       "      <th></th>\n",
       "      <th></th>\n",
       "      <th></th>\n",
       "      <th></th>\n",
       "      <th></th>\n",
       "      <th></th>\n",
       "      <th></th>\n",
       "      <th></th>\n",
       "    </tr>\n",
       "  </thead>\n",
       "  <tbody>\n",
       "    <tr>\n",
       "      <th>Australia</th>\n",
       "      <td>0</td>\n",
       "      <td>9</td>\n",
       "      <td>3</td>\n",
       "      <td>15</td>\n",
       "      <td>62</td>\n",
       "      <td>6</td>\n",
       "      <td>0</td>\n",
       "      <td>1</td>\n",
       "      <td>9</td>\n",
       "      <td>0</td>\n",
       "      <td>...</td>\n",
       "      <td>119</td>\n",
       "      <td>40</td>\n",
       "      <td>30</td>\n",
       "      <td>0</td>\n",
       "      <td>10</td>\n",
       "      <td>0</td>\n",
       "      <td>15</td>\n",
       "      <td>10</td>\n",
       "      <td>43</td>\n",
       "      <td>25</td>\n",
       "    </tr>\n",
       "    <tr>\n",
       "      <th>Canada</th>\n",
       "      <td>0</td>\n",
       "      <td>69</td>\n",
       "      <td>36</td>\n",
       "      <td>74</td>\n",
       "      <td>284</td>\n",
       "      <td>10</td>\n",
       "      <td>0</td>\n",
       "      <td>9</td>\n",
       "      <td>53</td>\n",
       "      <td>1</td>\n",
       "      <td>...</td>\n",
       "      <td>655</td>\n",
       "      <td>241</td>\n",
       "      <td>130</td>\n",
       "      <td>0</td>\n",
       "      <td>47</td>\n",
       "      <td>0</td>\n",
       "      <td>205</td>\n",
       "      <td>22</td>\n",
       "      <td>268</td>\n",
       "      <td>207</td>\n",
       "    </tr>\n",
       "    <tr>\n",
       "      <th>Germany</th>\n",
       "      <td>0</td>\n",
       "      <td>2</td>\n",
       "      <td>1</td>\n",
       "      <td>3</td>\n",
       "      <td>10</td>\n",
       "      <td>0</td>\n",
       "      <td>0</td>\n",
       "      <td>0</td>\n",
       "      <td>3</td>\n",
       "      <td>0</td>\n",
       "      <td>...</td>\n",
       "      <td>20</td>\n",
       "      <td>9</td>\n",
       "      <td>7</td>\n",
       "      <td>0</td>\n",
       "      <td>1</td>\n",
       "      <td>0</td>\n",
       "      <td>7</td>\n",
       "      <td>0</td>\n",
       "      <td>9</td>\n",
       "      <td>8</td>\n",
       "    </tr>\n",
       "    <tr>\n",
       "      <th>Great Britain</th>\n",
       "      <td>0</td>\n",
       "      <td>46</td>\n",
       "      <td>8</td>\n",
       "      <td>60</td>\n",
       "      <td>243</td>\n",
       "      <td>13</td>\n",
       "      <td>0</td>\n",
       "      <td>10</td>\n",
       "      <td>30</td>\n",
       "      <td>0</td>\n",
       "      <td>...</td>\n",
       "      <td>361</td>\n",
       "      <td>133</td>\n",
       "      <td>86</td>\n",
       "      <td>0</td>\n",
       "      <td>29</td>\n",
       "      <td>0</td>\n",
       "      <td>158</td>\n",
       "      <td>38</td>\n",
       "      <td>169</td>\n",
       "      <td>92</td>\n",
       "    </tr>\n",
       "    <tr>\n",
       "      <th>United States</th>\n",
       "      <td>1</td>\n",
       "      <td>1584</td>\n",
       "      <td>815</td>\n",
       "      <td>1643</td>\n",
       "      <td>6118</td>\n",
       "      <td>247</td>\n",
       "      <td>1</td>\n",
       "      <td>188</td>\n",
       "      <td>1027</td>\n",
       "      <td>6</td>\n",
       "      <td>...</td>\n",
       "      <td>13473</td>\n",
       "      <td>4466</td>\n",
       "      <td>3032</td>\n",
       "      <td>1</td>\n",
       "      <td>1070</td>\n",
       "      <td>2</td>\n",
       "      <td>4347</td>\n",
       "      <td>592</td>\n",
       "      <td>6549</td>\n",
       "      <td>4567</td>\n",
       "    </tr>\n",
       "  </tbody>\n",
       "</table>\n",
       "<p>5 rows × 28 columns</p>\n",
       "</div>"
      ]
     },
     "execution_count": 169,
     "metadata": {},
     "output_type": "execute_result"
    }
   ],
   "execution_count": 169
  },
  {
   "metadata": {
    "ExecuteTime": {
     "end_time": "2025-03-11T02:37:12.921830Z",
     "start_time": "2025-03-11T02:37:12.907820Z"
    }
   },
   "cell_type": "code",
   "source": [
    "cols_to_scale2 = cont_table2.columns[1:]\n",
    "df_scaled2 = cont_table2.copy()\n",
    "df_scaled2[cols_to_scale2] = scaler.fit_transform(df_scaled2[cols_to_scale2])"
   ],
   "id": "4690eb4ca7ccf471",
   "outputs": [],
   "execution_count": 170
  },
  {
   "metadata": {
    "ExecuteTime": {
     "end_time": "2025-03-11T02:38:00.992220Z",
     "start_time": "2025-03-11T02:38:00.960351Z"
    }
   },
   "cell_type": "code",
   "source": "df_scaled2",
   "id": "8673a72a0a90dadd",
   "outputs": [
    {
     "data": {
      "text/plain": [
       "Shape          Changed  Changing   Chevron     Cigar    Circle      Cone  \\\n",
       "Country                                                                    \n",
       "Australia            0  0.004425  0.002457  0.007317  0.008513  0.024291   \n",
       "Canada               0  0.042351  0.042998  0.043293  0.044859  0.040486   \n",
       "Germany              0  0.000000  0.000000  0.000000  0.000000  0.000000   \n",
       "Great Britain        0  0.027813  0.008600  0.034756  0.038147  0.052632   \n",
       "United States        1  1.000000  1.000000  1.000000  1.000000  1.000000   \n",
       "\n",
       "Shape          Crescent     Cross  Cylinder     Delta  ...     Light  \\\n",
       "Country                                                ...             \n",
       "Australia           0.0  0.005319  0.005859  0.000000  ...  0.007359   \n",
       "Canada              0.0  0.047872  0.048828  0.166667  ...  0.047201   \n",
       "Germany             0.0  0.000000  0.000000  0.000000  ...  0.000000   \n",
       "Great Britain       0.0  0.053191  0.026367  0.000000  ...  0.025348   \n",
       "United States       1.0  1.000000  1.000000  1.000000  ...  1.000000   \n",
       "\n",
       "Shape             Other      Oval  Pyramid  Rectangle  Round    Sphere  \\\n",
       "Country                                                                  \n",
       "Australia      0.006955  0.007603      0.0   0.008419    0.0  0.001843   \n",
       "Canada         0.052053  0.040661      0.0   0.043031    0.0  0.045622   \n",
       "Germany        0.000000  0.000000      0.0   0.000000    0.0  0.000000   \n",
       "Great Britain  0.027821  0.026116      0.0   0.026193    0.0  0.034793   \n",
       "United States  1.000000  1.000000      1.0   1.000000    1.0  1.000000   \n",
       "\n",
       "Shape          Teardrop  Triangle   Unknown  \n",
       "Country                                      \n",
       "Australia      0.016892  0.005199  0.003729  \n",
       "Canada         0.037162  0.039602  0.043650  \n",
       "Germany        0.000000  0.000000  0.000000  \n",
       "Great Britain  0.064189  0.024465  0.018425  \n",
       "United States  1.000000  1.000000  1.000000  \n",
       "\n",
       "[5 rows x 28 columns]"
      ],
      "text/html": [
       "<div>\n",
       "<style scoped>\n",
       "    .dataframe tbody tr th:only-of-type {\n",
       "        vertical-align: middle;\n",
       "    }\n",
       "\n",
       "    .dataframe tbody tr th {\n",
       "        vertical-align: top;\n",
       "    }\n",
       "\n",
       "    .dataframe thead th {\n",
       "        text-align: right;\n",
       "    }\n",
       "</style>\n",
       "<table border=\"1\" class=\"dataframe\">\n",
       "  <thead>\n",
       "    <tr style=\"text-align: right;\">\n",
       "      <th>Shape</th>\n",
       "      <th>Changed</th>\n",
       "      <th>Changing</th>\n",
       "      <th>Chevron</th>\n",
       "      <th>Cigar</th>\n",
       "      <th>Circle</th>\n",
       "      <th>Cone</th>\n",
       "      <th>Crescent</th>\n",
       "      <th>Cross</th>\n",
       "      <th>Cylinder</th>\n",
       "      <th>Delta</th>\n",
       "      <th>...</th>\n",
       "      <th>Light</th>\n",
       "      <th>Other</th>\n",
       "      <th>Oval</th>\n",
       "      <th>Pyramid</th>\n",
       "      <th>Rectangle</th>\n",
       "      <th>Round</th>\n",
       "      <th>Sphere</th>\n",
       "      <th>Teardrop</th>\n",
       "      <th>Triangle</th>\n",
       "      <th>Unknown</th>\n",
       "    </tr>\n",
       "    <tr>\n",
       "      <th>Country</th>\n",
       "      <th></th>\n",
       "      <th></th>\n",
       "      <th></th>\n",
       "      <th></th>\n",
       "      <th></th>\n",
       "      <th></th>\n",
       "      <th></th>\n",
       "      <th></th>\n",
       "      <th></th>\n",
       "      <th></th>\n",
       "      <th></th>\n",
       "      <th></th>\n",
       "      <th></th>\n",
       "      <th></th>\n",
       "      <th></th>\n",
       "      <th></th>\n",
       "      <th></th>\n",
       "      <th></th>\n",
       "      <th></th>\n",
       "      <th></th>\n",
       "      <th></th>\n",
       "    </tr>\n",
       "  </thead>\n",
       "  <tbody>\n",
       "    <tr>\n",
       "      <th>Australia</th>\n",
       "      <td>0</td>\n",
       "      <td>0.004425</td>\n",
       "      <td>0.002457</td>\n",
       "      <td>0.007317</td>\n",
       "      <td>0.008513</td>\n",
       "      <td>0.024291</td>\n",
       "      <td>0.0</td>\n",
       "      <td>0.005319</td>\n",
       "      <td>0.005859</td>\n",
       "      <td>0.000000</td>\n",
       "      <td>...</td>\n",
       "      <td>0.007359</td>\n",
       "      <td>0.006955</td>\n",
       "      <td>0.007603</td>\n",
       "      <td>0.0</td>\n",
       "      <td>0.008419</td>\n",
       "      <td>0.0</td>\n",
       "      <td>0.001843</td>\n",
       "      <td>0.016892</td>\n",
       "      <td>0.005199</td>\n",
       "      <td>0.003729</td>\n",
       "    </tr>\n",
       "    <tr>\n",
       "      <th>Canada</th>\n",
       "      <td>0</td>\n",
       "      <td>0.042351</td>\n",
       "      <td>0.042998</td>\n",
       "      <td>0.043293</td>\n",
       "      <td>0.044859</td>\n",
       "      <td>0.040486</td>\n",
       "      <td>0.0</td>\n",
       "      <td>0.047872</td>\n",
       "      <td>0.048828</td>\n",
       "      <td>0.166667</td>\n",
       "      <td>...</td>\n",
       "      <td>0.047201</td>\n",
       "      <td>0.052053</td>\n",
       "      <td>0.040661</td>\n",
       "      <td>0.0</td>\n",
       "      <td>0.043031</td>\n",
       "      <td>0.0</td>\n",
       "      <td>0.045622</td>\n",
       "      <td>0.037162</td>\n",
       "      <td>0.039602</td>\n",
       "      <td>0.043650</td>\n",
       "    </tr>\n",
       "    <tr>\n",
       "      <th>Germany</th>\n",
       "      <td>0</td>\n",
       "      <td>0.000000</td>\n",
       "      <td>0.000000</td>\n",
       "      <td>0.000000</td>\n",
       "      <td>0.000000</td>\n",
       "      <td>0.000000</td>\n",
       "      <td>0.0</td>\n",
       "      <td>0.000000</td>\n",
       "      <td>0.000000</td>\n",
       "      <td>0.000000</td>\n",
       "      <td>...</td>\n",
       "      <td>0.000000</td>\n",
       "      <td>0.000000</td>\n",
       "      <td>0.000000</td>\n",
       "      <td>0.0</td>\n",
       "      <td>0.000000</td>\n",
       "      <td>0.0</td>\n",
       "      <td>0.000000</td>\n",
       "      <td>0.000000</td>\n",
       "      <td>0.000000</td>\n",
       "      <td>0.000000</td>\n",
       "    </tr>\n",
       "    <tr>\n",
       "      <th>Great Britain</th>\n",
       "      <td>0</td>\n",
       "      <td>0.027813</td>\n",
       "      <td>0.008600</td>\n",
       "      <td>0.034756</td>\n",
       "      <td>0.038147</td>\n",
       "      <td>0.052632</td>\n",
       "      <td>0.0</td>\n",
       "      <td>0.053191</td>\n",
       "      <td>0.026367</td>\n",
       "      <td>0.000000</td>\n",
       "      <td>...</td>\n",
       "      <td>0.025348</td>\n",
       "      <td>0.027821</td>\n",
       "      <td>0.026116</td>\n",
       "      <td>0.0</td>\n",
       "      <td>0.026193</td>\n",
       "      <td>0.0</td>\n",
       "      <td>0.034793</td>\n",
       "      <td>0.064189</td>\n",
       "      <td>0.024465</td>\n",
       "      <td>0.018425</td>\n",
       "    </tr>\n",
       "    <tr>\n",
       "      <th>United States</th>\n",
       "      <td>1</td>\n",
       "      <td>1.000000</td>\n",
       "      <td>1.000000</td>\n",
       "      <td>1.000000</td>\n",
       "      <td>1.000000</td>\n",
       "      <td>1.000000</td>\n",
       "      <td>1.0</td>\n",
       "      <td>1.000000</td>\n",
       "      <td>1.000000</td>\n",
       "      <td>1.000000</td>\n",
       "      <td>...</td>\n",
       "      <td>1.000000</td>\n",
       "      <td>1.000000</td>\n",
       "      <td>1.000000</td>\n",
       "      <td>1.0</td>\n",
       "      <td>1.000000</td>\n",
       "      <td>1.0</td>\n",
       "      <td>1.000000</td>\n",
       "      <td>1.000000</td>\n",
       "      <td>1.000000</td>\n",
       "      <td>1.000000</td>\n",
       "    </tr>\n",
       "  </tbody>\n",
       "</table>\n",
       "<p>5 rows × 28 columns</p>\n",
       "</div>"
      ]
     },
     "execution_count": 172,
     "metadata": {},
     "output_type": "execute_result"
    }
   ],
   "execution_count": 172
  },
  {
   "metadata": {
    "ExecuteTime": {
     "end_time": "2025-03-11T02:40:22.849505Z",
     "start_time": "2025-03-11T02:40:22.822483Z"
    }
   },
   "cell_type": "code",
   "source": "chi3_stat, p3_value, dof3, expected3 = stats.chi2_contingency(df_scaled)",
   "id": "ac9cd91b628590fa",
   "outputs": [],
   "execution_count": 176
  },
  {
   "metadata": {
    "ExecuteTime": {
     "end_time": "2025-03-11T02:43:19.795803Z",
     "start_time": "2025-03-11T02:43:19.784186Z"
    }
   },
   "cell_type": "code",
   "source": "df_scaled2.iloc[:, 1:] += 0.00000000000001  # Add small constant to all numeric columns (except the first column)",
   "id": "a7bbee9ac8749ef1",
   "outputs": [],
   "execution_count": 182
  },
  {
   "metadata": {
    "ExecuteTime": {
     "end_time": "2025-03-11T02:43:20.405556Z",
     "start_time": "2025-03-11T02:43:20.395070Z"
    }
   },
   "cell_type": "code",
   "source": "chi4_stat, p4_value, dof4, expected4 = stats.chi2_contingency(df_scaled2, correction=True)",
   "id": "6772965c5d945555",
   "outputs": [],
   "execution_count": 183
  },
  {
   "metadata": {
    "ExecuteTime": {
     "end_time": "2025-03-11T02:43:42.577335Z",
     "start_time": "2025-03-11T02:43:42.565911Z"
    }
   },
   "cell_type": "code",
   "source": [
    "# Print results\n",
    "print(f\"Chi-Square Statistic: {chi3_stat}\")\n",
    "print(f\"P-value: {p3_value}\")\n",
    "print(f\"Degrees of Freedom: {dof3}\")"
   ],
   "id": "a245917211a2cc62",
   "outputs": [
    {
     "name": "stdout",
     "output_type": "stream",
     "text": [
      "Chi-Square Statistic: 29818.755420529244\n",
      "P-value: 1.0\n",
      "Degrees of Freedom: 506184\n"
     ]
    }
   ],
   "execution_count": 184
  },
  {
   "metadata": {
    "ExecuteTime": {
     "end_time": "2025-03-11T02:43:54.181332Z",
     "start_time": "2025-03-11T02:43:54.171372Z"
    }
   },
   "cell_type": "code",
   "source": [
    "# Print results\n",
    "print(f\"Chi-Square Statistic: {chi4_stat}\")\n",
    "print(f\"P-value: {p4_value}\")\n",
    "print(f\"Degrees of Freedom: {dof4}\")"
   ],
   "id": "84227e47e9213fbf",
   "outputs": [
    {
     "name": "stdout",
     "output_type": "stream",
     "text": [
      "Chi-Square Statistic: 1.149787576159178\n",
      "P-value: 1.0\n",
      "Degrees of Freedom: 108\n"
     ]
    }
   ],
   "execution_count": 185
  },
  {
   "metadata": {},
   "cell_type": "markdown",
   "source": "### Based on the Chi-Square, I can confirm there is no correlation between city/country with the shape of the UFO.",
   "id": "b4770927c4d91f71"
  }
 ],
 "metadata": {
  "kernelspec": {
   "display_name": "Python 3",
   "language": "python",
   "name": "python3"
  },
  "language_info": {
   "codemirror_mode": {
    "name": "ipython",
    "version": 2
   },
   "file_extension": ".py",
   "mimetype": "text/x-python",
   "name": "python",
   "nbconvert_exporter": "python",
   "pygments_lexer": "ipython2",
   "version": "2.7.6"
  }
 },
 "nbformat": 4,
 "nbformat_minor": 5
}
